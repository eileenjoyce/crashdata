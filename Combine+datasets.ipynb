{
 "cells": [
  {
   "cell_type": "code",
   "execution_count": 1,
   "metadata": {},
   "outputs": [
    {
     "name": "stderr",
     "output_type": "stream",
     "text": [
      "\n",
      "Attaching package: 'dplyr'\n",
      "\n",
      "The following objects are masked from 'package:stats':\n",
      "\n",
      "    filter, lag\n",
      "\n",
      "The following objects are masked from 'package:base':\n",
      "\n",
      "    intersect, setdiff, setequal, union\n",
      "\n"
     ]
    }
   ],
   "source": [
    "library(ggplot2)\n",
    "library(ggmap)\n",
    "library(maps)\n",
    "library(mapdata)\n",
    "library(dplyr)\n",
    "\n",
    "#read in crash data\n",
    "\n",
    "crash_2016 <- read.csv(\"Datasets/CRASH_2016_Statewide.csv\",\n",
    "                       encoding='latin-1')\n",
    "crash_2015 <- read.csv(\"Datasets/CRASH_2015_Statewide.csv\",\n",
    "                       encoding='latin-1')\n",
    "crash_2014 <- read.csv(\"Datasets/CRASH_2014_Statewide.csv\",\n",
    "                       encoding='latin-1')\n",
    "crash_2013 <- read.csv(\"Datasets/CRASH_2013_Statewide.csv\",\n",
    "                       encoding='latin-1')\n",
    "crash_2012 <- read.csv(\"Datasets/CRASH_2012_Statewide.csv\",\n",
    "                       encoding='latin-1')\n",
    "crash_2011 <- read.csv(\"Datasets/CRASH_2011_Statewide.csv\",\n",
    "                       encoding='latin-1')\n",
    "crash_2010 <- read.csv(\"Datasets/CRASH_2010_Statewide.csv\",\n",
    "                       encoding='latin-1')\n",
    "crash_2009 <- read.csv(\"Datasets/CRASH_2009_Statewide.csv\",\n",
    "                       encoding='latin-1')\n",
    "crash_2008 <- read.csv(\"Datasets/CRASH_2008_Statewide.csv\",\n",
    "                       encoding='latin-1')\n",
    "crash_2007 <- read.csv(\"Datasets/CRASH_2007_Statewide.csv\",\n",
    "                       encoding='latin-1')\n",
    "crash_2006 <- read.csv(\"Datasets/CRASH_2006_Statewide.csv\",\n",
    "                       encoding='latin-1')\n",
    "crash_2005 <- read.csv(\"Datasets/CRASH_2005_Statewide.csv\",\n",
    "                       encoding='latin-1')\n",
    "crash_2004 <- read.csv(\"Datasets/CRASH_2004_Statewide.csv\",\n",
    "                       encoding='latin-1')\n",
    "# crash_2003 <- read.csv(\"Datasets/CRASH_2003_Statewide.csv\",\n",
    "#                        encoding='latin-1')\n",
    "# crash_2002 <- read.csv(\"Datasets/CRASH_2002_Statewide.csv\",\n",
    "#                        encoding='latin-1')\n",
    "# crash_2001 <- read.csv(\"Datasets/CRASH_2001_Statewide.csv\",\n",
    "#                        encoding='latin-1')\n",
    "# crash_2000 <- read.csv(\"Datasets/CRASH_2000_Statewide.csv\",\n",
    "#                        encoding='latin-1')\n",
    "# crash_1999 <- read.csv(\"Datasets/CRASH_1999_Statewide.csv\",\n",
    "#                        encoding='latin-1')\n",
    "# crash_1998 <- read.csv(\"Datasets/CRASH_1998_Statewide.csv\",\n",
    "#                        encoding='latin-1')\n",
    "# crash_1997 <- read.csv(\"Datasets/CRASH_1997_Statewide.csv\",\n",
    "#                        encoding='latin-1')"
   ]
  },
  {
   "cell_type": "code",
   "execution_count": 2,
   "metadata": {
    "collapsed": true
   },
   "outputs": [],
   "source": [
    "#read in motorcycle crash data\n",
    "\n",
    "cycle_2016 <- read.csv(\"Datasets/CYCLE_2016_Statewide.csv\",\n",
    "                       encoding='latin-1')\n",
    "cycle_2015 <- read.csv(\"Datasets/CYCLE_2015_Statewide.csv\",\n",
    "                       encoding='latin-1')\n",
    "cycle_2014 <- read.csv(\"Datasets/CYCLE_2014_Statewide.csv\",\n",
    "                       encoding='latin-1')\n",
    "cycle_2013 <- read.csv(\"Datasets/CYCLE_2013_Statewide.csv\",\n",
    "                       encoding='latin-1')\n",
    "cycle_2012 <- read.csv(\"Datasets/CYCLE_2012_Statewide.csv\",\n",
    "                       encoding='latin-1')\n",
    "cycle_2011 <- read.csv(\"Datasets/CYCLE_2011_Statewide.csv\",\n",
    "                       encoding='latin-1')\n",
    "cycle_2010 <- read.csv(\"Datasets/CYCLE_2010_Statewide.csv\",\n",
    "                       encoding='latin-1')\n",
    "cycle_2009 <- read.csv(\"Datasets/CYCLE_2009_Statewide.csv\",\n",
    "                       encoding='latin-1')\n",
    "cycle_2008 <- read.csv(\"Datasets/CYCLE_2008_Statewide.csv\",\n",
    "                       encoding='latin-1')\n",
    "cycle_2007 <- read.csv(\"Datasets/CYCLE_2007_Statewide.csv\",\n",
    "                       encoding='latin-1')\n",
    "cycle_2006 <- read.csv(\"Datasets/CYCLE_2006_Statewide.csv\",\n",
    "                       encoding='latin-1')\n",
    "cycle_2005 <- read.csv(\"Datasets/CYCLE_2005_Statewide.csv\",\n",
    "                       encoding='latin-1')\n",
    "cycle_2004 <- read.csv(\"Datasets/CYCLE_2004_Statewide.csv\",\n",
    "                       encoding='latin-1')\n",
    "# cycle_2003 <- read.csv(\"Datasets/CYCLE_2003_Statewide.csv\",\n",
    "#                        encoding='latin-1')\n",
    "# cycle_2002 <- read.csv(\"Datasets/CYCLE_2002_Statewide.csv\",\n",
    "#                        encoding='latin-1')\n",
    "# cycle_2001 <- read.csv(\"Datasets/CYCLE_2001_Statewide.csv\",\n",
    "#                        encoding='latin-1')\n",
    "# cycle_2000 <- read.csv(\"Datasets/CYCLE_2000_Statewide.csv\",\n",
    "#                        encoding='latin-1')\n",
    "# cycle_1999 <- read.csv(\"Datasets/CYCLE_1999_Statewide.csv\",\n",
    "#                        encoding='latin-1')\n",
    "# cycle_1998 <- read.csv(\"Datasets/CYCLE_1998_Statewide.csv\",\n",
    "#                        encoding='latin-1')\n",
    "# cycle_1997 <- read.csv(\"Datasets/CYCLE_1997_Statewide.csv\",\n",
    "#                        encoding='latin-1')\n"
   ]
  },
  {
   "cell_type": "code",
   "execution_count": 3,
   "metadata": {
    "collapsed": true
   },
   "outputs": [],
   "source": [
    "#read in extra crash variable sets\n",
    "\n",
    "FLAG_2016 <- read.csv(\"Datasets/FLAG_2016_Statewide.csv\",\n",
    "                       encoding='latin-1')\n",
    "FLAG_2015 <- read.csv(\"Datasets/FLAG_2015_Statewide.csv\",\n",
    "                       encoding='latin-1')\n",
    "FLAG_2014 <- read.csv(\"Datasets/FLAG_2014_Statewide.csv\",\n",
    "                       encoding='latin-1')\n",
    "FLAG_2013 <- read.csv(\"Datasets/FLAG_2013_Statewide.csv\",\n",
    "                       encoding='latin-1')\n",
    "FLAG_2012 <- read.csv(\"Datasets/FLAG_2012_Statewide.csv\",\n",
    "                       encoding='latin-1')\n",
    "FLAG_2011 <- read.csv(\"Datasets/FLAG_2011_Statewide.csv\",\n",
    "                       encoding='latin-1')\n",
    "FLAG_2010 <- read.csv(\"Datasets/FLAG_2010_Statewide.csv\",\n",
    "                       encoding='latin-1')\n",
    "FLAG_2009 <- read.csv(\"Datasets/FLAG_2009_Statewide.csv\",\n",
    "                       encoding='latin-1')\n",
    "FLAG_2008 <- read.csv(\"Datasets/FLAG_2008_Statewide.csv\",\n",
    "                       encoding='latin-1')\n",
    "FLAG_2007 <- read.csv(\"Datasets/FLAG_2007_Statewide.csv\",\n",
    "                       encoding='latin-1')\n",
    "FLAG_2006 <- read.csv(\"Datasets/FLAG_2006_Statewide.csv\",\n",
    "                       encoding='latin-1')\n",
    "FLAG_2005 <- read.csv(\"Datasets/FLAG_2005_Statewide.csv\",\n",
    "                       encoding='latin-1')\n",
    "FLAG_2004 <- read.csv(\"Datasets/FLAG_2004_Statewide.csv\",\n",
    "                       encoding='latin-1')\n",
    "# FLAG_2003 <- read.csv(\"Datasets/FLAG_2003_Statewide.csv\",\n",
    "#                        encoding='latin-1')\n",
    "# FLAG_2002 <- read.csv(\"Datasets/FLAG_2002_Statewide.csv\",\n",
    "#                        encoding='latin-1')\n",
    "# FLAG_2001 <- read.csv(\"Datasets/FLAG_2001_Statewide.csv\",\n",
    "#                        encoding='latin-1')\n",
    "# FLAG_2000 <- read.csv(\"Datasets/FLAG_2000_Statewide.csv\",\n",
    "#                        encoding='latin-1')\n",
    "# FLAG_1999 <- read.csv(\"Datasets/FLAG_1999_Statewide.csv\",\n",
    "#                        encoding='latin-1')\n",
    "# FLAG_1998 <- read.csv(\"Datasets/FLAG_1998_Statewide.csv\",\n",
    "#                        encoding='latin-1')\n",
    "# FLAG_1997 <- read.csv(\"Datasets/FLAG_1997_Statewide.csv\",\n",
    "#                        encoding='latin-1')"
   ]
  },
  {
   "cell_type": "code",
   "execution_count": 4,
   "metadata": {
    "collapsed": true
   },
   "outputs": [],
   "source": [
    "#keep only a few columns from crash data\n",
    "\n",
    "# crash_1997 <- crash_1997[c(\"CRN\",\"MCYCLE_DEATH_COUNT\",\"MOTORCYCLE_COUNT\",\"FATAL_COUNT\",\"DEC_LAT\",\"DEC_LONG\")]\n",
    "# crash_1998 <- crash_1998[c(\"CRN\",\"MCYCLE_DEATH_COUNT\",\"MOTORCYCLE_COUNT\",\"FATAL_COUNT\",\"DEC_LAT\",\"DEC_LONG\")]\n",
    "# crash_1999 <- crash_1999[c(\"CRN\",\"MCYCLE_DEATH_COUNT\",\"MOTORCYCLE_COUNT\",\"FATAL_COUNT\",\"DEC_LAT\",\"DEC_LONG\")]\n",
    "# crash_2000 <- crash_2000[c(\"CRN\",\"MCYCLE_DEATH_COUNT\",\"MOTORCYCLE_COUNT\",\"FATAL_COUNT\",\"DEC_LAT\",\"DEC_LONG\")]\n",
    "# crash_2001 <- crash_2001[c(\"CRN\",\"MCYCLE_DEATH_COUNT\",\"MOTORCYCLE_COUNT\",\"FATAL_COUNT\",\"DEC_LAT\",\"DEC_LONG\")]\n",
    "# crash_2002 <- crash_2002[c(\"CRN\",\"MCYCLE_DEATH_COUNT\",\"MOTORCYCLE_COUNT\",\"FATAL_COUNT\",\"DEC_LAT\",\"DEC_LONG\")]\n",
    "# crash_2003 <- crash_2003[c(\"CRN\",\"MCYCLE_DEATH_COUNT\",\"MOTORCYCLE_COUNT\",\"FATAL_COUNT\",\"DEC_LAT\",\"DEC_LONG\")]\n",
    "crash_2004 <- crash_2004[c(\"CRN\",\"MCYCLE_DEATH_COUNT\",\"MOTORCYCLE_COUNT\",\"FATAL_COUNT\",\"DEC_LAT\",\"DEC_LONG\")]\n",
    "crash_2005 <- crash_2005[c(\"CRN\",\"MCYCLE_DEATH_COUNT\",\"MOTORCYCLE_COUNT\",\"FATAL_COUNT\",\"DEC_LAT\",\"DEC_LONG\")]\n",
    "crash_2006 <- crash_2006[c(\"CRN\",\"MCYCLE_DEATH_COUNT\",\"MOTORCYCLE_COUNT\",\"FATAL_COUNT\",\"DEC_LAT\",\"DEC_LONG\")]\n",
    "crash_2007 <- crash_2007[c(\"CRN\",\"MCYCLE_DEATH_COUNT\",\"MOTORCYCLE_COUNT\",\"FATAL_COUNT\",\"DEC_LAT\",\"DEC_LONG\")]\n",
    "crash_2008 <- crash_2008[c(\"CRN\",\"MCYCLE_DEATH_COUNT\",\"MOTORCYCLE_COUNT\",\"FATAL_COUNT\",\"DEC_LAT\",\"DEC_LONG\")]\n",
    "crash_2009 <- crash_2009[c(\"CRN\",\"MCYCLE_DEATH_COUNT\",\"MOTORCYCLE_COUNT\",\"FATAL_COUNT\",\"DEC_LAT\",\"DEC_LONG\")]\n",
    "crash_2010 <- crash_2010[c(\"CRN\",\"MCYCLE_DEATH_COUNT\",\"MOTORCYCLE_COUNT\",\"FATAL_COUNT\",\"DEC_LAT\",\"DEC_LONG\")]\n",
    "crash_2011 <- crash_2011[c(\"CRN\",\"MCYCLE_DEATH_COUNT\",\"MOTORCYCLE_COUNT\",\"FATAL_COUNT\",\"DEC_LAT\",\"DEC_LONG\")]\n",
    "crash_2012 <- crash_2012[c(\"CRN\",\"MCYCLE_DEATH_COUNT\",\"MOTORCYCLE_COUNT\",\"FATAL_COUNT\",\"DEC_LAT\",\"DEC_LONG\")]\n",
    "crash_2013 <- crash_2013[c(\"CRN\",\"MCYCLE_DEATH_COUNT\",\"MOTORCYCLE_COUNT\",\"FATAL_COUNT\",\"DEC_LAT\",\"DEC_LONG\")]\n",
    "crash_2014 <- crash_2014[c(\"CRN\",\"MCYCLE_DEATH_COUNT\",\"MOTORCYCLE_COUNT\",\"FATAL_COUNT\",\"DEC_LAT\",\"DEC_LONG\")]\n",
    "crash_2015 <- crash_2015[c(\"CRN\",\"MCYCLE_DEATH_COUNT\",\"MOTORCYCLE_COUNT\",\"FATAL_COUNT\",\"DEC_LAT\",\"DEC_LONG\")]\n",
    "crash_2016 <- crash_2016[c(\"CRN\",\"MCYCLE_DEATH_COUNT\",\"MOTORCYCLE_COUNT\",\"FATAL_COUNT\",\"DEC_LAT\",\"DEC_LONG\")]\n"
   ]
  },
  {
   "cell_type": "code",
   "execution_count": 5,
   "metadata": {
    "collapsed": true
   },
   "outputs": [],
   "source": [
    "#choose columns from motorcycle crash data\n",
    "\n",
    "abbv_cycle_2016 <- cycle_2016[c(\"CRN\",\"MC_PASSNGR_IND\",\"MC_DVR_HLMTON_IND\",\"MC_DVR_HLMTDOT_IND\",\"MC_DVR_HLMT_TYPE\",\"MC_PAS_HLMTON_IND\",\"MC_PAS_HLMTDOT_IND\",\"MC_PAS_HLMT_TYPE\")]\n",
    "abbv_cycle_2015 <- cycle_2015[c(\"CRN\",\"MC_PASSNGR_IND\",\"MC_DVR_HLMTON_IND\",\"MC_DVR_HLMTDOT_IND\",\"MC_DVR_HLMT_TYPE\",\"MC_PAS_HLMTON_IND\",\"MC_PAS_HLMTDOT_IND\",\"MC_PAS_HLMT_TYPE\")]\n",
    "abbv_cycle_2014 <- cycle_2014[c(\"CRN\",\"MC_PASSNGR_IND\",\"MC_DVR_HLMTON_IND\",\"MC_DVR_HLMTDOT_IND\",\"MC_DVR_HLMT_TYPE\",\"MC_PAS_HLMTON_IND\",\"MC_PAS_HLMTDOT_IND\",\"MC_PAS_HLMT_TYPE\")]\n",
    "abbv_cycle_2013 <- cycle_2013[c(\"CRN\",\"MC_PASSNGR_IND\",\"MC_DVR_HLMTON_IND\",\"MC_DVR_HLMTDOT_IND\",\"MC_DVR_HLMT_TYPE\",\"MC_PAS_HLMTON_IND\",\"MC_PAS_HLMTDOT_IND\",\"MC_PAS_HLMT_TYPE\")]\n",
    "abbv_cycle_2012 <- cycle_2012[c(\"CRN\",\"MC_PASSNGR_IND\",\"MC_DVR_HLMTON_IND\",\"MC_DVR_HLMTDOT_IND\",\"MC_DVR_HLMT_TYPE\",\"MC_PAS_HLMTON_IND\",\"MC_PAS_HLMTDOT_IND\",\"MC_PAS_HLMT_TYPE\")]\n",
    "abbv_cycle_2011 <- cycle_2011[c(\"CRN\",\"MC_PASSNGR_IND\",\"MC_DVR_HLMTON_IND\",\"MC_DVR_HLMTDOT_IND\",\"MC_DVR_HLMT_TYPE\",\"MC_PAS_HLMTON_IND\",\"MC_PAS_HLMTDOT_IND\",\"MC_PAS_HLMT_TYPE\")]\n",
    "abbv_cycle_2010 <- cycle_2010[c(\"CRN\",\"MC_PASSNGR_IND\",\"MC_DVR_HLMTON_IND\",\"MC_DVR_HLMTDOT_IND\",\"MC_DVR_HLMT_TYPE\",\"MC_PAS_HLMTON_IND\",\"MC_PAS_HLMTDOT_IND\",\"MC_PAS_HLMT_TYPE\")]\n",
    "abbv_cycle_2009 <- cycle_2009[c(\"CRN\",\"MC_PASSNGR_IND\",\"MC_DVR_HLMTON_IND\",\"MC_DVR_HLMTDOT_IND\",\"MC_DVR_HLMT_TYPE\",\"MC_PAS_HLMTON_IND\",\"MC_PAS_HLMTDOT_IND\",\"MC_PAS_HLMT_TYPE\")]\n",
    "abbv_cycle_2008 <- cycle_2008[c(\"CRN\",\"MC_PASSNGR_IND\",\"MC_DVR_HLMTON_IND\",\"MC_DVR_HLMTDOT_IND\",\"MC_DVR_HLMT_TYPE\",\"MC_PAS_HLMTON_IND\",\"MC_PAS_HLMTDOT_IND\",\"MC_PAS_HLMT_TYPE\")]\n",
    "abbv_cycle_2007 <- cycle_2007[c(\"CRN\",\"MC_PASSNGR_IND\",\"MC_DVR_HLMTON_IND\",\"MC_DVR_HLMTDOT_IND\",\"MC_DVR_HLMT_TYPE\",\"MC_PAS_HLMTON_IND\",\"MC_PAS_HLMTDOT_IND\",\"MC_PAS_HLMT_TYPE\")]\n",
    "abbv_cycle_2006 <- cycle_2006[c(\"CRN\",\"MC_PASSNGR_IND\",\"MC_DVR_HLMTON_IND\",\"MC_DVR_HLMTDOT_IND\",\"MC_DVR_HLMT_TYPE\",\"MC_PAS_HLMTON_IND\",\"MC_PAS_HLMTDOT_IND\",\"MC_PAS_HLMT_TYPE\")]\n",
    "abbv_cycle_2005 <- cycle_2005[c(\"CRN\",\"MC_PASSNGR_IND\",\"MC_DVR_HLMTON_IND\",\"MC_DVR_HLMTDOT_IND\",\"MC_DVR_HLMT_TYPE\",\"MC_PAS_HLMTON_IND\",\"MC_PAS_HLMTDOT_IND\",\"MC_PAS_HLMT_TYPE\")]\n",
    "abbv_cycle_2004 <- cycle_2004[c(\"CRN\",\"MC_PASSNGR_IND\",\"MC_DVR_HLMTON_IND\",\"MC_DVR_HLMTDOT_IND\",\"MC_DVR_HLMT_TYPE\",\"MC_PAS_HLMTON_IND\",\"MC_PAS_HLMTDOT_IND\",\"MC_PAS_HLMT_TYPE\")]\n",
    "# abbv_cycle_2003 <- cycle_2003[c(\"CRN\",\"MC_PASSNGR_IND\",\"MC_DVR_HLMTON_IND\",\"MC_DVR_HLMTDOT_IND\",\"MC_DVR_HLMT_TYPE\",\"MC_PAS_HLMTON_IND\",\"MC_PAS_HLMTDOT_IND\",\"MC_PAS_HLMT_TYPE\")]\n",
    "# abbv_cycle_2002 <- cycle_2002[c(\"CRN\",\"MC_PASSNGR_IND\",\"MC_DVR_HLMTON_IND\",\"MC_DVR_HLMTDOT_IND\",\"MC_DVR_HLMT_TYPE\",\"MC_PAS_HLMTON_IND\",\"MC_PAS_HLMTDOT_IND\",\"MC_PAS_HLMT_TYPE\")]\n",
    "# abbv_cycle_2001 <- cycle_2001[c(\"CRN\",\"MC_PASSNGR_IND\",\"MC_DVR_HLMTON_IND\",\"MC_DVR_HLMTDOT_IND\",\"MC_DVR_HLMT_TYPE\",\"MC_PAS_HLMTON_IND\",\"MC_PAS_HLMTDOT_IND\",\"MC_PAS_HLMT_TYPE\")]\n",
    "# abbv_cycle_2000 <- cycle_2000[c(\"CRN\",\"MC_PASSNGR_IND\",\"MC_DVR_HLMTON_IND\",\"MC_DVR_HLMTDOT_IND\",\"MC_DVR_HLMT_TYPE\",\"MC_PAS_HLMTON_IND\",\"MC_PAS_HLMTDOT_IND\",\"MC_PAS_HLMT_TYPE\")]\n",
    "# abbv_cycle_1999 <- cycle_1999[c(\"CRN\",\"MC_PASSNGR_IND\",\"MC_DVR_HLMTON_IND\",\"MC_DVR_HLMTDOT_IND\",\"MC_DVR_HLMT_TYPE\",\"MC_PAS_HLMTON_IND\",\"MC_PAS_HLMTDOT_IND\",\"MC_PAS_HLMT_TYPE\")]\n",
    "# abbv_cycle_1998 <- cycle_1998[c(\"CRN\",\"MC_PASSNGR_IND\",\"MC_DVR_HLMTON_IND\",\"MC_DVR_HLMTDOT_IND\",\"MC_DVR_HLMT_TYPE\",\"MC_PAS_HLMTON_IND\",\"MC_PAS_HLMTDOT_IND\",\"MC_PAS_HLMT_TYPE\")]\n",
    "# abbv_cycle_1997 <- cycle_1997[c(\"CRN\",\"MC_PASSNGR_IND\",\"MC_DVR_HLMTON_IND\",\"MC_DVR_HLMTDOT_IND\",\"MC_DVR_HLMT_TYPE\",\"MC_PAS_HLMTON_IND\",\"MC_PAS_HLMTDOT_IND\",\"MC_PAS_HLMT_TYPE\")]\n"
   ]
  },
  {
   "cell_type": "code",
   "execution_count": 6,
   "metadata": {},
   "outputs": [
    {
     "data": {
      "text/html": [
       "<table>\n",
       "<thead><tr><th scope=col>CRN</th><th scope=col>MCYCLE_DEATH_COUNT</th><th scope=col>MOTORCYCLE_COUNT</th><th scope=col>FATAL_COUNT</th><th scope=col>DEC_LAT</th><th scope=col>DEC_LONG</th></tr></thead>\n",
       "<tbody>\n",
       "\t<tr><td>2016000742</td><td>0         </td><td>0         </td><td>0         </td><td>40.0726   </td><td>-75.3467  </td></tr>\n",
       "\t<tr><td>2016004102</td><td>0         </td><td>0         </td><td>0         </td><td>40.2970   </td><td>-75.5208  </td></tr>\n",
       "\t<tr><td>2016004143</td><td>0         </td><td>0         </td><td>0         </td><td>40.4069   </td><td>-75.2592  </td></tr>\n",
       "\t<tr><td>2016004176</td><td>0         </td><td>0         </td><td>0         </td><td>40.2433   </td><td>-75.6200  </td></tr>\n",
       "\t<tr><td>2016005228</td><td>0         </td><td>0         </td><td>0         </td><td>40.9983   </td><td>-75.1506  </td></tr>\n",
       "\t<tr><td>2016008524</td><td>0         </td><td>0         </td><td>0         </td><td>41.5010   </td><td>-75.6246  </td></tr>\n",
       "</tbody>\n",
       "</table>\n"
      ],
      "text/latex": [
       "\\begin{tabular}{r|llllll}\n",
       " CRN & MCYCLE\\_DEATH\\_COUNT & MOTORCYCLE\\_COUNT & FATAL\\_COUNT & DEC\\_LAT & DEC\\_LONG\\\\\n",
       "\\hline\n",
       "\t 2016000742 & 0          & 0          & 0          & 40.0726    & -75.3467  \\\\\n",
       "\t 2016004102 & 0          & 0          & 0          & 40.2970    & -75.5208  \\\\\n",
       "\t 2016004143 & 0          & 0          & 0          & 40.4069    & -75.2592  \\\\\n",
       "\t 2016004176 & 0          & 0          & 0          & 40.2433    & -75.6200  \\\\\n",
       "\t 2016005228 & 0          & 0          & 0          & 40.9983    & -75.1506  \\\\\n",
       "\t 2016008524 & 0          & 0          & 0          & 41.5010    & -75.6246  \\\\\n",
       "\\end{tabular}\n"
      ],
      "text/markdown": [
       "\n",
       "CRN | MCYCLE_DEATH_COUNT | MOTORCYCLE_COUNT | FATAL_COUNT | DEC_LAT | DEC_LONG | \n",
       "|---|---|---|---|---|---|\n",
       "| 2016000742 | 0          | 0          | 0          | 40.0726    | -75.3467   | \n",
       "| 2016004102 | 0          | 0          | 0          | 40.2970    | -75.5208   | \n",
       "| 2016004143 | 0          | 0          | 0          | 40.4069    | -75.2592   | \n",
       "| 2016004176 | 0          | 0          | 0          | 40.2433    | -75.6200   | \n",
       "| 2016005228 | 0          | 0          | 0          | 40.9983    | -75.1506   | \n",
       "| 2016008524 | 0          | 0          | 0          | 41.5010    | -75.6246   | \n",
       "\n",
       "\n"
      ],
      "text/plain": [
       "  CRN        MCYCLE_DEATH_COUNT MOTORCYCLE_COUNT FATAL_COUNT DEC_LAT DEC_LONG\n",
       "1 2016000742 0                  0                0           40.0726 -75.3467\n",
       "2 2016004102 0                  0                0           40.2970 -75.5208\n",
       "3 2016004143 0                  0                0           40.4069 -75.2592\n",
       "4 2016004176 0                  0                0           40.2433 -75.6200\n",
       "5 2016005228 0                  0                0           40.9983 -75.1506\n",
       "6 2016008524 0                  0                0           41.5010 -75.6246"
      ]
     },
     "metadata": {},
     "output_type": "display_data"
    }
   ],
   "source": [
    "#combine crash year data\n",
    "total_crash = rbind(crash_2016,crash_2015,crash_2014,crash_2013,crash_2012,crash_2011,crash_2010,crash_2009,\n",
    "                    crash_2008,crash_2007,crash_2006,crash_2005,crash_2004)\n",
    "head(total_crash)\n",
    "\n",
    "# total_crash = rbind(crash_2016,crash_2015,crash_2014,crash_2013,crash_2012,crash_2011,crash_2010,crash_2009,\n",
    "#                     crash_2008,crash_2007,crash_2006,crash_2005,crash_2004,crash_2003,crash_2002,crash_2001,\n",
    "#                     crash_1999,crash_1998,crash_1997)"
   ]
  },
  {
   "cell_type": "code",
   "execution_count": 7,
   "metadata": {
    "collapsed": true
   },
   "outputs": [],
   "source": [
    "#combine multiple years of motorcycle data\n",
    "total_cycle = rbind(abbv_cycle_2016,abbv_cycle_2015,abbv_cycle_2014,abbv_cycle_2013,abbv_cycle_2012,abbv_cycle_2011,abbv_cycle_2010,abbv_cycle_2009,\n",
    "                    abbv_cycle_2008,abbv_cycle_2007,abbv_cycle_2006,abbv_cycle_2005,abbv_cycle_2004)\n",
    "\n",
    "# total_cycle = rbind(abbv_cycle_2016,abbv_cycle_2015,abbv_cycle_2014,abbv_cycle_2013,abbv_cycle_2012,abbv_cycle_2011,abbv_cycle_2010,abbv_cycle_2009,\n",
    "#                     abbv_cycle_2008,abbv_cycle_2007,abbv_cycle_2006,abbv_cycle_2005,abbv_cycle_2004,abbv_cycle_2003,\n",
    "#                     abbv_cycle_2002,abbv_cycle_2001,abbv_cycle_2000,abbv_cycle_1999,abbv_cycle_1998,abbv_cycle_1997)"
   ]
  },
  {
   "cell_type": "code",
   "execution_count": 8,
   "metadata": {
    "collapsed": true
   },
   "outputs": [],
   "source": [
    "#combine multiple years of FLAG data\n",
    "total_FLAG = rbind(FLAG_2016,FLAG_2015,FLAG_2014,FLAG_2013,FLAG_2012,FLAG_2011,FLAG_2010,FLAG_2009,\n",
    "                    FLAG_2008,FLAG_2007,FLAG_2006,FLAG_2005,FLAG_2004)\n",
    "#head(total_FLAG)\n",
    "\n",
    "# total_FLAG = rbind(FLAG_2016,FLAG_2015,FLAG_2014,FLAG_2013,FLAG_2012,FLAG_2011,FLAG_2010,FLAG_2009,\n",
    "#                     FLAG_2008,FLAG_2007,FLAG_2006,FLAG_2005,FLAG_2004,FLAG_2003,FLAG_2002,FLAG_2001,\n",
    "#                     FLAG_2000,FLAG_1999,FLAG_1998,FLAG_1997)\n",
    "# head(total_FLAG)"
   ]
  },
  {
   "cell_type": "code",
   "execution_count": 9,
   "metadata": {
    "collapsed": true
   },
   "outputs": [],
   "source": [
    "#combine crash and cycle data by crash number\n",
    "total_crash <- merge(total_crash,total_cycle,by=\"CRN\")"
   ]
  },
  {
   "cell_type": "code",
   "execution_count": 10,
   "metadata": {
    "collapsed": true
   },
   "outputs": [],
   "source": [
    "#add FLAG data by crash number\n",
    "total_crash <- merge(total_crash,total_FLAG,by=\"CRN\")\n",
    "#head(total_crash)\n",
    "write.csv(total_crash, file = \"post2003cycle_flag.csv\")"
   ]
  },
  {
   "cell_type": "code",
   "execution_count": null,
   "metadata": {
    "collapsed": true
   },
   "outputs": [],
   "source": [
    "# total_crash$MC_PASSNGR_IND = total_cycle[match(total_crash$CRN, total_cycle$CRN, total_FLAG$CRN),\"MC_PASSNGR_IND\"] \n",
    "# total_crash$MC_DVR_HLMTON_IND = total_cycle[match(total_crash$CRN, total_cycle$CRN, total_FLAG$CRN),\"MC_DVR_HLMTON_IND\"] \n",
    "# total_crash$MC_DVR_HLMTDOT_IND = total_cycle[match(total_crash$CRN, total_cycle$CRN, total_FLAG$CRN),\"MC_DVR_HLMTDOT_IND\"] \n",
    "# total_crash$MC_DVR_HLMT_TYPE = total_cycle[match(total_crash$CRN, total_cycle$CRN, total_FLAG$CRN),\"MC_DVR_HLMT_TYPE\"] \n",
    "# total_crash$MC_PAS_HLMTON_IND = total_cycle[match(total_crash$CRN, total_cycle$CRN, total_FLAG$CRN),\"MC_PAS_HLMTON_IND\"] \n",
    "# total_crash$MC_PAS_HLMTDOT_IND = total_cycle[match(total_crash$CRN, total_cycle$CRN, total_FLAG$CRN),\"MC_PAS_HLMTDOT_IND\"] \n",
    "# total_crash$MC_PAS_HLMT_TYPE = total_cycle[match(total_crash$CRN, total_cycle$CRN, total_FLAG$CRN),\"MC_PAS_HLMT_TYPE\"] \n",
    "\n",
    "# #write.csv(total_crash, file = \"yrkcycle.csv\")\n",
    "\n",
    "\n",
    "# head(total_crash)\n",
    "# summary(total_crash)\n",
    "#str(total_crash)\n"
   ]
  }
 ],
 "metadata": {
  "kernelspec": {
   "display_name": "R",
   "language": "R",
   "name": "ir"
  },
  "language_info": {
   "codemirror_mode": "r",
   "file_extension": ".r",
   "mimetype": "text/x-r-source",
   "name": "R",
   "pygments_lexer": "r",
   "version": "3.4.1"
  }
 },
 "nbformat": 4,
 "nbformat_minor": 2
}
