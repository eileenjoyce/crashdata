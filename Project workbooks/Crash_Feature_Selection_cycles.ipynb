{
 "cells": [
  {
   "cell_type": "markdown",
   "metadata": {},
   "source": [
    "## Selecting features using Pearson's chi squared"
   ]
  },
  {
   "cell_type": "markdown",
   "metadata": {},
   "source": [
    "This notebook is the only one I did in Python. It will select the most correlated variables to fatal crashes out of the more than 100 categorical variables in my dataset. I added helmet data to the set, too.\n",
    "\n",
    "I also ran this test using only crashes since 2004 to see if that affected the helmet data (helmetless v. helmeted crashes weren't well documented before 2004) but using only post-2004 data did not change the variables selected."
   ]
  },
  {
   "cell_type": "code",
   "execution_count": 11,
   "metadata": {
    "collapsed": true
   },
   "outputs": [],
   "source": [
    "#load libraries to use in the notebook\n",
    "import os, sys\n",
    "import numpy as np\n",
    "import pandas as pd\n",
    "from sklearn.feature_selection import SelectKBest\n",
    "from sklearn.feature_selection import chi2\n",
    "from sklearn.feature_selection import f_regression\n",
    "from sklearn.feature_selection import mutual_info_classif\n",
    "from sklearn.linear_model import LinearRegression\n",
    "from sklearn.naive_bayes import GaussianNB\n",
    "from sklearn.feature_selection import RFE\n",
    "from sklearn.base import clone"
   ]
  },
  {
   "cell_type": "code",
   "execution_count": 12,
   "metadata": {
    "collapsed": true
   },
   "outputs": [],
   "source": [
    "# Dataset location\n",
    "DATASET = 'Datasets/cycle_flag.csv'\n",
    "assert os.path.exists(DATASET)\n",
    "\n",
    "# # Load and shuffle\n",
    "dataset = pd.read_csv(DATASET, sep=',').sample(frac = 1).reset_index(drop=True)\n",
    "dataset.drop(['Unnamed: 0', 'CRN', 'FATAL_OR_MAJ_INJ','CRASH_YEAR','COUNTY','MUNICIPALITY','COUNTY_YEAR','MOTORCYCLE_COUNT',\n",
    "              'FATAL_COUNT','MCYCLE_DEATH_COUNT','DEC_LAT','DEC_LONG','PSP_REPORTED','MC_DVR_HLMT_TYPE','MC_PAS_HLMT_TYPE','MC_PAS_HLMTON_IND'], axis=1, inplace=True)\n",
    "\n",
    "\n"
   ]
  },
  {
   "cell_type": "code",
   "execution_count": 4,
   "metadata": {},
   "outputs": [
    {
     "data": {
      "text/plain": [
       "{dtype('int64'): Index(['INTERSTATE', 'STATE_ROAD', 'LOCAL_ROAD', 'LOCAL_ROAD_ONLY', 'TURNPIKE',\n",
       "        'WET_ROAD', 'SNOW_SLUSH_ROAD', 'ICY_ROAD', 'SUDDEN_DEER',\n",
       "        'SHLDR_RELATED', 'REAR_END', 'HO_OPPDIR_SDSWP', 'HIT_FIXED_OBJECT',\n",
       "        'SV_RUN_OFF_RD', 'WORK_ZONE', 'PROPERTY_DAMAGE_ONLY', 'INJURY_OR_FATAL',\n",
       "        'INJURY', 'FATAL', 'NON_INTERSECTION', 'INTERSECTION', 'SIGNALIZED_INT',\n",
       "        'STOP_CONTROLLED_INT', 'UNSIGNALIZED_INT', 'SCHOOL_BUS', 'SCHOOL_ZONE',\n",
       "        'HIT_DEER', 'HIT_TREE_SHRUB', 'HIT_EMBANKMENT', 'HIT_POLE',\n",
       "        'HIT_GDRAIL', 'HIT_GDRAIL_END', 'HIT_BARRIER', 'HIT_BRIDGE',\n",
       "        'OVERTURNED', 'MOTORCYCLE', 'BICYCLE', 'HVY_TRUCK_RELATED',\n",
       "        'VEHICLE_FAILURE', 'TRAIN_TROLLEY', 'PHANTOM_VEHICLE',\n",
       "        'ALCOHOL_RELATED', 'DRINKING_DRIVER', 'UNDERAGE_DRNK_DRV', 'UNLICENSED',\n",
       "        'DISTRACTED', 'CELL_PHONE', 'NO_CLEARANCE', 'RUNNING_RED_LT',\n",
       "        'TAILGATING', 'CROSS_MEDIAN', 'CURVED_ROAD', 'CURVE_DVR_ERROR',\n",
       "        'LIMIT_65MPH', 'SPEEDING', 'SPEEDING_RELATED', 'AGGRESSIVE_DRIVING',\n",
       "        'FATIGUE_ASLEEP', 'DRIVER_16YR', 'DRIVER_17YR', 'DRIVER_18YR',\n",
       "        'DRIVER_19YR', 'DRIVER_20YR', 'DRIVER_50_64YR', 'DRIVER_65_74YR',\n",
       "        'DRIVER_75PLUS', 'UNBELTED', 'PEDESTRIAN', 'COMM_VEHICLE',\n",
       "        'NHTSA_AGG_DRIVING', 'DEER_RELATED', 'ILLUMINATION_DARK',\n",
       "        'RUNNING_STOP_SIGN', 'TRAIN', 'TROLLEY', 'HIT_PARKED_VEHICLE',\n",
       "        'FIRE_IN_VEHICLE', 'VEHICLE_TOWED', 'HAZARDOUS_TRUCK', 'MAJOR_INJURY',\n",
       "        'MODERATE_INJURY', 'MINOR_INJURY', 'MC_DRINKING_DRIVER', 'DRUG_RELATED',\n",
       "        'ILLEGAL_DRUG_RELATED', 'SCHOOL_BUS_UNIT', 'DRUGGED_DRIVER',\n",
       "        'IMPAIRED_DRIVER'],\n",
       "       dtype='object'),\n",
       " dtype('O'): Index(['MC_PASSNGR_IND', 'MC_DVR_HLMTON_IND', 'MC_DVR_HLMTDOT_IND',\n",
       "        'MC_PAS_HLMTDOT_IND'],\n",
       "       dtype='object')}"
      ]
     },
     "execution_count": 4,
     "metadata": {},
     "output_type": "execute_result"
    }
   ],
   "source": [
    "#eplore variable types. The chi squared test only works on numeric variables\n",
    "g = dataset.columns.to_series().groupby(dataset.dtypes).groups\n",
    "g"
   ]
  },
  {
   "cell_type": "markdown",
   "metadata": {},
   "source": [
    "Below I'm one-hot encoding the helmet variable to make it into seperate binary columns. that allows me to work with it like the other binary variables in the dataset."
   ]
  },
  {
   "cell_type": "code",
   "execution_count": 13,
   "metadata": {
    "collapsed": true
   },
   "outputs": [],
   "source": [
    "dataset = pd.get_dummies(dataset, columns=[\"MC_DVR_HLMTON_IND\"])"
   ]
  },
  {
   "cell_type": "code",
   "execution_count": 14,
   "metadata": {
    "collapsed": true
   },
   "outputs": [],
   "source": [
    "#now that the helmet variable has been broken into new columns, remove the old variable and some other unnecessary columns\n",
    "\n",
    "dataset.drop(['MC_PASSNGR_IND', 'MC_DVR_HLMTDOT_IND', 'MC_PAS_HLMTDOT_IND','MINOR_INJURY','MODERATE_INJURY','MAJOR_INJURY'], axis=1, inplace=True)"
   ]
  },
  {
   "cell_type": "code",
   "execution_count": null,
   "metadata": {
    "collapsed": true
   },
   "outputs": [],
   "source": [
    "#look over the data to check that the one hot columns look ok\n",
    "dataset.describe()"
   ]
  },
  {
   "cell_type": "code",
   "execution_count": 15,
   "metadata": {},
   "outputs": [
    {
     "name": "stdout",
     "output_type": "stream",
     "text": [
      "dataset.shape (101773, 89)\n",
      "X (101773, 88) y (101773,)\n",
      "Label distribution: {0: 97853, 1: 3920}\n"
     ]
    }
   ],
   "source": [
    "# # View some metadata of the dataset and see if that makes sense\n",
    "print('dataset.shape', dataset.shape)\n",
    "\n",
    "#split the dataset into x and y with x being all the data except fatalities and y being my target variable 'FATAL'\n",
    "X = np.array(dataset.loc[:, dataset.columns != 'FATAL'])\n",
    "y = np.array(dataset.FATAL)\n",
    "\n",
    "#print the size and shape of selected data\n",
    "print('X', X.shape, 'y', y.shape)\n",
    "print('Label distribution:', {i: np.sum(y==i) for i in np.unique(dataset.FATAL)})"
   ]
  },
  {
   "cell_type": "code",
   "execution_count": 16,
   "metadata": {},
   "outputs": [
    {
     "name": "stdout",
     "output_type": "stream",
     "text": [
      "χ² statistic [  2.10288341e+01   1.89747964e+02   2.93082545e+02   3.42505896e+02\n",
      "   1.29112805e+00   2.15173981e+01   9.83788182e-02   4.48456713e-01\n",
      "   5.87527139e+00   3.84681829e+00   2.45889653e+01   2.39226507e+02\n",
      "   6.63186421e+02   1.15401672e+02   9.17742942e-01   1.53870806e+02\n",
      "   1.81060348e+01   1.78925925e+03   1.89236188e+02   2.25679350e+02\n",
      "   8.29324793e+01   7.67908054e+01   1.43772327e+02   3.41118885e+00\n",
      "   6.21018716e+00   2.45432657e+00   8.21483316e+02   2.51875022e+02\n",
      "   1.07658764e+03   6.75672119e+02   1.46663556e+02   5.11170011e+01\n",
      "   7.59367732e+01   6.66651954e-01   3.30088203e+02   6.87566959e+02\n",
      "   2.91888189e+02   2.08619669e+01   3.23136110e+00   8.96633527e+00\n",
      "   3.41187907e+03   3.65002788e+03   5.80902605e+01   1.73150261e+00\n",
      "   8.32844890e+00   3.02308137e-02   3.88942387e+00   9.17728327e+00\n",
      "   8.17365406e-01   2.12978905e+03   7.64374037e+02   4.50554029e+02\n",
      "   1.65603795e+01   2.46287979e+03   1.82193136e+03   3.73101129e+02\n",
      "   7.56817717e+00   5.86927140e-01   3.29596537e-01   3.17771210e-02\n",
      "   2.03083749e+00   9.03984607e+00   6.36404055e+01   2.69869303e+01\n",
      "   1.34586195e+01   2.32123687e+01   1.54214048e-01   2.56584227e+02\n",
      "   8.31065527e+02   6.91796384e+00   3.25515884e+02   2.25502812e+00\n",
      "   1.40818269e+01   4.00600901e-01   6.06099002e+00   4.93220576e+02\n",
      "   1.44883635e+03   6.93194460e+01   3.48441317e+03   1.41355446e+03\n",
      "   5.20984888e+02   4.55271352e-01   1.55709781e+03   4.27243500e+03\n",
      "   4.11594039e+02   1.43873603e+03   1.58788200e+00   9.24523733e+00]\n",
      "Selected indices [40 41 53 78 83]\n"
     ]
    }
   ],
   "source": [
    "#run the pearson's chi squared test. the selected indicies at the bottom are the variables the test has chosen\n",
    "\n",
    "selector = SelectKBest(chi2, k=5)\n",
    "selector.fit(X, y)\n",
    "print('χ² statistic', selector.scores_)\n",
    "print('Selected indices', selector.get_support(True))"
   ]
  },
  {
   "cell_type": "code",
   "execution_count": 17,
   "metadata": {},
   "outputs": [
    {
     "data": {
      "text/plain": [
       "['PHANTOM_VEHICLE',\n",
       " 'ALCOHOL_RELATED',\n",
       " 'LIMIT_65MPH',\n",
       " 'HAZARDOUS_TRUCK',\n",
       " 'DRUGGED_DRIVER']"
      ]
     },
     "execution_count": 17,
     "metadata": {},
     "output_type": "execute_result"
    }
   ],
   "source": [
    "#Get the variable names of the selected indices\n",
    "\n",
    "X_selected = selector.transform(X)\n",
    "\n",
    "[dataset.columns[i] for i in selector.get_support(True)]\n"
   ]
  },
  {
   "cell_type": "markdown",
   "metadata": {},
   "source": [
    "So now I have the five most correlated variables that I can explore further. In the matrix and regression notebook, I will run a regression to test the selected features."
   ]
  }
 ],
 "metadata": {
  "kernelspec": {
   "display_name": "Python 3",
   "language": "python",
   "name": "python3"
  },
  "language_info": {
   "codemirror_mode": {
    "name": "ipython",
    "version": 3
   },
   "file_extension": ".py",
   "mimetype": "text/x-python",
   "name": "python",
   "nbconvert_exporter": "python",
   "pygments_lexer": "ipython3",
   "version": "3.4.5"
  }
 },
 "nbformat": 4,
 "nbformat_minor": 2
}
