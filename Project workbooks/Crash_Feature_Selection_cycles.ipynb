{
 "cells": [
  {
   "cell_type": "code",
   "execution_count": 11,
   "metadata": {
    "collapsed": true
   },
   "outputs": [],
   "source": [
    "import os, sys\n",
    "import numpy as np\n",
    "import pandas as pd\n",
    "from sklearn.feature_selection import SelectKBest\n",
    "from sklearn.feature_selection import chi2\n",
    "from sklearn.feature_selection import f_regression\n",
    "from sklearn.feature_selection import mutual_info_classif\n",
    "from sklearn.linear_model import LinearRegression\n",
    "from sklearn.naive_bayes import GaussianNB\n",
    "from sklearn.feature_selection import RFE\n",
    "from sklearn.base import clone"
   ]
  },
  {
   "cell_type": "code",
   "execution_count": 12,
   "metadata": {},
   "outputs": [],
   "source": [
    "# Dataset location\n",
    "DATASET = 'Datasets/cycle_flag.csv'\n",
    "assert os.path.exists(DATASET)\n",
    "\n",
    "# # Load and shuffle\n",
    "dataset = pd.read_csv(DATASET, sep=',').sample(frac = 1).reset_index(drop=True)\n",
    "dataset.drop(['Unnamed: 0', 'CRN', 'FATAL_OR_MAJ_INJ','CRASH_YEAR','COUNTY','MUNICIPALITY','COUNTY_YEAR','MOTORCYCLE_COUNT',\n",
    "              'FATAL_COUNT','MCYCLE_DEATH_COUNT','DEC_LAT','DEC_LONG','PSP_REPORTED','MC_DVR_HLMT_TYPE','MC_PAS_HLMT_TYPE','MC_PAS_HLMTON_IND'], axis=1, inplace=True)\n",
    "\n",
    "\n"
   ]
  },
  {
   "cell_type": "code",
   "execution_count": 4,
   "metadata": {},
   "outputs": [
    {
     "data": {
      "text/plain": [
       "{dtype('int64'): Index(['INTERSTATE', 'STATE_ROAD', 'LOCAL_ROAD', 'LOCAL_ROAD_ONLY', 'TURNPIKE',\n",
       "        'WET_ROAD', 'SNOW_SLUSH_ROAD', 'ICY_ROAD', 'SUDDEN_DEER',\n",
       "        'SHLDR_RELATED', 'REAR_END', 'HO_OPPDIR_SDSWP', 'HIT_FIXED_OBJECT',\n",
       "        'SV_RUN_OFF_RD', 'WORK_ZONE', 'PROPERTY_DAMAGE_ONLY', 'INJURY_OR_FATAL',\n",
       "        'INJURY', 'FATAL', 'NON_INTERSECTION', 'INTERSECTION', 'SIGNALIZED_INT',\n",
       "        'STOP_CONTROLLED_INT', 'UNSIGNALIZED_INT', 'SCHOOL_BUS', 'SCHOOL_ZONE',\n",
       "        'HIT_DEER', 'HIT_TREE_SHRUB', 'HIT_EMBANKMENT', 'HIT_POLE',\n",
       "        'HIT_GDRAIL', 'HIT_GDRAIL_END', 'HIT_BARRIER', 'HIT_BRIDGE',\n",
       "        'OVERTURNED', 'MOTORCYCLE', 'BICYCLE', 'HVY_TRUCK_RELATED',\n",
       "        'VEHICLE_FAILURE', 'TRAIN_TROLLEY', 'PHANTOM_VEHICLE',\n",
       "        'ALCOHOL_RELATED', 'DRINKING_DRIVER', 'UNDERAGE_DRNK_DRV', 'UNLICENSED',\n",
       "        'DISTRACTED', 'CELL_PHONE', 'NO_CLEARANCE', 'RUNNING_RED_LT',\n",
       "        'TAILGATING', 'CROSS_MEDIAN', 'CURVED_ROAD', 'CURVE_DVR_ERROR',\n",
       "        'LIMIT_65MPH', 'SPEEDING', 'SPEEDING_RELATED', 'AGGRESSIVE_DRIVING',\n",
       "        'FATIGUE_ASLEEP', 'DRIVER_16YR', 'DRIVER_17YR', 'DRIVER_18YR',\n",
       "        'DRIVER_19YR', 'DRIVER_20YR', 'DRIVER_50_64YR', 'DRIVER_65_74YR',\n",
       "        'DRIVER_75PLUS', 'UNBELTED', 'PEDESTRIAN', 'COMM_VEHICLE',\n",
       "        'NHTSA_AGG_DRIVING', 'DEER_RELATED', 'ILLUMINATION_DARK',\n",
       "        'RUNNING_STOP_SIGN', 'TRAIN', 'TROLLEY', 'HIT_PARKED_VEHICLE',\n",
       "        'FIRE_IN_VEHICLE', 'VEHICLE_TOWED', 'HAZARDOUS_TRUCK', 'MAJOR_INJURY',\n",
       "        'MODERATE_INJURY', 'MINOR_INJURY', 'MC_DRINKING_DRIVER', 'DRUG_RELATED',\n",
       "        'ILLEGAL_DRUG_RELATED', 'SCHOOL_BUS_UNIT', 'DRUGGED_DRIVER',\n",
       "        'IMPAIRED_DRIVER'],\n",
       "       dtype='object'),\n",
       " dtype('O'): Index(['MC_PASSNGR_IND', 'MC_DVR_HLMTON_IND', 'MC_DVR_HLMTDOT_IND',\n",
       "        'MC_PAS_HLMTDOT_IND'],\n",
       "       dtype='object')}"
      ]
     },
     "execution_count": 4,
     "metadata": {},
     "output_type": "execute_result"
    }
   ],
   "source": [
    "g = dataset.columns.to_series().groupby(dataset.dtypes).groups\n",
    "g"
   ]
  },
  {
   "cell_type": "code",
   "execution_count": 13,
   "metadata": {
    "collapsed": true
   },
   "outputs": [],
   "source": [
    "dataset = pd.get_dummies(dataset, columns=[\"MC_DVR_HLMTON_IND\"])"
   ]
  },
  {
   "cell_type": "code",
   "execution_count": 14,
   "metadata": {
    "collapsed": true
   },
   "outputs": [],
   "source": [
    "dataset.drop(['MC_PASSNGR_IND', 'MC_DVR_HLMTDOT_IND', 'MC_PAS_HLMTDOT_IND','MINOR_INJURY','MODERATE_INJURY','MAJOR_INJURY'], axis=1, inplace=True)\n"
   ]
  },
  {
   "cell_type": "code",
   "execution_count": 54,
   "metadata": {
    "collapsed": true
   },
   "outputs": [],
   "source": [
    "#dataset.iloc[:,np.r_[:,:]]\n",
    "\n",
    "#dataset.loc[:, dataset.columns != 'FATAL']"
   ]
  },
  {
   "cell_type": "code",
   "execution_count": 15,
   "metadata": {},
   "outputs": [
    {
     "name": "stdout",
     "output_type": "stream",
     "text": [
      "dataset.shape (101773, 89)\n",
      "X (101773, 88) y (101773,)\n",
      "Label distribution: {0: 97853, 1: 3920}\n"
     ]
    }
   ],
   "source": [
    "# # View some metadata of the dataset and see if that makes sense\n",
    "print('dataset.shape', dataset.shape)\n",
    "\n",
    "X = np.array(dataset.loc[:, dataset.columns != 'FATAL'])\n",
    "y = np.array(dataset.FATAL)\n",
    "\n",
    "print('X', X.shape, 'y', y.shape)\n",
    "print('Label distribution:', {i: np.sum(y==i) for i in np.unique(dataset.FATAL)})"
   ]
  },
  {
   "cell_type": "code",
   "execution_count": 8,
   "metadata": {},
   "outputs": [
    {
     "data": {
      "text/html": [
       "<div>\n",
       "<style>\n",
       "    .dataframe thead tr:only-child th {\n",
       "        text-align: right;\n",
       "    }\n",
       "\n",
       "    .dataframe thead th {\n",
       "        text-align: left;\n",
       "    }\n",
       "\n",
       "    .dataframe tbody tr th {\n",
       "        vertical-align: top;\n",
       "    }\n",
       "</style>\n",
       "<table border=\"1\" class=\"dataframe\">\n",
       "  <thead>\n",
       "    <tr style=\"text-align: right;\">\n",
       "      <th></th>\n",
       "      <th>INTERSTATE</th>\n",
       "      <th>STATE_ROAD</th>\n",
       "      <th>LOCAL_ROAD</th>\n",
       "      <th>LOCAL_ROAD_ONLY</th>\n",
       "      <th>TURNPIKE</th>\n",
       "      <th>WET_ROAD</th>\n",
       "      <th>SNOW_SLUSH_ROAD</th>\n",
       "      <th>ICY_ROAD</th>\n",
       "      <th>SUDDEN_DEER</th>\n",
       "      <th>SHLDR_RELATED</th>\n",
       "      <th>...</th>\n",
       "      <th>MC_DRINKING_DRIVER</th>\n",
       "      <th>DRUG_RELATED</th>\n",
       "      <th>ILLEGAL_DRUG_RELATED</th>\n",
       "      <th>SCHOOL_BUS_UNIT</th>\n",
       "      <th>DRUGGED_DRIVER</th>\n",
       "      <th>IMPAIRED_DRIVER</th>\n",
       "      <th>MC_DVR_HLMTON_IND_</th>\n",
       "      <th>MC_DVR_HLMTON_IND_N</th>\n",
       "      <th>MC_DVR_HLMTON_IND_U</th>\n",
       "      <th>MC_DVR_HLMTON_IND_Y</th>\n",
       "    </tr>\n",
       "  </thead>\n",
       "  <tbody>\n",
       "    <tr>\n",
       "      <th>count</th>\n",
       "      <td>67414.000000</td>\n",
       "      <td>67414.000000</td>\n",
       "      <td>67414.000000</td>\n",
       "      <td>67414.000000</td>\n",
       "      <td>67414.000000</td>\n",
       "      <td>67414.000000</td>\n",
       "      <td>67414.000000</td>\n",
       "      <td>67414.000000</td>\n",
       "      <td>67414.000000</td>\n",
       "      <td>67414.000000</td>\n",
       "      <td>...</td>\n",
       "      <td>67414.000000</td>\n",
       "      <td>67414.000000</td>\n",
       "      <td>67414.000000</td>\n",
       "      <td>67414.000000</td>\n",
       "      <td>67414.000000</td>\n",
       "      <td>67414.000000</td>\n",
       "      <td>67414.000000</td>\n",
       "      <td>67414.000000</td>\n",
       "      <td>67414.000000</td>\n",
       "      <td>67414.000000</td>\n",
       "    </tr>\n",
       "    <tr>\n",
       "      <th>mean</th>\n",
       "      <td>0.028926</td>\n",
       "      <td>0.666479</td>\n",
       "      <td>0.536209</td>\n",
       "      <td>0.328760</td>\n",
       "      <td>0.004361</td>\n",
       "      <td>0.053565</td>\n",
       "      <td>0.000727</td>\n",
       "      <td>0.001483</td>\n",
       "      <td>0.037752</td>\n",
       "      <td>0.002937</td>\n",
       "      <td>...</td>\n",
       "      <td>0.073115</td>\n",
       "      <td>0.014463</td>\n",
       "      <td>0.005904</td>\n",
       "      <td>0.001187</td>\n",
       "      <td>0.012994</td>\n",
       "      <td>0.090604</td>\n",
       "      <td>0.322322</td>\n",
       "      <td>0.176180</td>\n",
       "      <td>0.156466</td>\n",
       "      <td>0.345032</td>\n",
       "    </tr>\n",
       "    <tr>\n",
       "      <th>std</th>\n",
       "      <td>0.167599</td>\n",
       "      <td>0.471474</td>\n",
       "      <td>0.498691</td>\n",
       "      <td>0.469766</td>\n",
       "      <td>0.065895</td>\n",
       "      <td>0.225158</td>\n",
       "      <td>0.026951</td>\n",
       "      <td>0.038486</td>\n",
       "      <td>0.190597</td>\n",
       "      <td>0.054116</td>\n",
       "      <td>...</td>\n",
       "      <td>0.260328</td>\n",
       "      <td>0.119390</td>\n",
       "      <td>0.076610</td>\n",
       "      <td>0.034428</td>\n",
       "      <td>0.113250</td>\n",
       "      <td>0.287048</td>\n",
       "      <td>0.467369</td>\n",
       "      <td>0.380976</td>\n",
       "      <td>0.363299</td>\n",
       "      <td>0.475382</td>\n",
       "    </tr>\n",
       "    <tr>\n",
       "      <th>min</th>\n",
       "      <td>0.000000</td>\n",
       "      <td>0.000000</td>\n",
       "      <td>0.000000</td>\n",
       "      <td>0.000000</td>\n",
       "      <td>0.000000</td>\n",
       "      <td>0.000000</td>\n",
       "      <td>0.000000</td>\n",
       "      <td>0.000000</td>\n",
       "      <td>0.000000</td>\n",
       "      <td>0.000000</td>\n",
       "      <td>...</td>\n",
       "      <td>0.000000</td>\n",
       "      <td>0.000000</td>\n",
       "      <td>0.000000</td>\n",
       "      <td>0.000000</td>\n",
       "      <td>0.000000</td>\n",
       "      <td>0.000000</td>\n",
       "      <td>0.000000</td>\n",
       "      <td>0.000000</td>\n",
       "      <td>0.000000</td>\n",
       "      <td>0.000000</td>\n",
       "    </tr>\n",
       "    <tr>\n",
       "      <th>25%</th>\n",
       "      <td>0.000000</td>\n",
       "      <td>0.000000</td>\n",
       "      <td>0.000000</td>\n",
       "      <td>0.000000</td>\n",
       "      <td>0.000000</td>\n",
       "      <td>0.000000</td>\n",
       "      <td>0.000000</td>\n",
       "      <td>0.000000</td>\n",
       "      <td>0.000000</td>\n",
       "      <td>0.000000</td>\n",
       "      <td>...</td>\n",
       "      <td>0.000000</td>\n",
       "      <td>0.000000</td>\n",
       "      <td>0.000000</td>\n",
       "      <td>0.000000</td>\n",
       "      <td>0.000000</td>\n",
       "      <td>0.000000</td>\n",
       "      <td>0.000000</td>\n",
       "      <td>0.000000</td>\n",
       "      <td>0.000000</td>\n",
       "      <td>0.000000</td>\n",
       "    </tr>\n",
       "    <tr>\n",
       "      <th>50%</th>\n",
       "      <td>0.000000</td>\n",
       "      <td>1.000000</td>\n",
       "      <td>1.000000</td>\n",
       "      <td>0.000000</td>\n",
       "      <td>0.000000</td>\n",
       "      <td>0.000000</td>\n",
       "      <td>0.000000</td>\n",
       "      <td>0.000000</td>\n",
       "      <td>0.000000</td>\n",
       "      <td>0.000000</td>\n",
       "      <td>...</td>\n",
       "      <td>0.000000</td>\n",
       "      <td>0.000000</td>\n",
       "      <td>0.000000</td>\n",
       "      <td>0.000000</td>\n",
       "      <td>0.000000</td>\n",
       "      <td>0.000000</td>\n",
       "      <td>0.000000</td>\n",
       "      <td>0.000000</td>\n",
       "      <td>0.000000</td>\n",
       "      <td>0.000000</td>\n",
       "    </tr>\n",
       "    <tr>\n",
       "      <th>75%</th>\n",
       "      <td>0.000000</td>\n",
       "      <td>1.000000</td>\n",
       "      <td>1.000000</td>\n",
       "      <td>1.000000</td>\n",
       "      <td>0.000000</td>\n",
       "      <td>0.000000</td>\n",
       "      <td>0.000000</td>\n",
       "      <td>0.000000</td>\n",
       "      <td>0.000000</td>\n",
       "      <td>0.000000</td>\n",
       "      <td>...</td>\n",
       "      <td>0.000000</td>\n",
       "      <td>0.000000</td>\n",
       "      <td>0.000000</td>\n",
       "      <td>0.000000</td>\n",
       "      <td>0.000000</td>\n",
       "      <td>0.000000</td>\n",
       "      <td>1.000000</td>\n",
       "      <td>0.000000</td>\n",
       "      <td>0.000000</td>\n",
       "      <td>1.000000</td>\n",
       "    </tr>\n",
       "    <tr>\n",
       "      <th>max</th>\n",
       "      <td>1.000000</td>\n",
       "      <td>1.000000</td>\n",
       "      <td>1.000000</td>\n",
       "      <td>1.000000</td>\n",
       "      <td>1.000000</td>\n",
       "      <td>1.000000</td>\n",
       "      <td>1.000000</td>\n",
       "      <td>1.000000</td>\n",
       "      <td>1.000000</td>\n",
       "      <td>1.000000</td>\n",
       "      <td>...</td>\n",
       "      <td>1.000000</td>\n",
       "      <td>1.000000</td>\n",
       "      <td>1.000000</td>\n",
       "      <td>1.000000</td>\n",
       "      <td>1.000000</td>\n",
       "      <td>1.000000</td>\n",
       "      <td>1.000000</td>\n",
       "      <td>1.000000</td>\n",
       "      <td>1.000000</td>\n",
       "      <td>1.000000</td>\n",
       "    </tr>\n",
       "  </tbody>\n",
       "</table>\n",
       "<p>8 rows × 89 columns</p>\n",
       "</div>"
      ],
      "text/plain": [
       "         INTERSTATE    STATE_ROAD    LOCAL_ROAD  LOCAL_ROAD_ONLY  \\\n",
       "count  67414.000000  67414.000000  67414.000000     67414.000000   \n",
       "mean       0.028926      0.666479      0.536209         0.328760   \n",
       "std        0.167599      0.471474      0.498691         0.469766   \n",
       "min        0.000000      0.000000      0.000000         0.000000   \n",
       "25%        0.000000      0.000000      0.000000         0.000000   \n",
       "50%        0.000000      1.000000      1.000000         0.000000   \n",
       "75%        0.000000      1.000000      1.000000         1.000000   \n",
       "max        1.000000      1.000000      1.000000         1.000000   \n",
       "\n",
       "           TURNPIKE      WET_ROAD  SNOW_SLUSH_ROAD      ICY_ROAD  \\\n",
       "count  67414.000000  67414.000000     67414.000000  67414.000000   \n",
       "mean       0.004361      0.053565         0.000727      0.001483   \n",
       "std        0.065895      0.225158         0.026951      0.038486   \n",
       "min        0.000000      0.000000         0.000000      0.000000   \n",
       "25%        0.000000      0.000000         0.000000      0.000000   \n",
       "50%        0.000000      0.000000         0.000000      0.000000   \n",
       "75%        0.000000      0.000000         0.000000      0.000000   \n",
       "max        1.000000      1.000000         1.000000      1.000000   \n",
       "\n",
       "        SUDDEN_DEER  SHLDR_RELATED         ...           MC_DRINKING_DRIVER  \\\n",
       "count  67414.000000   67414.000000         ...                 67414.000000   \n",
       "mean       0.037752       0.002937         ...                     0.073115   \n",
       "std        0.190597       0.054116         ...                     0.260328   \n",
       "min        0.000000       0.000000         ...                     0.000000   \n",
       "25%        0.000000       0.000000         ...                     0.000000   \n",
       "50%        0.000000       0.000000         ...                     0.000000   \n",
       "75%        0.000000       0.000000         ...                     0.000000   \n",
       "max        1.000000       1.000000         ...                     1.000000   \n",
       "\n",
       "       DRUG_RELATED  ILLEGAL_DRUG_RELATED  SCHOOL_BUS_UNIT  DRUGGED_DRIVER  \\\n",
       "count  67414.000000          67414.000000     67414.000000    67414.000000   \n",
       "mean       0.014463              0.005904         0.001187        0.012994   \n",
       "std        0.119390              0.076610         0.034428        0.113250   \n",
       "min        0.000000              0.000000         0.000000        0.000000   \n",
       "25%        0.000000              0.000000         0.000000        0.000000   \n",
       "50%        0.000000              0.000000         0.000000        0.000000   \n",
       "75%        0.000000              0.000000         0.000000        0.000000   \n",
       "max        1.000000              1.000000         1.000000        1.000000   \n",
       "\n",
       "       IMPAIRED_DRIVER  MC_DVR_HLMTON_IND_   MC_DVR_HLMTON_IND_N  \\\n",
       "count     67414.000000         67414.000000         67414.000000   \n",
       "mean          0.090604             0.322322             0.176180   \n",
       "std           0.287048             0.467369             0.380976   \n",
       "min           0.000000             0.000000             0.000000   \n",
       "25%           0.000000             0.000000             0.000000   \n",
       "50%           0.000000             0.000000             0.000000   \n",
       "75%           0.000000             1.000000             0.000000   \n",
       "max           1.000000             1.000000             1.000000   \n",
       "\n",
       "       MC_DVR_HLMTON_IND_U  MC_DVR_HLMTON_IND_Y  \n",
       "count         67414.000000         67414.000000  \n",
       "mean              0.156466             0.345032  \n",
       "std               0.363299             0.475382  \n",
       "min               0.000000             0.000000  \n",
       "25%               0.000000             0.000000  \n",
       "50%               0.000000             0.000000  \n",
       "75%               0.000000             1.000000  \n",
       "max               1.000000             1.000000  \n",
       "\n",
       "[8 rows x 89 columns]"
      ]
     },
     "execution_count": 8,
     "metadata": {},
     "output_type": "execute_result"
    }
   ],
   "source": [
    "#dataset.drop(['Unnamed: 0', 'CRN', 'FATAL_OR_MAJ_INJ'], axis=1, inplace=True)\n",
    "\n",
    "dataset.describe()"
   ]
  },
  {
   "cell_type": "code",
   "execution_count": null,
   "metadata": {
    "collapsed": true
   },
   "outputs": [],
   "source": []
  },
  {
   "cell_type": "code",
   "execution_count": null,
   "metadata": {
    "collapsed": true
   },
   "outputs": [],
   "source": [
    "\n"
   ]
  },
  {
   "cell_type": "code",
   "execution_count": 16,
   "metadata": {},
   "outputs": [
    {
     "name": "stdout",
     "output_type": "stream",
     "text": [
      "χ² statistic [  2.10288341e+01   1.89747964e+02   2.93082545e+02   3.42505896e+02\n",
      "   1.29112805e+00   2.15173981e+01   9.83788182e-02   4.48456713e-01\n",
      "   5.87527139e+00   3.84681829e+00   2.45889653e+01   2.39226507e+02\n",
      "   6.63186421e+02   1.15401672e+02   9.17742942e-01   1.53870806e+02\n",
      "   1.81060348e+01   1.78925925e+03   1.89236188e+02   2.25679350e+02\n",
      "   8.29324793e+01   7.67908054e+01   1.43772327e+02   3.41118885e+00\n",
      "   6.21018716e+00   2.45432657e+00   8.21483316e+02   2.51875022e+02\n",
      "   1.07658764e+03   6.75672119e+02   1.46663556e+02   5.11170011e+01\n",
      "   7.59367732e+01   6.66651954e-01   3.30088203e+02   6.87566959e+02\n",
      "   2.91888189e+02   2.08619669e+01   3.23136110e+00   8.96633527e+00\n",
      "   3.41187907e+03   3.65002788e+03   5.80902605e+01   1.73150261e+00\n",
      "   8.32844890e+00   3.02308137e-02   3.88942387e+00   9.17728327e+00\n",
      "   8.17365406e-01   2.12978905e+03   7.64374037e+02   4.50554029e+02\n",
      "   1.65603795e+01   2.46287979e+03   1.82193136e+03   3.73101129e+02\n",
      "   7.56817717e+00   5.86927140e-01   3.29596537e-01   3.17771210e-02\n",
      "   2.03083749e+00   9.03984607e+00   6.36404055e+01   2.69869303e+01\n",
      "   1.34586195e+01   2.32123687e+01   1.54214048e-01   2.56584227e+02\n",
      "   8.31065527e+02   6.91796384e+00   3.25515884e+02   2.25502812e+00\n",
      "   1.40818269e+01   4.00600901e-01   6.06099002e+00   4.93220576e+02\n",
      "   1.44883635e+03   6.93194460e+01   3.48441317e+03   1.41355446e+03\n",
      "   5.20984888e+02   4.55271352e-01   1.55709781e+03   4.27243500e+03\n",
      "   4.11594039e+02   1.43873603e+03   1.58788200e+00   9.24523733e+00]\n",
      "Selected indices [40 41 53 78 83]\n"
     ]
    }
   ],
   "source": [
    "selector = SelectKBest(chi2, k=5)\n",
    "selector.fit(X, y)\n",
    "print('χ² statistic', selector.scores_)\n",
    "print('Selected indices', selector.get_support(True))"
   ]
  },
  {
   "cell_type": "code",
   "execution_count": 17,
   "metadata": {},
   "outputs": [
    {
     "data": {
      "text/plain": [
       "['PHANTOM_VEHICLE',\n",
       " 'ALCOHOL_RELATED',\n",
       " 'LIMIT_65MPH',\n",
       " 'HAZARDOUS_TRUCK',\n",
       " 'DRUGGED_DRIVER']"
      ]
     },
     "execution_count": 17,
     "metadata": {},
     "output_type": "execute_result"
    }
   ],
   "source": [
    "#dataset.iloc[:,[40,41,53,81,85]]\n",
    "X_selected = selector.transform(X)\n",
    "\n",
    "[dataset.columns[i] for i in selector.get_support(True)]\n"
   ]
  },
  {
   "cell_type": "code",
   "execution_count": 11,
   "metadata": {},
   "outputs": [
    {
     "name": "stderr",
     "output_type": "stream",
     "text": [
      "/usr/lib64/python3.4/importlib/_bootstrap.py:321: FutureWarning: The pandas.core.datetools module is deprecated and will be removed in a future version. Please use the pandas.tseries module instead.\n",
      "  return f(*args, **kwds)\n"
     ]
    },
    {
     "name": "stdout",
     "output_type": "stream",
     "text": [
      "Optimization terminated successfully.\n",
      "         Current function value: 0.662384\n",
      "         Iterations 7\n",
      "                           Logit Regression Results                           \n",
      "==============================================================================\n",
      "Dep. Variable:                      y   No. Observations:                96508\n",
      "Model:                          Logit   Df Residuals:                    96503\n",
      "Method:                           MLE   Df Model:                            4\n",
      "Date:                Sun, 04 Mar 2018   Pseudo R-squ.:                  -3.034\n",
      "Time:                        13:42:29   Log-Likelihood:                -63925.\n",
      "converged:                       True   LL-Null:                       -15846.\n",
      "                                        LLR p-value:                     1.000\n",
      "==============================================================================\n",
      "                 coef    std err          z      P>|z|      [0.025      0.975]\n",
      "------------------------------------------------------------------------------\n",
      "x1            -2.9605      0.187    -15.812      0.000      -3.327      -2.594\n",
      "x2             1.9029      0.232      8.217      0.000       1.449       2.357\n",
      "x3            -1.2878      0.039    -32.642      0.000      -1.365      -1.210\n",
      "x4             0.4378      0.094      4.633      0.000       0.253       0.623\n",
      "x5            -0.8210      0.104     -7.923      0.000      -1.024      -0.618\n",
      "==============================================================================\n"
     ]
    }
   ],
   "source": [
    "import statsmodels.api as sm\n",
    "logit_model=sm.Logit(y,X_selected)\n",
    "result=logit_model.fit()\n",
    "print(result.summary())"
   ]
  },
  {
   "cell_type": "code",
   "execution_count": 31,
   "metadata": {},
   "outputs": [
    {
     "ename": "AttributeError",
     "evalue": "'SelectKBest' object has no attribute 'TestIndependence'",
     "output_type": "error",
     "traceback": [
      "\u001b[0;31m---------------------------------------------------------------------------\u001b[0m",
      "\u001b[0;31mAttributeError\u001b[0m                            Traceback (most recent call last)",
      "\u001b[0;32m<ipython-input-31-b8b9c28bc3d9>\u001b[0m in \u001b[0;36m<module>\u001b[0;34m()\u001b[0m\n\u001b[1;32m      1\u001b[0m \u001b[0mtestColumns\u001b[0m \u001b[0;34m=\u001b[0m \u001b[0;34m[\u001b[0m\u001b[0;34m'PHANTOM_VEHICLE'\u001b[0m\u001b[0;34m,\u001b[0m\u001b[0;34m'ALCOHOL_RELATED'\u001b[0m\u001b[0;34m,\u001b[0m\u001b[0;34m'LIMIT_65MPH'\u001b[0m\u001b[0;34m,\u001b[0m\u001b[0;34m'HAZARDOUS_TRUCK'\u001b[0m\u001b[0;34m,\u001b[0m\u001b[0;34m'DRUGGED_DRIVER'\u001b[0m\u001b[0;34m]\u001b[0m\u001b[0;34m\u001b[0m\u001b[0m\n\u001b[1;32m      2\u001b[0m \u001b[0;32mfor\u001b[0m \u001b[0mvar\u001b[0m \u001b[0;32min\u001b[0m \u001b[0mtestColumns\u001b[0m\u001b[0;34m:\u001b[0m\u001b[0;34m\u001b[0m\u001b[0m\n\u001b[0;32m----> 3\u001b[0;31m     \u001b[0mselector\u001b[0m\u001b[0;34m.\u001b[0m\u001b[0mTestIndependence\u001b[0m\u001b[0;34m(\u001b[0m\u001b[0mcolX\u001b[0m\u001b[0;34m=\u001b[0m\u001b[0mvar\u001b[0m\u001b[0;34m,\u001b[0m\u001b[0mcolY\u001b[0m\u001b[0;34m=\u001b[0m\u001b[0;34m\"Survived\"\u001b[0m \u001b[0;34m)\u001b[0m\u001b[0;34m\u001b[0m\u001b[0m\n\u001b[0m",
      "\u001b[0;31mAttributeError\u001b[0m: 'SelectKBest' object has no attribute 'TestIndependence'"
     ]
    }
   ],
   "source": [
    "testColumns = ['PHANTOM_VEHICLE','ALCOHOL_RELATED','LIMIT_65MPH','HAZARDOUS_TRUCK','DRUGGED_DRIVER']\n",
    "for var in testColumns:\n",
    "    selector.TestIndependence(colX=var,colY=\"Survived\" )  "
   ]
  },
  {
   "cell_type": "code",
   "execution_count": 10,
   "metadata": {},
   "outputs": [
    {
     "name": "stdout",
     "output_type": "stream",
     "text": [
      "10-fold cross validation average accuracy: 0.961\n"
     ]
    }
   ],
   "source": [
    "from sklearn import model_selection\n",
    "from sklearn.model_selection import cross_val_score\n",
    "from sklearn.linear_model import LogisticRegression\n",
    "\n",
    "kfold = model_selection.KFold(n_splits=10, random_state=7)\n",
    "modelCV = LogisticRegression()\n",
    "scoring = 'accuracy'\n",
    "results = model_selection.cross_val_score(modelCV, X_selected, y, cv=kfold, scoring=scoring)\n",
    "print(\"10-fold cross validation average accuracy: %.3f\" % (results.mean()))"
   ]
  },
  {
   "cell_type": "code",
   "execution_count": null,
   "metadata": {
    "collapsed": true
   },
   "outputs": [],
   "source": []
  }
 ],
 "metadata": {
  "kernelspec": {
   "display_name": "Python 3",
   "language": "python",
   "name": "python3"
  },
  "language_info": {
   "codemirror_mode": {
    "name": "ipython",
    "version": 3
   },
   "file_extension": ".py",
   "mimetype": "text/x-python",
   "name": "python",
   "nbconvert_exporter": "python",
   "pygments_lexer": "ipython3",
   "version": "3.4.5"
  }
 },
 "nbformat": 4,
 "nbformat_minor": 2
}
