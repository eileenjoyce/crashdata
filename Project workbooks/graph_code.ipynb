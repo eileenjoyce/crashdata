{
 "cells": [
  {
   "cell_type": "code",
   "execution_count": 158,
   "metadata": {
    "collapsed": true
   },
   "outputs": [],
   "source": [
    "library(ggplot2)\n",
    "library(dplyr)\n",
    "\n",
    "motorcycle_data <- read.csv(\"Datasets/cycle_flag.csv\",\n",
    "                       encoding='latin-1')"
   ]
  },
  {
   "cell_type": "code",
   "execution_count": 159,
   "metadata": {},
   "outputs": [
    {
     "data": {
      "text/html": [
       "<table>\n",
       "<thead><tr><th scope=col>CRASH_YEAR</th><th scope=col>MCYCLE_DEATH_COUNT</th></tr></thead>\n",
       "<tbody>\n",
       "\t<tr><td>1997</td><td>0   </td></tr>\n",
       "\t<tr><td>1997</td><td>0   </td></tr>\n",
       "\t<tr><td>1997</td><td>0   </td></tr>\n",
       "\t<tr><td>1997</td><td>0   </td></tr>\n",
       "\t<tr><td>1997</td><td>0   </td></tr>\n",
       "\t<tr><td>1997</td><td>0   </td></tr>\n",
       "</tbody>\n",
       "</table>\n"
      ],
      "text/latex": [
       "\\begin{tabular}{r|ll}\n",
       " CRASH\\_YEAR & MCYCLE\\_DEATH\\_COUNT\\\\\n",
       "\\hline\n",
       "\t 1997 & 0   \\\\\n",
       "\t 1997 & 0   \\\\\n",
       "\t 1997 & 0   \\\\\n",
       "\t 1997 & 0   \\\\\n",
       "\t 1997 & 0   \\\\\n",
       "\t 1997 & 0   \\\\\n",
       "\\end{tabular}\n"
      ],
      "text/markdown": [
       "\n",
       "CRASH_YEAR | MCYCLE_DEATH_COUNT | \n",
       "|---|---|---|---|---|---|\n",
       "| 1997 | 0    | \n",
       "| 1997 | 0    | \n",
       "| 1997 | 0    | \n",
       "| 1997 | 0    | \n",
       "| 1997 | 0    | \n",
       "| 1997 | 0    | \n",
       "\n",
       "\n"
      ],
      "text/plain": [
       "  CRASH_YEAR MCYCLE_DEATH_COUNT\n",
       "1 1997       0                 \n",
       "2 1997       0                 \n",
       "3 1997       0                 \n",
       "4 1997       0                 \n",
       "5 1997       0                 \n",
       "6 1997       0                 "
      ]
     },
     "metadata": {},
     "output_type": "display_data"
    }
   ],
   "source": [
    "df1 <- motorcycle_data[c('CRASH_YEAR','MCYCLE_DEATH_COUNT')]\n",
    "\n",
    "head(df1)"
   ]
  },
  {
   "cell_type": "code",
   "execution_count": 160,
   "metadata": {},
   "outputs": [
    {
     "data": {
      "text/html": [
       "<table>\n",
       "<thead><tr><th scope=col>CRASH_YEAR</th><th scope=col>MCYCLE_DEATH_COUNT</th><th scope=col>metric1997</th><th scope=col>metric1998</th><th scope=col>metric1999</th><th scope=col>metric2000</th><th scope=col>metric2001</th><th scope=col>metric2002</th><th scope=col>metric2003</th><th scope=col>metric2004</th><th scope=col>⋯</th><th scope=col>metric2006</th><th scope=col>metric2008</th><th scope=col>metric2009</th><th scope=col>metric2010</th><th scope=col>metric2011</th><th scope=col>metric2012</th><th scope=col>metric2013</th><th scope=col>metric2014</th><th scope=col>metric2015</th><th scope=col>metric2016</th></tr></thead>\n",
       "<tbody>\n",
       "\t<tr><td>1997    </td><td>0       </td><td>97      </td><td>120     </td><td>116     </td><td>157     </td><td>141     </td><td>121     </td><td>161     </td><td>167     </td><td><U+22EF></td><td>232     </td><td>245     </td><td>256     </td><td>239     </td><td>219     </td><td>219     </td><td>197     </td><td>189     </td><td>185     </td><td>199     </td></tr>\n",
       "\t<tr><td>1997    </td><td>0       </td><td>97      </td><td>120     </td><td>116     </td><td>157     </td><td>141     </td><td>121     </td><td>161     </td><td>167     </td><td><U+22EF></td><td>232     </td><td>245     </td><td>256     </td><td>239     </td><td>219     </td><td>219     </td><td>197     </td><td>189     </td><td>185     </td><td>199     </td></tr>\n",
       "\t<tr><td>1997    </td><td>0       </td><td>97      </td><td>120     </td><td>116     </td><td>157     </td><td>141     </td><td>121     </td><td>161     </td><td>167     </td><td><U+22EF></td><td>232     </td><td>245     </td><td>256     </td><td>239     </td><td>219     </td><td>219     </td><td>197     </td><td>189     </td><td>185     </td><td>199     </td></tr>\n",
       "\t<tr><td>1997    </td><td>0       </td><td>97      </td><td>120     </td><td>116     </td><td>157     </td><td>141     </td><td>121     </td><td>161     </td><td>167     </td><td><U+22EF></td><td>232     </td><td>245     </td><td>256     </td><td>239     </td><td>219     </td><td>219     </td><td>197     </td><td>189     </td><td>185     </td><td>199     </td></tr>\n",
       "\t<tr><td>1997    </td><td>0       </td><td>97      </td><td>120     </td><td>116     </td><td>157     </td><td>141     </td><td>121     </td><td>161     </td><td>167     </td><td><U+22EF></td><td>232     </td><td>245     </td><td>256     </td><td>239     </td><td>219     </td><td>219     </td><td>197     </td><td>189     </td><td>185     </td><td>199     </td></tr>\n",
       "\t<tr><td>1997    </td><td>0       </td><td>97      </td><td>120     </td><td>116     </td><td>157     </td><td>141     </td><td>121     </td><td>161     </td><td>167     </td><td><U+22EF></td><td>232     </td><td>245     </td><td>256     </td><td>239     </td><td>219     </td><td>219     </td><td>197     </td><td>189     </td><td>185     </td><td>199     </td></tr>\n",
       "</tbody>\n",
       "</table>\n"
      ],
      "text/latex": [
       "\\begin{tabular}{r|lllllllllllllllllllll}\n",
       " CRASH\\_YEAR & MCYCLE\\_DEATH\\_COUNT & metric1997 & metric1998 & metric1999 & metric2000 & metric2001 & metric2002 & metric2003 & metric2004 & ⋯ & metric2006 & metric2008 & metric2009 & metric2010 & metric2011 & metric2012 & metric2013 & metric2014 & metric2015 & metric2016\\\\\n",
       "\\hline\n",
       "\t 1997     & 0        & 97       & 120      & 116      & 157      & 141      & 121      & 161      & 167      & <U+22EF> & 232      & 245      & 256      & 239      & 219      & 219      & 197      & 189      & 185      & 199     \\\\\n",
       "\t 1997     & 0        & 97       & 120      & 116      & 157      & 141      & 121      & 161      & 167      & <U+22EF> & 232      & 245      & 256      & 239      & 219      & 219      & 197      & 189      & 185      & 199     \\\\\n",
       "\t 1997     & 0        & 97       & 120      & 116      & 157      & 141      & 121      & 161      & 167      & <U+22EF> & 232      & 245      & 256      & 239      & 219      & 219      & 197      & 189      & 185      & 199     \\\\\n",
       "\t 1997     & 0        & 97       & 120      & 116      & 157      & 141      & 121      & 161      & 167      & <U+22EF> & 232      & 245      & 256      & 239      & 219      & 219      & 197      & 189      & 185      & 199     \\\\\n",
       "\t 1997     & 0        & 97       & 120      & 116      & 157      & 141      & 121      & 161      & 167      & <U+22EF> & 232      & 245      & 256      & 239      & 219      & 219      & 197      & 189      & 185      & 199     \\\\\n",
       "\t 1997     & 0        & 97       & 120      & 116      & 157      & 141      & 121      & 161      & 167      & <U+22EF> & 232      & 245      & 256      & 239      & 219      & 219      & 197      & 189      & 185      & 199     \\\\\n",
       "\\end{tabular}\n"
      ],
      "text/markdown": [
       "\n",
       "CRASH_YEAR | MCYCLE_DEATH_COUNT | metric1997 | metric1998 | metric1999 | metric2000 | metric2001 | metric2002 | metric2003 | metric2004 | ⋯ | metric2006 | metric2008 | metric2009 | metric2010 | metric2011 | metric2012 | metric2013 | metric2014 | metric2015 | metric2016 | \n",
       "|---|---|---|---|---|---|\n",
       "| 1997     | 0        | 97       | 120      | 116      | 157      | 141      | 121      | 161      | 167      | <U+22EF> | 232      | 245      | 256      | 239      | 219      | 219      | 197      | 189      | 185      | 199      | \n",
       "| 1997     | 0        | 97       | 120      | 116      | 157      | 141      | 121      | 161      | 167      | <U+22EF> | 232      | 245      | 256      | 239      | 219      | 219      | 197      | 189      | 185      | 199      | \n",
       "| 1997     | 0        | 97       | 120      | 116      | 157      | 141      | 121      | 161      | 167      | <U+22EF> | 232      | 245      | 256      | 239      | 219      | 219      | 197      | 189      | 185      | 199      | \n",
       "| 1997     | 0        | 97       | 120      | 116      | 157      | 141      | 121      | 161      | 167      | <U+22EF> | 232      | 245      | 256      | 239      | 219      | 219      | 197      | 189      | 185      | 199      | \n",
       "| 1997     | 0        | 97       | 120      | 116      | 157      | 141      | 121      | 161      | 167      | <U+22EF> | 232      | 245      | 256      | 239      | 219      | 219      | 197      | 189      | 185      | 199      | \n",
       "| 1997     | 0        | 97       | 120      | 116      | 157      | 141      | 121      | 161      | 167      | <U+22EF> | 232      | 245      | 256      | 239      | 219      | 219      | 197      | 189      | 185      | 199      | \n",
       "\n",
       "\n"
      ],
      "text/plain": [
       "  CRASH_YEAR MCYCLE_DEATH_COUNT metric1997 metric1998 metric1999 metric2000\n",
       "1 1997       0                  97         120        116        157       \n",
       "2 1997       0                  97         120        116        157       \n",
       "3 1997       0                  97         120        116        157       \n",
       "4 1997       0                  97         120        116        157       \n",
       "5 1997       0                  97         120        116        157       \n",
       "6 1997       0                  97         120        116        157       \n",
       "  metric2001 metric2002 metric2003 metric2004 <U+22EF>   metric2006 metric2008\n",
       "1 141        121        161        167        <U+22EF> 232        245       \n",
       "2 141        121        161        167        <U+22EF> 232        245       \n",
       "3 141        121        161        167        <U+22EF> 232        245       \n",
       "4 141        121        161        167        <U+22EF> 232        245       \n",
       "5 141        121        161        167        <U+22EF> 232        245       \n",
       "6 141        121        161        167        <U+22EF> 232        245       \n",
       "  metric2009 metric2010 metric2011 metric2012 metric2013 metric2014 metric2015\n",
       "1 256        239        219        219        197        189        185       \n",
       "2 256        239        219        219        197        189        185       \n",
       "3 256        239        219        219        197        189        185       \n",
       "4 256        239        219        219        197        189        185       \n",
       "5 256        239        219        219        197        189        185       \n",
       "6 256        239        219        219        197        189        185       \n",
       "  metric2016\n",
       "1 199       \n",
       "2 199       \n",
       "3 199       \n",
       "4 199       \n",
       "5 199       \n",
       "6 199       "
      ]
     },
     "metadata": {},
     "output_type": "display_data"
    }
   ],
   "source": [
    "df1$metric1997 <- sum(df1$MCYCLE_DEATH_COUNT[df1$CRASH_YEAR==1997])\n",
    "df1$metric1998 <- sum(df1$MCYCLE_DEATH_COUNT[df1$CRASH_YEAR==1998])\n",
    "df1$metric1999 <- sum(df1$MCYCLE_DEATH_COUNT[df1$CRASH_YEAR==1999])\n",
    "df1$metric2000 <- sum(df1$MCYCLE_DEATH_COUNT[df1$CRASH_YEAR==2000])\n",
    "df1$metric2001 <- sum(df1$MCYCLE_DEATH_COUNT[df1$CRASH_YEAR==2001])\n",
    "df1$metric2002 <- sum(df1$MCYCLE_DEATH_COUNT[df1$CRASH_YEAR==2002])\n",
    "df1$metric2003 <- sum(df1$MCYCLE_DEATH_COUNT[df1$CRASH_YEAR==2003])\n",
    "df1$metric2004 <- sum(df1$MCYCLE_DEATH_COUNT[df1$CRASH_YEAR==2004])\n",
    "df1$metric2005 <- sum(df1$MCYCLE_DEATH_COUNT[df1$CRASH_YEAR==2005])\n",
    "df1$metric2006 <- sum(df1$MCYCLE_DEATH_COUNT[df1$CRASH_YEAR==2007])\n",
    "df1$metric2008 <- sum(df1$MCYCLE_DEATH_COUNT[df1$CRASH_YEAR==2008])\n",
    "df1$metric2009 <- sum(df1$MCYCLE_DEATH_COUNT[df1$CRASH_YEAR==2009])\n",
    "df1$metric2010 <- sum(df1$MCYCLE_DEATH_COUNT[df1$CRASH_YEAR==2010])\n",
    "df1$metric2011 <- sum(df1$MCYCLE_DEATH_COUNT[df1$CRASH_YEAR==2011])\n",
    "df1$metric2012 <- sum(df1$MCYCLE_DEATH_COUNT[df1$CRASH_YEAR==2012])\n",
    "df1$metric2013 <- sum(df1$MCYCLE_DEATH_COUNT[df1$CRASH_YEAR==2013])\n",
    "df1$metric2014 <- sum(df1$MCYCLE_DEATH_COUNT[df1$CRASH_YEAR==2014])\n",
    "df1$metric2015 <- sum(df1$MCYCLE_DEATH_COUNT[df1$CRASH_YEAR==2015])\n",
    "df1$metric2016 <- sum(df1$MCYCLE_DEATH_COUNT[df1$CRASH_YEAR==2016])\n",
    "\n",
    "\n",
    "\n",
    "head(df1)"
   ]
  },
  {
   "cell_type": "code",
   "execution_count": 161,
   "metadata": {},
   "outputs": [
    {
     "data": {
      "text/html": [
       "<table>\n",
       "<thead><tr><th scope=col>metric1997</th><th scope=col>metric1998</th><th scope=col>metric1999</th><th scope=col>metric2000</th><th scope=col>metric2001</th><th scope=col>metric2002</th><th scope=col>metric2003</th><th scope=col>metric2004</th><th scope=col>metric2005</th><th scope=col>metric2006</th><th scope=col>metric2008</th><th scope=col>metric2009</th><th scope=col>metric2010</th><th scope=col>metric2011</th><th scope=col>metric2012</th><th scope=col>metric2013</th><th scope=col>metric2014</th><th scope=col>metric2015</th><th scope=col>metric2016</th></tr></thead>\n",
       "<tbody>\n",
       "\t<tr><td>97 </td><td>120</td><td>116</td><td>157</td><td>141</td><td>121</td><td>161</td><td>167</td><td>219</td><td>232</td><td>245</td><td>256</td><td>239</td><td>219</td><td>219</td><td>197</td><td>189</td><td>185</td><td>199</td></tr>\n",
       "\t<tr><td>97 </td><td>120</td><td>116</td><td>157</td><td>141</td><td>121</td><td>161</td><td>167</td><td>219</td><td>232</td><td>245</td><td>256</td><td>239</td><td>219</td><td>219</td><td>197</td><td>189</td><td>185</td><td>199</td></tr>\n",
       "\t<tr><td>97 </td><td>120</td><td>116</td><td>157</td><td>141</td><td>121</td><td>161</td><td>167</td><td>219</td><td>232</td><td>245</td><td>256</td><td>239</td><td>219</td><td>219</td><td>197</td><td>189</td><td>185</td><td>199</td></tr>\n",
       "\t<tr><td>97 </td><td>120</td><td>116</td><td>157</td><td>141</td><td>121</td><td>161</td><td>167</td><td>219</td><td>232</td><td>245</td><td>256</td><td>239</td><td>219</td><td>219</td><td>197</td><td>189</td><td>185</td><td>199</td></tr>\n",
       "\t<tr><td>97 </td><td>120</td><td>116</td><td>157</td><td>141</td><td>121</td><td>161</td><td>167</td><td>219</td><td>232</td><td>245</td><td>256</td><td>239</td><td>219</td><td>219</td><td>197</td><td>189</td><td>185</td><td>199</td></tr>\n",
       "\t<tr><td>97 </td><td>120</td><td>116</td><td>157</td><td>141</td><td>121</td><td>161</td><td>167</td><td>219</td><td>232</td><td>245</td><td>256</td><td>239</td><td>219</td><td>219</td><td>197</td><td>189</td><td>185</td><td>199</td></tr>\n",
       "</tbody>\n",
       "</table>\n"
      ],
      "text/latex": [
       "\\begin{tabular}{r|lllllllllllllllllll}\n",
       " metric1997 & metric1998 & metric1999 & metric2000 & metric2001 & metric2002 & metric2003 & metric2004 & metric2005 & metric2006 & metric2008 & metric2009 & metric2010 & metric2011 & metric2012 & metric2013 & metric2014 & metric2015 & metric2016\\\\\n",
       "\\hline\n",
       "\t 97  & 120 & 116 & 157 & 141 & 121 & 161 & 167 & 219 & 232 & 245 & 256 & 239 & 219 & 219 & 197 & 189 & 185 & 199\\\\\n",
       "\t 97  & 120 & 116 & 157 & 141 & 121 & 161 & 167 & 219 & 232 & 245 & 256 & 239 & 219 & 219 & 197 & 189 & 185 & 199\\\\\n",
       "\t 97  & 120 & 116 & 157 & 141 & 121 & 161 & 167 & 219 & 232 & 245 & 256 & 239 & 219 & 219 & 197 & 189 & 185 & 199\\\\\n",
       "\t 97  & 120 & 116 & 157 & 141 & 121 & 161 & 167 & 219 & 232 & 245 & 256 & 239 & 219 & 219 & 197 & 189 & 185 & 199\\\\\n",
       "\t 97  & 120 & 116 & 157 & 141 & 121 & 161 & 167 & 219 & 232 & 245 & 256 & 239 & 219 & 219 & 197 & 189 & 185 & 199\\\\\n",
       "\t 97  & 120 & 116 & 157 & 141 & 121 & 161 & 167 & 219 & 232 & 245 & 256 & 239 & 219 & 219 & 197 & 189 & 185 & 199\\\\\n",
       "\\end{tabular}\n"
      ],
      "text/markdown": [
       "\n",
       "metric1997 | metric1998 | metric1999 | metric2000 | metric2001 | metric2002 | metric2003 | metric2004 | metric2005 | metric2006 | metric2008 | metric2009 | metric2010 | metric2011 | metric2012 | metric2013 | metric2014 | metric2015 | metric2016 | \n",
       "|---|---|---|---|---|---|\n",
       "| 97  | 120 | 116 | 157 | 141 | 121 | 161 | 167 | 219 | 232 | 245 | 256 | 239 | 219 | 219 | 197 | 189 | 185 | 199 | \n",
       "| 97  | 120 | 116 | 157 | 141 | 121 | 161 | 167 | 219 | 232 | 245 | 256 | 239 | 219 | 219 | 197 | 189 | 185 | 199 | \n",
       "| 97  | 120 | 116 | 157 | 141 | 121 | 161 | 167 | 219 | 232 | 245 | 256 | 239 | 219 | 219 | 197 | 189 | 185 | 199 | \n",
       "| 97  | 120 | 116 | 157 | 141 | 121 | 161 | 167 | 219 | 232 | 245 | 256 | 239 | 219 | 219 | 197 | 189 | 185 | 199 | \n",
       "| 97  | 120 | 116 | 157 | 141 | 121 | 161 | 167 | 219 | 232 | 245 | 256 | 239 | 219 | 219 | 197 | 189 | 185 | 199 | \n",
       "| 97  | 120 | 116 | 157 | 141 | 121 | 161 | 167 | 219 | 232 | 245 | 256 | 239 | 219 | 219 | 197 | 189 | 185 | 199 | \n",
       "\n",
       "\n"
      ],
      "text/plain": [
       "  metric1997 metric1998 metric1999 metric2000 metric2001 metric2002 metric2003\n",
       "1 97         120        116        157        141        121        161       \n",
       "2 97         120        116        157        141        121        161       \n",
       "3 97         120        116        157        141        121        161       \n",
       "4 97         120        116        157        141        121        161       \n",
       "5 97         120        116        157        141        121        161       \n",
       "6 97         120        116        157        141        121        161       \n",
       "  metric2004 metric2005 metric2006 metric2008 metric2009 metric2010 metric2011\n",
       "1 167        219        232        245        256        239        219       \n",
       "2 167        219        232        245        256        239        219       \n",
       "3 167        219        232        245        256        239        219       \n",
       "4 167        219        232        245        256        239        219       \n",
       "5 167        219        232        245        256        239        219       \n",
       "6 167        219        232        245        256        239        219       \n",
       "  metric2012 metric2013 metric2014 metric2015 metric2016\n",
       "1 219        197        189        185        199       \n",
       "2 219        197        189        185        199       \n",
       "3 219        197        189        185        199       \n",
       "4 219        197        189        185        199       \n",
       "5 219        197        189        185        199       \n",
       "6 219        197        189        185        199       "
      ]
     },
     "metadata": {},
     "output_type": "display_data"
    }
   ],
   "source": [
    "df1$CRASH_YEAR <- NULL\n",
    "df1$MCYCLE_DEATH_COUNT <- NULL\n",
    "#df1<-cbind(label = \"deaths\", df1)\n",
    "#df <- sqldf('select \"deaths\" as metricLabel\n",
    "head(df1)\n"
   ]
  },
  {
   "cell_type": "code",
   "execution_count": 162,
   "metadata": {},
   "outputs": [
    {
     "data": {
      "text/html": [
       "<table>\n",
       "<thead><tr><th scope=col>label</th><th scope=col>metric1997</th><th scope=col>metric1998</th><th scope=col>metric1999</th><th scope=col>metric2000</th><th scope=col>metric2001</th><th scope=col>metric2002</th><th scope=col>metric2003</th><th scope=col>metric2004</th><th scope=col>metric2005</th><th scope=col>metric2006</th><th scope=col>metric2008</th><th scope=col>metric2009</th><th scope=col>metric2010</th><th scope=col>metric2011</th><th scope=col>metric2012</th><th scope=col>metric2013</th><th scope=col>metric2014</th><th scope=col>metric2015</th><th scope=col>metric2016</th></tr></thead>\n",
       "<tbody>\n",
       "\t<tr><td>deaths</td><td>97    </td><td>120   </td><td>116   </td><td>157   </td><td>141   </td><td>121   </td><td>161   </td><td>167   </td><td>219   </td><td>232   </td><td>245   </td><td>256   </td><td>239   </td><td>219   </td><td>219   </td><td>197   </td><td>189   </td><td>185   </td><td>199   </td></tr>\n",
       "</tbody>\n",
       "</table>\n"
      ],
      "text/latex": [
       "\\begin{tabular}{r|llllllllllllllllllll}\n",
       " label & metric1997 & metric1998 & metric1999 & metric2000 & metric2001 & metric2002 & metric2003 & metric2004 & metric2005 & metric2006 & metric2008 & metric2009 & metric2010 & metric2011 & metric2012 & metric2013 & metric2014 & metric2015 & metric2016\\\\\n",
       "\\hline\n",
       "\t deaths & 97     & 120    & 116    & 157    & 141    & 121    & 161    & 167    & 219    & 232    & 245    & 256    & 239    & 219    & 219    & 197    & 189    & 185    & 199   \\\\\n",
       "\\end{tabular}\n"
      ],
      "text/markdown": [
       "\n",
       "label | metric1997 | metric1998 | metric1999 | metric2000 | metric2001 | metric2002 | metric2003 | metric2004 | metric2005 | metric2006 | metric2008 | metric2009 | metric2010 | metric2011 | metric2012 | metric2013 | metric2014 | metric2015 | metric2016 | \n",
       "|---|\n",
       "| deaths | 97     | 120    | 116    | 157    | 141    | 121    | 161    | 167    | 219    | 232    | 245    | 256    | 239    | 219    | 219    | 197    | 189    | 185    | 199    | \n",
       "\n",
       "\n"
      ],
      "text/plain": [
       "  label  metric1997 metric1998 metric1999 metric2000 metric2001 metric2002\n",
       "1 deaths 97         120        116        157        141        121       \n",
       "  metric2003 metric2004 metric2005 metric2006 metric2008 metric2009 metric2010\n",
       "1 161        167        219        232        245        256        239       \n",
       "  metric2011 metric2012 metric2013 metric2014 metric2015 metric2016\n",
       "1 219        219        197        189        185        199       "
      ]
     },
     "metadata": {},
     "output_type": "display_data"
    }
   ],
   "source": [
    "df1<-df1[1,]\n",
    "df1$label = \"deaths\"\n",
    "df1 = df1[,c(20,1:19)]\n",
    "df1"
   ]
  },
  {
   "cell_type": "code",
   "execution_count": 163,
   "metadata": {},
   "outputs": [
    {
     "data": {
      "text/html": [
       "<table>\n",
       "<thead><tr><th scope=col>label</th><th scope=col>metric1997</th><th scope=col>metric1998</th><th scope=col>metric1999</th><th scope=col>metric2000</th><th scope=col>metric2001</th><th scope=col>metric2002</th><th scope=col>metric2003</th><th scope=col>metric2004</th><th scope=col>metric2005</th><th scope=col>metric2006</th><th scope=col>metric2008</th><th scope=col>metric2009</th><th scope=col>metric2010</th><th scope=col>metric2011</th><th scope=col>metric2012</th><th scope=col>metric2013</th><th scope=col>metric2014</th><th scope=col>metric2015</th><th scope=col>metric2016</th></tr></thead>\n",
       "<tbody>\n",
       "\t<tr><td>deaths           </td><td>97               </td><td>120              </td><td>116              </td><td>157              </td><td>141              </td><td>121              </td><td>161              </td><td>167              </td><td>219              </td><td>232              </td><td>245              </td><td>256              </td><td>239              </td><td>219              </td><td>219              </td><td>197              </td><td>189              </td><td>185              </td><td>199              </td></tr>\n",
       "\t<tr><td>deaths_per_100000</td><td>51.4             </td><td>59.7             </td><td>56.6             </td><td>71.2             </td><td>56.6             </td><td>54.8             </td><td>59.2             </td><td>55.1             </td><td>65.5             </td><td>55.7             </td><td>63               </td><td>61.4             </td><td>52.5             </td><td>56.7             </td><td>49.9             </td><td>51.9             </td><td>45.2             </td><td>46.9             </td><td>45.1             </td></tr>\n",
       "</tbody>\n",
       "</table>\n"
      ],
      "text/latex": [
       "\\begin{tabular}{r|llllllllllllllllllll}\n",
       " label & metric1997 & metric1998 & metric1999 & metric2000 & metric2001 & metric2002 & metric2003 & metric2004 & metric2005 & metric2006 & metric2008 & metric2009 & metric2010 & metric2011 & metric2012 & metric2013 & metric2014 & metric2015 & metric2016\\\\\n",
       "\\hline\n",
       "\t deaths            & 97                & 120               & 116               & 157               & 141               & 121               & 161               & 167               & 219               & 232               & 245               & 256               & 239               & 219               & 219               & 197               & 189               & 185               & 199              \\\\\n",
       "\t deaths\\_per\\_100000 & 51.4                  & 59.7                  & 56.6                  & 71.2                  & 56.6                  & 54.8                  & 59.2                  & 55.1                  & 65.5                  & 55.7                  & 63                    & 61.4                  & 52.5                  & 56.7                  & 49.9                  & 51.9                  & 45.2                  & 46.9                  & 45.1                 \\\\\n",
       "\\end{tabular}\n"
      ],
      "text/markdown": [
       "\n",
       "label | metric1997 | metric1998 | metric1999 | metric2000 | metric2001 | metric2002 | metric2003 | metric2004 | metric2005 | metric2006 | metric2008 | metric2009 | metric2010 | metric2011 | metric2012 | metric2013 | metric2014 | metric2015 | metric2016 | \n",
       "|---|---|\n",
       "| deaths            | 97                | 120               | 116               | 157               | 141               | 121               | 161               | 167               | 219               | 232               | 245               | 256               | 239               | 219               | 219               | 197               | 189               | 185               | 199               | \n",
       "| deaths_per_100000 | 51.4              | 59.7              | 56.6              | 71.2              | 56.6              | 54.8              | 59.2              | 55.1              | 65.5              | 55.7              | 63                | 61.4              | 52.5              | 56.7              | 49.9              | 51.9              | 45.2              | 46.9              | 45.1              | \n",
       "\n",
       "\n"
      ],
      "text/plain": [
       "  label             metric1997 metric1998 metric1999 metric2000 metric2001\n",
       "1 deaths            97         120        116        157        141       \n",
       "2 deaths_per_100000 51.4       59.7       56.6       71.2       56.6      \n",
       "  metric2002 metric2003 metric2004 metric2005 metric2006 metric2008 metric2009\n",
       "1 121        161        167        219        232        245        256       \n",
       "2 54.8       59.2       55.1       65.5       55.7       63         61.4      \n",
       "  metric2010 metric2011 metric2012 metric2013 metric2014 metric2015 metric2016\n",
       "1 239        219        219        197        189        185        199       \n",
       "2 52.5       56.7       49.9       51.9       45.2       46.9       45.1      "
      ]
     },
     "metadata": {},
     "output_type": "display_data"
    }
   ],
   "source": [
    "\n",
    "#registered_cycles = c(51.4, 59.7, 56.6,71.2,56.6,54.8,59.2,55.1,65.5,55.7,63.0,61.4,52.5,56.7,49.9,51.9,45.2,46.9,45.1,49.0)\n",
    "\n",
    "df2<-rbind(df1, c('deaths_per_100000' ,51.4, 59.7, 56.6,71.2,56.6,54.8,59.2,55.1,65.5,55.7,63.0,61.4,52.5,56.7,49.9,51.9,45.2,46.9,45.1,49.0))\n",
    "\n",
    "df2\n",
    "\n"
   ]
  },
  {
   "cell_type": "code",
   "execution_count": 164,
   "metadata": {
    "collapsed": true
   },
   "outputs": [],
   "source": []
  },
  {
   "cell_type": "code",
   "execution_count": 165,
   "metadata": {
    "collapsed": true
   },
   "outputs": [],
   "source": [
    "helmet_unknown <- motorcycle_data[c('CRASH_YEAR','MC_DVR_HLMTON_IND','MCYCLE_DEATH_COUNT')]\n"
   ]
  },
  {
   "cell_type": "code",
   "execution_count": 166,
   "metadata": {
    "collapsed": true
   },
   "outputs": [],
   "source": [
    "\n",
    "helmet_unknown <- subset(helmet_unknown, MCYCLE_DEATH_COUNT>=1,drop=FALSE)\n"
   ]
  },
  {
   "cell_type": "code",
   "execution_count": 167,
   "metadata": {},
   "outputs": [
    {
     "data": {
      "text/html": [
       "<table>\n",
       "<thead><tr><th></th><th scope=col>CRASH_YEAR</th><th scope=col>MC_DVR_HLMTON_IND</th><th scope=col>MCYCLE_DEATH_COUNT</th><th scope=col>MC_DVR_HLMTON_IND.U</th><th scope=col>MC_DVR_HLMTON_IND. </th><th scope=col>MC_DVR_HLMTON_IND.Y</th><th scope=col>MC_DVR_HLMTON_IND.N</th></tr></thead>\n",
       "<tbody>\n",
       "\t<tr><th scope=row>4883</th><td>1997</td><td>U   </td><td>1   </td><td>1   </td><td>0   </td><td>0   </td><td>0   </td></tr>\n",
       "\t<tr><th scope=row>4886</th><td>1997</td><td>U   </td><td>1   </td><td>1   </td><td>0   </td><td>0   </td><td>0   </td></tr>\n",
       "\t<tr><th scope=row>4887</th><td>1997</td><td>U   </td><td>1   </td><td>1   </td><td>0   </td><td>0   </td><td>0   </td></tr>\n",
       "\t<tr><th scope=row>4888</th><td>1997</td><td>U   </td><td>1   </td><td>1   </td><td>0   </td><td>0   </td><td>0   </td></tr>\n",
       "\t<tr><th scope=row>4890</th><td>1997</td><td>U   </td><td>1   </td><td>1   </td><td>0   </td><td>0   </td><td>0   </td></tr>\n",
       "\t<tr><th scope=row>4891</th><td>1997</td><td>U   </td><td>1   </td><td>1   </td><td>0   </td><td>0   </td><td>0   </td></tr>\n",
       "</tbody>\n",
       "</table>\n"
      ],
      "text/latex": [
       "\\begin{tabular}{r|lllllll}\n",
       "  & CRASH\\_YEAR & MC\\_DVR\\_HLMTON\\_IND & MCYCLE\\_DEATH\\_COUNT & MC\\_DVR\\_HLMTON\\_IND.U & MC\\_DVR\\_HLMTON\\_IND.  & MC\\_DVR\\_HLMTON\\_IND.Y & MC\\_DVR\\_HLMTON\\_IND.N\\\\\n",
       "\\hline\n",
       "\t4883 & 1997 & U    & 1    & 1    & 0    & 0    & 0   \\\\\n",
       "\t4886 & 1997 & U    & 1    & 1    & 0    & 0    & 0   \\\\\n",
       "\t4887 & 1997 & U    & 1    & 1    & 0    & 0    & 0   \\\\\n",
       "\t4888 & 1997 & U    & 1    & 1    & 0    & 0    & 0   \\\\\n",
       "\t4890 & 1997 & U    & 1    & 1    & 0    & 0    & 0   \\\\\n",
       "\t4891 & 1997 & U    & 1    & 1    & 0    & 0    & 0   \\\\\n",
       "\\end{tabular}\n"
      ],
      "text/markdown": [
       "\n",
       "| <!--/--> | CRASH_YEAR | MC_DVR_HLMTON_IND | MCYCLE_DEATH_COUNT | MC_DVR_HLMTON_IND.U | MC_DVR_HLMTON_IND.  | MC_DVR_HLMTON_IND.Y | MC_DVR_HLMTON_IND.N | \n",
       "|---|---|---|---|---|---|\n",
       "| 4883 | 1997 | U    | 1    | 1    | 0    | 0    | 0    | \n",
       "| 4886 | 1997 | U    | 1    | 1    | 0    | 0    | 0    | \n",
       "| 4887 | 1997 | U    | 1    | 1    | 0    | 0    | 0    | \n",
       "| 4888 | 1997 | U    | 1    | 1    | 0    | 0    | 0    | \n",
       "| 4890 | 1997 | U    | 1    | 1    | 0    | 0    | 0    | \n",
       "| 4891 | 1997 | U    | 1    | 1    | 0    | 0    | 0    | \n",
       "\n",
       "\n"
      ],
      "text/plain": [
       "     CRASH_YEAR MC_DVR_HLMTON_IND MCYCLE_DEATH_COUNT MC_DVR_HLMTON_IND.U\n",
       "4883 1997       U                 1                  1                  \n",
       "4886 1997       U                 1                  1                  \n",
       "4887 1997       U                 1                  1                  \n",
       "4888 1997       U                 1                  1                  \n",
       "4890 1997       U                 1                  1                  \n",
       "4891 1997       U                 1                  1                  \n",
       "     MC_DVR_HLMTON_IND.  MC_DVR_HLMTON_IND.Y MC_DVR_HLMTON_IND.N\n",
       "4883 0                   0                   0                  \n",
       "4886 0                   0                   0                  \n",
       "4887 0                   0                   0                  \n",
       "4888 0                   0                   0                  \n",
       "4890 0                   0                   0                  \n",
       "4891 0                   0                   0                  "
      ]
     },
     "metadata": {},
     "output_type": "display_data"
    }
   ],
   "source": [
    "for(unique_value in unique(helmet_unknown$MC_DVR_HLMTON_IND)){\n",
    "helmet_unknown[paste(\"MC_DVR_HLMTON_IND\", unique_value, sep = \".\")] <- ifelse(helmet_unknown$MC_DVR_HLMTON_IND == unique_value, 1, 0)\n",
    "}\n",
    "head(helmet_unknown)"
   ]
  },
  {
   "cell_type": "code",
   "execution_count": 168,
   "metadata": {},
   "outputs": [
    {
     "data": {
      "text/html": [
       "<table>\n",
       "<thead><tr><th></th><th scope=col>CRASH_YEAR</th><th scope=col>MC_DVR_HLMTON_IND</th><th scope=col>MCYCLE_DEATH_COUNT</th><th scope=col>MC_DVR_HLMTON_IND.U</th><th scope=col>MC_DVR_HLMTON_IND. </th><th scope=col>MC_DVR_HLMTON_IND.Y</th><th scope=col>MC_DVR_HLMTON_IND.N</th><th scope=col>metric1997</th><th scope=col>metric1998</th><th scope=col>metric1999</th><th scope=col>⋯</th><th scope=col>metric2006</th><th scope=col>metric2008</th><th scope=col>metric2009</th><th scope=col>metric2010</th><th scope=col>metric2011</th><th scope=col>metric2012</th><th scope=col>metric2013</th><th scope=col>metric2014</th><th scope=col>metric2015</th><th scope=col>metric2016</th></tr></thead>\n",
       "<tbody>\n",
       "\t<tr><th scope=row>4883</th><td>1997    </td><td>U       </td><td>1       </td><td>1       </td><td>0       </td><td>0       </td><td>0       </td><td>93      </td><td>115     </td><td>111     </td><td><U+22EF></td><td>26      </td><td>23      </td><td>23      </td><td>9       </td><td>32      </td><td>19      </td><td>23      </td><td>20      </td><td>16      </td><td>21      </td></tr>\n",
       "\t<tr><th scope=row>4886</th><td>1997    </td><td>U       </td><td>1       </td><td>1       </td><td>0       </td><td>0       </td><td>0       </td><td>93      </td><td>115     </td><td>111     </td><td><U+22EF></td><td>26      </td><td>23      </td><td>23      </td><td>9       </td><td>32      </td><td>19      </td><td>23      </td><td>20      </td><td>16      </td><td>21      </td></tr>\n",
       "\t<tr><th scope=row>4887</th><td>1997    </td><td>U       </td><td>1       </td><td>1       </td><td>0       </td><td>0       </td><td>0       </td><td>93      </td><td>115     </td><td>111     </td><td><U+22EF></td><td>26      </td><td>23      </td><td>23      </td><td>9       </td><td>32      </td><td>19      </td><td>23      </td><td>20      </td><td>16      </td><td>21      </td></tr>\n",
       "\t<tr><th scope=row>4888</th><td>1997    </td><td>U       </td><td>1       </td><td>1       </td><td>0       </td><td>0       </td><td>0       </td><td>93      </td><td>115     </td><td>111     </td><td><U+22EF></td><td>26      </td><td>23      </td><td>23      </td><td>9       </td><td>32      </td><td>19      </td><td>23      </td><td>20      </td><td>16      </td><td>21      </td></tr>\n",
       "\t<tr><th scope=row>4890</th><td>1997    </td><td>U       </td><td>1       </td><td>1       </td><td>0       </td><td>0       </td><td>0       </td><td>93      </td><td>115     </td><td>111     </td><td><U+22EF></td><td>26      </td><td>23      </td><td>23      </td><td>9       </td><td>32      </td><td>19      </td><td>23      </td><td>20      </td><td>16      </td><td>21      </td></tr>\n",
       "\t<tr><th scope=row>4891</th><td>1997    </td><td>U       </td><td>1       </td><td>1       </td><td>0       </td><td>0       </td><td>0       </td><td>93      </td><td>115     </td><td>111     </td><td><U+22EF></td><td>26      </td><td>23      </td><td>23      </td><td>9       </td><td>32      </td><td>19      </td><td>23      </td><td>20      </td><td>16      </td><td>21      </td></tr>\n",
       "</tbody>\n",
       "</table>\n"
      ],
      "text/latex": [
       "\\begin{tabular}{r|llllllllllllllllllllllllll}\n",
       "  & CRASH\\_YEAR & MC\\_DVR\\_HLMTON\\_IND & MCYCLE\\_DEATH\\_COUNT & MC\\_DVR\\_HLMTON\\_IND.U & MC\\_DVR\\_HLMTON\\_IND.  & MC\\_DVR\\_HLMTON\\_IND.Y & MC\\_DVR\\_HLMTON\\_IND.N & metric1997 & metric1998 & metric1999 & ⋯ & metric2006 & metric2008 & metric2009 & metric2010 & metric2011 & metric2012 & metric2013 & metric2014 & metric2015 & metric2016\\\\\n",
       "\\hline\n",
       "\t4883 & 1997     & U        & 1        & 1        & 0        & 0        & 0        & 93       & 115      & 111      & <U+22EF> & 26       & 23       & 23       & 9        & 32       & 19       & 23       & 20       & 16       & 21      \\\\\n",
       "\t4886 & 1997     & U        & 1        & 1        & 0        & 0        & 0        & 93       & 115      & 111      & <U+22EF> & 26       & 23       & 23       & 9        & 32       & 19       & 23       & 20       & 16       & 21      \\\\\n",
       "\t4887 & 1997     & U        & 1        & 1        & 0        & 0        & 0        & 93       & 115      & 111      & <U+22EF> & 26       & 23       & 23       & 9        & 32       & 19       & 23       & 20       & 16       & 21      \\\\\n",
       "\t4888 & 1997     & U        & 1        & 1        & 0        & 0        & 0        & 93       & 115      & 111      & <U+22EF> & 26       & 23       & 23       & 9        & 32       & 19       & 23       & 20       & 16       & 21      \\\\\n",
       "\t4890 & 1997     & U        & 1        & 1        & 0        & 0        & 0        & 93       & 115      & 111      & <U+22EF> & 26       & 23       & 23       & 9        & 32       & 19       & 23       & 20       & 16       & 21      \\\\\n",
       "\t4891 & 1997     & U        & 1        & 1        & 0        & 0        & 0        & 93       & 115      & 111      & <U+22EF> & 26       & 23       & 23       & 9        & 32       & 19       & 23       & 20       & 16       & 21      \\\\\n",
       "\\end{tabular}\n"
      ],
      "text/markdown": [
       "\n",
       "| <!--/--> | CRASH_YEAR | MC_DVR_HLMTON_IND | MCYCLE_DEATH_COUNT | MC_DVR_HLMTON_IND.U | MC_DVR_HLMTON_IND.  | MC_DVR_HLMTON_IND.Y | MC_DVR_HLMTON_IND.N | metric1997 | metric1998 | metric1999 | ⋯ | metric2006 | metric2008 | metric2009 | metric2010 | metric2011 | metric2012 | metric2013 | metric2014 | metric2015 | metric2016 | \n",
       "|---|---|---|---|---|---|\n",
       "| 4883 | 1997     | U        | 1        | 1        | 0        | 0        | 0        | 93       | 115      | 111      | <U+22EF> | 26       | 23       | 23       | 9        | 32       | 19       | 23       | 20       | 16       | 21       | \n",
       "| 4886 | 1997     | U        | 1        | 1        | 0        | 0        | 0        | 93       | 115      | 111      | <U+22EF> | 26       | 23       | 23       | 9        | 32       | 19       | 23       | 20       | 16       | 21       | \n",
       "| 4887 | 1997     | U        | 1        | 1        | 0        | 0        | 0        | 93       | 115      | 111      | <U+22EF> | 26       | 23       | 23       | 9        | 32       | 19       | 23       | 20       | 16       | 21       | \n",
       "| 4888 | 1997     | U        | 1        | 1        | 0        | 0        | 0        | 93       | 115      | 111      | <U+22EF> | 26       | 23       | 23       | 9        | 32       | 19       | 23       | 20       | 16       | 21       | \n",
       "| 4890 | 1997     | U        | 1        | 1        | 0        | 0        | 0        | 93       | 115      | 111      | <U+22EF> | 26       | 23       | 23       | 9        | 32       | 19       | 23       | 20       | 16       | 21       | \n",
       "| 4891 | 1997     | U        | 1        | 1        | 0        | 0        | 0        | 93       | 115      | 111      | <U+22EF> | 26       | 23       | 23       | 9        | 32       | 19       | 23       | 20       | 16       | 21       | \n",
       "\n",
       "\n"
      ],
      "text/plain": [
       "     CRASH_YEAR MC_DVR_HLMTON_IND MCYCLE_DEATH_COUNT MC_DVR_HLMTON_IND.U\n",
       "4883 1997       U                 1                  1                  \n",
       "4886 1997       U                 1                  1                  \n",
       "4887 1997       U                 1                  1                  \n",
       "4888 1997       U                 1                  1                  \n",
       "4890 1997       U                 1                  1                  \n",
       "4891 1997       U                 1                  1                  \n",
       "     MC_DVR_HLMTON_IND.  MC_DVR_HLMTON_IND.Y MC_DVR_HLMTON_IND.N metric1997\n",
       "4883 0                   0                   0                   93        \n",
       "4886 0                   0                   0                   93        \n",
       "4887 0                   0                   0                   93        \n",
       "4888 0                   0                   0                   93        \n",
       "4890 0                   0                   0                   93        \n",
       "4891 0                   0                   0                   93        \n",
       "     metric1998 metric1999 <U+22EF>   metric2006 metric2008 metric2009 metric2010\n",
       "4883 115        111        <U+22EF> 26         23         23         9         \n",
       "4886 115        111        <U+22EF> 26         23         23         9         \n",
       "4887 115        111        <U+22EF> 26         23         23         9         \n",
       "4888 115        111        <U+22EF> 26         23         23         9         \n",
       "4890 115        111        <U+22EF> 26         23         23         9         \n",
       "4891 115        111        <U+22EF> 26         23         23         9         \n",
       "     metric2011 metric2012 metric2013 metric2014 metric2015 metric2016\n",
       "4883 32         19         23         20         16         21        \n",
       "4886 32         19         23         20         16         21        \n",
       "4887 32         19         23         20         16         21        \n",
       "4888 32         19         23         20         16         21        \n",
       "4890 32         19         23         20         16         21        \n",
       "4891 32         19         23         20         16         21        "
      ]
     },
     "metadata": {},
     "output_type": "display_data"
    }
   ],
   "source": [
    "helmet_unknown$metric1997 <- sum(helmet_unknown$MC_DVR_HLMTON_IND.U[helmet_unknown$CRASH_YEAR==1997])\n",
    "helmet_unknown$metric1998 <- sum(helmet_unknown$MC_DVR_HLMTON_IND.U[helmet_unknown$CRASH_YEAR==1998])\n",
    "helmet_unknown$metric1999 <- sum(helmet_unknown$MC_DVR_HLMTON_IND.U[helmet_unknown$CRASH_YEAR==1999])\n",
    "helmet_unknown$metric2000 <- sum(helmet_unknown$MC_DVR_HLMTON_IND.U[helmet_unknown$CRASH_YEAR==2000])\n",
    "helmet_unknown$metric2001 <- sum(helmet_unknown$MC_DVR_HLMTON_IND.U[helmet_unknown$CRASH_YEAR==2001])\n",
    "helmet_unknown$metric2002 <- sum(helmet_unknown$MC_DVR_HLMTON_IND.U[helmet_unknown$CRASH_YEAR==2002])\n",
    "helmet_unknown$metric2003 <- sum(helmet_unknown$MC_DVR_HLMTON_IND.U[helmet_unknown$CRASH_YEAR==2003])\n",
    "helmet_unknown$metric2004 <- sum(helmet_unknown$MC_DVR_HLMTON_IND.U[helmet_unknown$CRASH_YEAR==2004])\n",
    "helmet_unknown$metric2005 <- sum(helmet_unknown$MC_DVR_HLMTON_IND.U[helmet_unknown$CRASH_YEAR==2005])\n",
    "helmet_unknown$metric2006 <- sum(helmet_unknown$MC_DVR_HLMTON_IND.U[helmet_unknown$CRASH_YEAR==2007])\n",
    "helmet_unknown$metric2008 <- sum(helmet_unknown$MC_DVR_HLMTON_IND.U[helmet_unknown$CRASH_YEAR==2008])\n",
    "helmet_unknown$metric2009 <- sum(helmet_unknown$MC_DVR_HLMTON_IND.U[helmet_unknown$CRASH_YEAR==2009])\n",
    "helmet_unknown$metric2010 <- sum(helmet_unknown$MC_DVR_HLMTON_IND.U[helmet_unknown$CRASH_YEAR==2010])\n",
    "helmet_unknown$metric2011 <- sum(helmet_unknown$MC_DVR_HLMTON_IND.U[helmet_unknown$CRASH_YEAR==2011])\n",
    "helmet_unknown$metric2012 <- sum(helmet_unknown$MC_DVR_HLMTON_IND.U[helmet_unknown$CRASH_YEAR==2012])\n",
    "helmet_unknown$metric2013 <- sum(helmet_unknown$MC_DVR_HLMTON_IND.U[helmet_unknown$CRASH_YEAR==2013])\n",
    "helmet_unknown$metric2014 <- sum(helmet_unknown$MC_DVR_HLMTON_IND.U[helmet_unknown$CRASH_YEAR==2014])\n",
    "helmet_unknown$metric2015 <- sum(helmet_unknown$MC_DVR_HLMTON_IND.U[helmet_unknown$CRASH_YEAR==2015])\n",
    "helmet_unknown$metric2016 <- sum(helmet_unknown$MC_DVR_HLMTON_IND.U[helmet_unknown$CRASH_YEAR==2016])\n",
    "\n",
    "head(helmet_unknown)"
   ]
  },
  {
   "cell_type": "code",
   "execution_count": 169,
   "metadata": {
    "collapsed": true
   },
   "outputs": [],
   "source": [
    "# helmet_unknown$MC_DVR_HLMTON_IND <- NULL\n",
    "# helmet_unknown$MC_DVR_HLMTON_IND. <- NULL\n",
    "# helmet_unknown$MC_DVR_HLMTON_IND.N <- NULL\n",
    "# helmet_unknown$MC_DVR_HLMTON_IND.Y <- NULL\n",
    "# helmet_unknown$MC_DVR_HLMTON_IND.U <-NULL\n",
    "\n",
    "#helmet_unknown <- motorcycle_data[-c('MC_DVR_HLMTON_IND','MC_DVR_HLMTON_IND.','MC_DVR_HLMTON_IND.N','MC_DVR_HLMTON_IND.Y','MC_DVR_HLMTON_IND.U')]\n",
    "#helmet_unknown <- subset(helmet_unknown, select = -c('MC_DVR_HLMTON_IND','MC_DVR_HLMTON_IND.','MC_DVR_HLMTON_IND.N','MC_DVR_HLMTON_IND.Y','MC_DVR_HLMTON_IND.U') )"
   ]
  },
  {
   "cell_type": "code",
   "execution_count": 170,
   "metadata": {},
   "outputs": [
    {
     "data": {
      "text/html": [
       "<table>\n",
       "<thead><tr><th></th><th scope=col>label</th><th scope=col>metric1997</th><th scope=col>metric1998</th><th scope=col>metric1999</th><th scope=col>metric2000</th><th scope=col>metric2001</th><th scope=col>metric2002</th><th scope=col>metric2003</th><th scope=col>metric2004</th><th scope=col>metric2005</th><th scope=col>metric2006</th><th scope=col>metric2008</th><th scope=col>metric2009</th><th scope=col>metric2010</th><th scope=col>metric2011</th><th scope=col>metric2012</th><th scope=col>metric2013</th><th scope=col>metric2014</th><th scope=col>metric2015</th><th scope=col>metric2016</th></tr></thead>\n",
       "<tbody>\n",
       "\t<tr><th scope=row>4883</th><td>unknown</td><td>93     </td><td>115    </td><td>111    </td><td>156    </td><td>132    </td><td>116    </td><td>152    </td><td>22     </td><td>25     </td><td>26     </td><td>23     </td><td>23     </td><td>9      </td><td>32     </td><td>19     </td><td>23     </td><td>20     </td><td>16     </td><td>21     </td></tr>\n",
       "</tbody>\n",
       "</table>\n"
      ],
      "text/latex": [
       "\\begin{tabular}{r|llllllllllllllllllll}\n",
       "  & label & metric1997 & metric1998 & metric1999 & metric2000 & metric2001 & metric2002 & metric2003 & metric2004 & metric2005 & metric2006 & metric2008 & metric2009 & metric2010 & metric2011 & metric2012 & metric2013 & metric2014 & metric2015 & metric2016\\\\\n",
       "\\hline\n",
       "\t4883 & unknown & 93      & 115     & 111     & 156     & 132     & 116     & 152     & 22      & 25      & 26      & 23      & 23      & 9       & 32      & 19      & 23      & 20      & 16      & 21     \\\\\n",
       "\\end{tabular}\n"
      ],
      "text/markdown": [
       "\n",
       "| <!--/--> | label | metric1997 | metric1998 | metric1999 | metric2000 | metric2001 | metric2002 | metric2003 | metric2004 | metric2005 | metric2006 | metric2008 | metric2009 | metric2010 | metric2011 | metric2012 | metric2013 | metric2014 | metric2015 | metric2016 | \n",
       "|---|\n",
       "| 4883 | unknown | 93      | 115     | 111     | 156     | 132     | 116     | 152     | 22      | 25      | 26      | 23      | 23      | 9       | 32      | 19      | 23      | 20      | 16      | 21      | \n",
       "\n",
       "\n"
      ],
      "text/plain": [
       "     label   metric1997 metric1998 metric1999 metric2000 metric2001 metric2002\n",
       "4883 unknown 93         115        111        156        132        116       \n",
       "     metric2003 metric2004 metric2005 metric2006 metric2008 metric2009\n",
       "4883 152        22         25         26         23         23        \n",
       "     metric2010 metric2011 metric2012 metric2013 metric2014 metric2015\n",
       "4883 9          32         19         23         20         16        \n",
       "     metric2016\n",
       "4883 21        "
      ]
     },
     "metadata": {},
     "output_type": "display_data"
    }
   ],
   "source": [
    "helmet_unknown<-helmet_unknown[1,]\n",
    "helmet_unknown$label = \"unknown helmet\"\n",
    "helmet_unknown <- helmet_unknown[ -c(1:7) ]\n",
    "helmet_unknown = helmet_unknown[,c(20,1:19)]\n",
    "\n",
    "helmet_unknown\n"
   ]
  },
  {
   "cell_type": "code",
   "execution_count": 171,
   "metadata": {
    "collapsed": true
   },
   "outputs": [],
   "source": [
    "helmet_yes <- motorcycle_data[c('CRASH_YEAR','MC_DVR_HLMTON_IND','MCYCLE_DEATH_COUNT')]\n"
   ]
  },
  {
   "cell_type": "code",
   "execution_count": 172,
   "metadata": {
    "collapsed": true
   },
   "outputs": [],
   "source": [
    "helmet_yes <- subset(helmet_yes, MCYCLE_DEATH_COUNT>=1)\n"
   ]
  },
  {
   "cell_type": "code",
   "execution_count": 173,
   "metadata": {},
   "outputs": [
    {
     "data": {
      "text/html": [
       "<table>\n",
       "<thead><tr><th></th><th scope=col>CRASH_YEAR</th><th scope=col>MC_DVR_HLMTON_IND</th><th scope=col>MCYCLE_DEATH_COUNT</th><th scope=col>MC_DVR_HLMTON_IND.U</th><th scope=col>MC_DVR_HLMTON_IND. </th><th scope=col>MC_DVR_HLMTON_IND.Y</th><th scope=col>MC_DVR_HLMTON_IND.N</th></tr></thead>\n",
       "<tbody>\n",
       "\t<tr><th scope=row>4883</th><td>1997</td><td>U   </td><td>1   </td><td>1   </td><td>0   </td><td>0   </td><td>0   </td></tr>\n",
       "\t<tr><th scope=row>4886</th><td>1997</td><td>U   </td><td>1   </td><td>1   </td><td>0   </td><td>0   </td><td>0   </td></tr>\n",
       "\t<tr><th scope=row>4887</th><td>1997</td><td>U   </td><td>1   </td><td>1   </td><td>0   </td><td>0   </td><td>0   </td></tr>\n",
       "\t<tr><th scope=row>4888</th><td>1997</td><td>U   </td><td>1   </td><td>1   </td><td>0   </td><td>0   </td><td>0   </td></tr>\n",
       "\t<tr><th scope=row>4890</th><td>1997</td><td>U   </td><td>1   </td><td>1   </td><td>0   </td><td>0   </td><td>0   </td></tr>\n",
       "\t<tr><th scope=row>4891</th><td>1997</td><td>U   </td><td>1   </td><td>1   </td><td>0   </td><td>0   </td><td>0   </td></tr>\n",
       "</tbody>\n",
       "</table>\n"
      ],
      "text/latex": [
       "\\begin{tabular}{r|lllllll}\n",
       "  & CRASH\\_YEAR & MC\\_DVR\\_HLMTON\\_IND & MCYCLE\\_DEATH\\_COUNT & MC\\_DVR\\_HLMTON\\_IND.U & MC\\_DVR\\_HLMTON\\_IND.  & MC\\_DVR\\_HLMTON\\_IND.Y & MC\\_DVR\\_HLMTON\\_IND.N\\\\\n",
       "\\hline\n",
       "\t4883 & 1997 & U    & 1    & 1    & 0    & 0    & 0   \\\\\n",
       "\t4886 & 1997 & U    & 1    & 1    & 0    & 0    & 0   \\\\\n",
       "\t4887 & 1997 & U    & 1    & 1    & 0    & 0    & 0   \\\\\n",
       "\t4888 & 1997 & U    & 1    & 1    & 0    & 0    & 0   \\\\\n",
       "\t4890 & 1997 & U    & 1    & 1    & 0    & 0    & 0   \\\\\n",
       "\t4891 & 1997 & U    & 1    & 1    & 0    & 0    & 0   \\\\\n",
       "\\end{tabular}\n"
      ],
      "text/markdown": [
       "\n",
       "| <!--/--> | CRASH_YEAR | MC_DVR_HLMTON_IND | MCYCLE_DEATH_COUNT | MC_DVR_HLMTON_IND.U | MC_DVR_HLMTON_IND.  | MC_DVR_HLMTON_IND.Y | MC_DVR_HLMTON_IND.N | \n",
       "|---|---|---|---|---|---|\n",
       "| 4883 | 1997 | U    | 1    | 1    | 0    | 0    | 0    | \n",
       "| 4886 | 1997 | U    | 1    | 1    | 0    | 0    | 0    | \n",
       "| 4887 | 1997 | U    | 1    | 1    | 0    | 0    | 0    | \n",
       "| 4888 | 1997 | U    | 1    | 1    | 0    | 0    | 0    | \n",
       "| 4890 | 1997 | U    | 1    | 1    | 0    | 0    | 0    | \n",
       "| 4891 | 1997 | U    | 1    | 1    | 0    | 0    | 0    | \n",
       "\n",
       "\n"
      ],
      "text/plain": [
       "     CRASH_YEAR MC_DVR_HLMTON_IND MCYCLE_DEATH_COUNT MC_DVR_HLMTON_IND.U\n",
       "4883 1997       U                 1                  1                  \n",
       "4886 1997       U                 1                  1                  \n",
       "4887 1997       U                 1                  1                  \n",
       "4888 1997       U                 1                  1                  \n",
       "4890 1997       U                 1                  1                  \n",
       "4891 1997       U                 1                  1                  \n",
       "     MC_DVR_HLMTON_IND.  MC_DVR_HLMTON_IND.Y MC_DVR_HLMTON_IND.N\n",
       "4883 0                   0                   0                  \n",
       "4886 0                   0                   0                  \n",
       "4887 0                   0                   0                  \n",
       "4888 0                   0                   0                  \n",
       "4890 0                   0                   0                  \n",
       "4891 0                   0                   0                  "
      ]
     },
     "metadata": {},
     "output_type": "display_data"
    }
   ],
   "source": [
    "for(unique_value in unique(helmet_yes$MC_DVR_HLMTON_IND)){\n",
    "helmet_yes[paste(\"MC_DVR_HLMTON_IND\", unique_value, sep = \".\")] <- ifelse(helmet_yes$MC_DVR_HLMTON_IND == unique_value, 1, 0)\n",
    "}\n",
    "head(helmet_yes)"
   ]
  },
  {
   "cell_type": "code",
   "execution_count": 174,
   "metadata": {},
   "outputs": [
    {
     "data": {
      "text/html": [
       "<table>\n",
       "<thead><tr><th></th><th scope=col>CRASH_YEAR</th><th scope=col>MC_DVR_HLMTON_IND</th><th scope=col>MCYCLE_DEATH_COUNT</th><th scope=col>MC_DVR_HLMTON_IND.U</th><th scope=col>MC_DVR_HLMTON_IND. </th><th scope=col>MC_DVR_HLMTON_IND.Y</th><th scope=col>MC_DVR_HLMTON_IND.N</th><th scope=col>metric1997</th><th scope=col>metric1998</th><th scope=col>metric1999</th><th scope=col>⋯</th><th scope=col>metric2006</th><th scope=col>metric2008</th><th scope=col>metric2009</th><th scope=col>metric2010</th><th scope=col>metric2011</th><th scope=col>metric2012</th><th scope=col>metric2013</th><th scope=col>metric2014</th><th scope=col>metric2015</th><th scope=col>metric2016</th></tr></thead>\n",
       "<tbody>\n",
       "\t<tr><th scope=row>4883</th><td>1997    </td><td>U       </td><td>1       </td><td>1       </td><td>0       </td><td>0       </td><td>0       </td><td>0       </td><td>0       </td><td>0       </td><td><U+22EF></td><td>73      </td><td>74      </td><td>74      </td><td>59      </td><td>64      </td><td>70      </td><td>56      </td><td>52      </td><td>58      </td><td>62      </td></tr>\n",
       "\t<tr><th scope=row>4886</th><td>1997    </td><td>U       </td><td>1       </td><td>1       </td><td>0       </td><td>0       </td><td>0       </td><td>0       </td><td>0       </td><td>0       </td><td><U+22EF></td><td>73      </td><td>74      </td><td>74      </td><td>59      </td><td>64      </td><td>70      </td><td>56      </td><td>52      </td><td>58      </td><td>62      </td></tr>\n",
       "\t<tr><th scope=row>4887</th><td>1997    </td><td>U       </td><td>1       </td><td>1       </td><td>0       </td><td>0       </td><td>0       </td><td>0       </td><td>0       </td><td>0       </td><td><U+22EF></td><td>73      </td><td>74      </td><td>74      </td><td>59      </td><td>64      </td><td>70      </td><td>56      </td><td>52      </td><td>58      </td><td>62      </td></tr>\n",
       "\t<tr><th scope=row>4888</th><td>1997    </td><td>U       </td><td>1       </td><td>1       </td><td>0       </td><td>0       </td><td>0       </td><td>0       </td><td>0       </td><td>0       </td><td><U+22EF></td><td>73      </td><td>74      </td><td>74      </td><td>59      </td><td>64      </td><td>70      </td><td>56      </td><td>52      </td><td>58      </td><td>62      </td></tr>\n",
       "\t<tr><th scope=row>4890</th><td>1997    </td><td>U       </td><td>1       </td><td>1       </td><td>0       </td><td>0       </td><td>0       </td><td>0       </td><td>0       </td><td>0       </td><td><U+22EF></td><td>73      </td><td>74      </td><td>74      </td><td>59      </td><td>64      </td><td>70      </td><td>56      </td><td>52      </td><td>58      </td><td>62      </td></tr>\n",
       "\t<tr><th scope=row>4891</th><td>1997    </td><td>U       </td><td>1       </td><td>1       </td><td>0       </td><td>0       </td><td>0       </td><td>0       </td><td>0       </td><td>0       </td><td><U+22EF></td><td>73      </td><td>74      </td><td>74      </td><td>59      </td><td>64      </td><td>70      </td><td>56      </td><td>52      </td><td>58      </td><td>62      </td></tr>\n",
       "</tbody>\n",
       "</table>\n"
      ],
      "text/latex": [
       "\\begin{tabular}{r|llllllllllllllllllllllllll}\n",
       "  & CRASH\\_YEAR & MC\\_DVR\\_HLMTON\\_IND & MCYCLE\\_DEATH\\_COUNT & MC\\_DVR\\_HLMTON\\_IND.U & MC\\_DVR\\_HLMTON\\_IND.  & MC\\_DVR\\_HLMTON\\_IND.Y & MC\\_DVR\\_HLMTON\\_IND.N & metric1997 & metric1998 & metric1999 & ⋯ & metric2006 & metric2008 & metric2009 & metric2010 & metric2011 & metric2012 & metric2013 & metric2014 & metric2015 & metric2016\\\\\n",
       "\\hline\n",
       "\t4883 & 1997     & U        & 1        & 1        & 0        & 0        & 0        & 0        & 0        & 0        & <U+22EF> & 73       & 74       & 74       & 59       & 64       & 70       & 56       & 52       & 58       & 62      \\\\\n",
       "\t4886 & 1997     & U        & 1        & 1        & 0        & 0        & 0        & 0        & 0        & 0        & <U+22EF> & 73       & 74       & 74       & 59       & 64       & 70       & 56       & 52       & 58       & 62      \\\\\n",
       "\t4887 & 1997     & U        & 1        & 1        & 0        & 0        & 0        & 0        & 0        & 0        & <U+22EF> & 73       & 74       & 74       & 59       & 64       & 70       & 56       & 52       & 58       & 62      \\\\\n",
       "\t4888 & 1997     & U        & 1        & 1        & 0        & 0        & 0        & 0        & 0        & 0        & <U+22EF> & 73       & 74       & 74       & 59       & 64       & 70       & 56       & 52       & 58       & 62      \\\\\n",
       "\t4890 & 1997     & U        & 1        & 1        & 0        & 0        & 0        & 0        & 0        & 0        & <U+22EF> & 73       & 74       & 74       & 59       & 64       & 70       & 56       & 52       & 58       & 62      \\\\\n",
       "\t4891 & 1997     & U        & 1        & 1        & 0        & 0        & 0        & 0        & 0        & 0        & <U+22EF> & 73       & 74       & 74       & 59       & 64       & 70       & 56       & 52       & 58       & 62      \\\\\n",
       "\\end{tabular}\n"
      ],
      "text/markdown": [
       "\n",
       "| <!--/--> | CRASH_YEAR | MC_DVR_HLMTON_IND | MCYCLE_DEATH_COUNT | MC_DVR_HLMTON_IND.U | MC_DVR_HLMTON_IND.  | MC_DVR_HLMTON_IND.Y | MC_DVR_HLMTON_IND.N | metric1997 | metric1998 | metric1999 | ⋯ | metric2006 | metric2008 | metric2009 | metric2010 | metric2011 | metric2012 | metric2013 | metric2014 | metric2015 | metric2016 | \n",
       "|---|---|---|---|---|---|\n",
       "| 4883 | 1997     | U        | 1        | 1        | 0        | 0        | 0        | 0        | 0        | 0        | <U+22EF> | 73       | 74       | 74       | 59       | 64       | 70       | 56       | 52       | 58       | 62       | \n",
       "| 4886 | 1997     | U        | 1        | 1        | 0        | 0        | 0        | 0        | 0        | 0        | <U+22EF> | 73       | 74       | 74       | 59       | 64       | 70       | 56       | 52       | 58       | 62       | \n",
       "| 4887 | 1997     | U        | 1        | 1        | 0        | 0        | 0        | 0        | 0        | 0        | <U+22EF> | 73       | 74       | 74       | 59       | 64       | 70       | 56       | 52       | 58       | 62       | \n",
       "| 4888 | 1997     | U        | 1        | 1        | 0        | 0        | 0        | 0        | 0        | 0        | <U+22EF> | 73       | 74       | 74       | 59       | 64       | 70       | 56       | 52       | 58       | 62       | \n",
       "| 4890 | 1997     | U        | 1        | 1        | 0        | 0        | 0        | 0        | 0        | 0        | <U+22EF> | 73       | 74       | 74       | 59       | 64       | 70       | 56       | 52       | 58       | 62       | \n",
       "| 4891 | 1997     | U        | 1        | 1        | 0        | 0        | 0        | 0        | 0        | 0        | <U+22EF> | 73       | 74       | 74       | 59       | 64       | 70       | 56       | 52       | 58       | 62       | \n",
       "\n",
       "\n"
      ],
      "text/plain": [
       "     CRASH_YEAR MC_DVR_HLMTON_IND MCYCLE_DEATH_COUNT MC_DVR_HLMTON_IND.U\n",
       "4883 1997       U                 1                  1                  \n",
       "4886 1997       U                 1                  1                  \n",
       "4887 1997       U                 1                  1                  \n",
       "4888 1997       U                 1                  1                  \n",
       "4890 1997       U                 1                  1                  \n",
       "4891 1997       U                 1                  1                  \n",
       "     MC_DVR_HLMTON_IND.  MC_DVR_HLMTON_IND.Y MC_DVR_HLMTON_IND.N metric1997\n",
       "4883 0                   0                   0                   0         \n",
       "4886 0                   0                   0                   0         \n",
       "4887 0                   0                   0                   0         \n",
       "4888 0                   0                   0                   0         \n",
       "4890 0                   0                   0                   0         \n",
       "4891 0                   0                   0                   0         \n",
       "     metric1998 metric1999 <U+22EF>   metric2006 metric2008 metric2009 metric2010\n",
       "4883 0          0          <U+22EF> 73         74         74         59        \n",
       "4886 0          0          <U+22EF> 73         74         74         59        \n",
       "4887 0          0          <U+22EF> 73         74         74         59        \n",
       "4888 0          0          <U+22EF> 73         74         74         59        \n",
       "4890 0          0          <U+22EF> 73         74         74         59        \n",
       "4891 0          0          <U+22EF> 73         74         74         59        \n",
       "     metric2011 metric2012 metric2013 metric2014 metric2015 metric2016\n",
       "4883 64         70         56         52         58         62        \n",
       "4886 64         70         56         52         58         62        \n",
       "4887 64         70         56         52         58         62        \n",
       "4888 64         70         56         52         58         62        \n",
       "4890 64         70         56         52         58         62        \n",
       "4891 64         70         56         52         58         62        "
      ]
     },
     "metadata": {},
     "output_type": "display_data"
    }
   ],
   "source": [
    "helmet_yes$metric1997 <- sum(helmet_yes$MC_DVR_HLMTON_IND.Y[helmet_yes$CRASH_YEAR==1997])\n",
    "helmet_yes$metric1998 <- sum(helmet_yes$MC_DVR_HLMTON_IND.Y[helmet_yes$CRASH_YEAR==1998])\n",
    "helmet_yes$metric1999 <- sum(helmet_yes$MC_DVR_HLMTON_IND.Y[helmet_yes$CRASH_YEAR==1999])\n",
    "helmet_yes$metric2000 <- sum(helmet_yes$MC_DVR_HLMTON_IND.Y[helmet_yes$CRASH_YEAR==2000])\n",
    "helmet_yes$metric2001 <- sum(helmet_yes$MC_DVR_HLMTON_IND.Y[helmet_yes$CRASH_YEAR==2001])\n",
    "helmet_yes$metric2002 <- sum(helmet_yes$MC_DVR_HLMTON_IND.Y[helmet_yes$CRASH_YEAR==2002])\n",
    "helmet_yes$metric2003 <- sum(helmet_yes$MC_DVR_HLMTON_IND.Y[helmet_yes$CRASH_YEAR==2003])\n",
    "helmet_yes$metric2004 <- sum(helmet_yes$MC_DVR_HLMTON_IND.Y[helmet_yes$CRASH_YEAR==2004])\n",
    "helmet_yes$metric2005 <- sum(helmet_yes$MC_DVR_HLMTON_IND.Y[helmet_yes$CRASH_YEAR==2005])\n",
    "helmet_yes$metric2006 <- sum(helmet_yes$MC_DVR_HLMTON_IND.Y[helmet_yes$CRASH_YEAR==2007])\n",
    "helmet_yes$metric2008 <- sum(helmet_yes$MC_DVR_HLMTON_IND.Y[helmet_yes$CRASH_YEAR==2008])\n",
    "helmet_yes$metric2009 <- sum(helmet_yes$MC_DVR_HLMTON_IND.Y[helmet_yes$CRASH_YEAR==2009])\n",
    "helmet_yes$metric2010 <- sum(helmet_yes$MC_DVR_HLMTON_IND.Y[helmet_yes$CRASH_YEAR==2010])\n",
    "helmet_yes$metric2011 <- sum(helmet_yes$MC_DVR_HLMTON_IND.Y[helmet_yes$CRASH_YEAR==2011])\n",
    "helmet_yes$metric2012 <- sum(helmet_yes$MC_DVR_HLMTON_IND.Y[helmet_yes$CRASH_YEAR==2012])\n",
    "helmet_yes$metric2013 <- sum(helmet_yes$MC_DVR_HLMTON_IND.Y[helmet_yes$CRASH_YEAR==2013])\n",
    "helmet_yes$metric2014 <- sum(helmet_yes$MC_DVR_HLMTON_IND.Y[helmet_yes$CRASH_YEAR==2014])\n",
    "helmet_yes$metric2015 <- sum(helmet_yes$MC_DVR_HLMTON_IND.Y[helmet_yes$CRASH_YEAR==2015])\n",
    "helmet_yes$metric2016 <- sum(helmet_yes$MC_DVR_HLMTON_IND.Y[helmet_yes$CRASH_YEAR==2016])\n",
    "\n",
    "head(helmet_yes)"
   ]
  },
  {
   "cell_type": "code",
   "execution_count": 175,
   "metadata": {},
   "outputs": [
    {
     "data": {
      "text/html": [
       "<table>\n",
       "<thead><tr><th></th><th scope=col>label</th><th scope=col>metric1997</th><th scope=col>metric1998</th><th scope=col>metric1999</th><th scope=col>metric2000</th><th scope=col>metric2001</th><th scope=col>metric2002</th><th scope=col>metric2003</th><th scope=col>metric2004</th><th scope=col>metric2005</th><th scope=col>metric2006</th><th scope=col>metric2008</th><th scope=col>metric2009</th><th scope=col>metric2010</th><th scope=col>metric2011</th><th scope=col>metric2012</th><th scope=col>metric2013</th><th scope=col>metric2014</th><th scope=col>metric2015</th><th scope=col>metric2016</th></tr></thead>\n",
       "<tbody>\n",
       "\t<tr><th scope=row>4883</th><td>helmet</td><td>0     </td><td>0     </td><td>0     </td><td>0     </td><td>0     </td><td>1     </td><td>1     </td><td>43    </td><td>62    </td><td>73    </td><td>74    </td><td>74    </td><td>59    </td><td>64    </td><td>70    </td><td>56    </td><td>52    </td><td>58    </td><td>62    </td></tr>\n",
       "</tbody>\n",
       "</table>\n"
      ],
      "text/latex": [
       "\\begin{tabular}{r|llllllllllllllllllll}\n",
       "  & label & metric1997 & metric1998 & metric1999 & metric2000 & metric2001 & metric2002 & metric2003 & metric2004 & metric2005 & metric2006 & metric2008 & metric2009 & metric2010 & metric2011 & metric2012 & metric2013 & metric2014 & metric2015 & metric2016\\\\\n",
       "\\hline\n",
       "\t4883 & helmet & 0      & 0      & 0      & 0      & 0      & 1      & 1      & 43     & 62     & 73     & 74     & 74     & 59     & 64     & 70     & 56     & 52     & 58     & 62    \\\\\n",
       "\\end{tabular}\n"
      ],
      "text/markdown": [
       "\n",
       "| <!--/--> | label | metric1997 | metric1998 | metric1999 | metric2000 | metric2001 | metric2002 | metric2003 | metric2004 | metric2005 | metric2006 | metric2008 | metric2009 | metric2010 | metric2011 | metric2012 | metric2013 | metric2014 | metric2015 | metric2016 | \n",
       "|---|\n",
       "| 4883 | helmet | 0      | 0      | 0      | 0      | 0      | 1      | 1      | 43     | 62     | 73     | 74     | 74     | 59     | 64     | 70     | 56     | 52     | 58     | 62     | \n",
       "\n",
       "\n"
      ],
      "text/plain": [
       "     label  metric1997 metric1998 metric1999 metric2000 metric2001 metric2002\n",
       "4883 helmet 0          0          0          0          0          1         \n",
       "     metric2003 metric2004 metric2005 metric2006 metric2008 metric2009\n",
       "4883 1          43         62         73         74         74        \n",
       "     metric2010 metric2011 metric2012 metric2013 metric2014 metric2015\n",
       "4883 59         64         70         56         52         58        \n",
       "     metric2016\n",
       "4883 62        "
      ]
     },
     "metadata": {},
     "output_type": "display_data"
    }
   ],
   "source": [
    "helmet_yes<-helmet_yes[1,]\n",
    "helmet_yes$label = \"helmet\"\n",
    "helmet_yes <- helmet_yes[ -c(1:7) ]\n",
    "helmet_yes = helmet_yes[,c(20,1:19)]\n",
    "\n",
    "helmet_yes\n",
    "\n"
   ]
  },
  {
   "cell_type": "code",
   "execution_count": 176,
   "metadata": {
    "collapsed": true
   },
   "outputs": [],
   "source": [
    "helmet_no <- motorcycle_data[c('CRASH_YEAR','MC_DVR_HLMTON_IND','MCYCLE_DEATH_COUNT')]\n"
   ]
  },
  {
   "cell_type": "code",
   "execution_count": 177,
   "metadata": {
    "collapsed": true
   },
   "outputs": [],
   "source": [
    "helmet_no <- subset(helmet_no, MCYCLE_DEATH_COUNT>=1)\n"
   ]
  },
  {
   "cell_type": "code",
   "execution_count": 178,
   "metadata": {},
   "outputs": [
    {
     "data": {
      "text/html": [
       "<table>\n",
       "<thead><tr><th></th><th scope=col>CRASH_YEAR</th><th scope=col>MC_DVR_HLMTON_IND</th><th scope=col>MCYCLE_DEATH_COUNT</th><th scope=col>MC_DVR_HLMTON_IND.U</th><th scope=col>MC_DVR_HLMTON_IND. </th><th scope=col>MC_DVR_HLMTON_IND.Y</th><th scope=col>MC_DVR_HLMTON_IND.N</th></tr></thead>\n",
       "<tbody>\n",
       "\t<tr><th scope=row>4883</th><td>1997</td><td>U   </td><td>1   </td><td>1   </td><td>0   </td><td>0   </td><td>0   </td></tr>\n",
       "\t<tr><th scope=row>4886</th><td>1997</td><td>U   </td><td>1   </td><td>1   </td><td>0   </td><td>0   </td><td>0   </td></tr>\n",
       "\t<tr><th scope=row>4887</th><td>1997</td><td>U   </td><td>1   </td><td>1   </td><td>0   </td><td>0   </td><td>0   </td></tr>\n",
       "\t<tr><th scope=row>4888</th><td>1997</td><td>U   </td><td>1   </td><td>1   </td><td>0   </td><td>0   </td><td>0   </td></tr>\n",
       "\t<tr><th scope=row>4890</th><td>1997</td><td>U   </td><td>1   </td><td>1   </td><td>0   </td><td>0   </td><td>0   </td></tr>\n",
       "\t<tr><th scope=row>4891</th><td>1997</td><td>U   </td><td>1   </td><td>1   </td><td>0   </td><td>0   </td><td>0   </td></tr>\n",
       "</tbody>\n",
       "</table>\n"
      ],
      "text/latex": [
       "\\begin{tabular}{r|lllllll}\n",
       "  & CRASH\\_YEAR & MC\\_DVR\\_HLMTON\\_IND & MCYCLE\\_DEATH\\_COUNT & MC\\_DVR\\_HLMTON\\_IND.U & MC\\_DVR\\_HLMTON\\_IND.  & MC\\_DVR\\_HLMTON\\_IND.Y & MC\\_DVR\\_HLMTON\\_IND.N\\\\\n",
       "\\hline\n",
       "\t4883 & 1997 & U    & 1    & 1    & 0    & 0    & 0   \\\\\n",
       "\t4886 & 1997 & U    & 1    & 1    & 0    & 0    & 0   \\\\\n",
       "\t4887 & 1997 & U    & 1    & 1    & 0    & 0    & 0   \\\\\n",
       "\t4888 & 1997 & U    & 1    & 1    & 0    & 0    & 0   \\\\\n",
       "\t4890 & 1997 & U    & 1    & 1    & 0    & 0    & 0   \\\\\n",
       "\t4891 & 1997 & U    & 1    & 1    & 0    & 0    & 0   \\\\\n",
       "\\end{tabular}\n"
      ],
      "text/markdown": [
       "\n",
       "| <!--/--> | CRASH_YEAR | MC_DVR_HLMTON_IND | MCYCLE_DEATH_COUNT | MC_DVR_HLMTON_IND.U | MC_DVR_HLMTON_IND.  | MC_DVR_HLMTON_IND.Y | MC_DVR_HLMTON_IND.N | \n",
       "|---|---|---|---|---|---|\n",
       "| 4883 | 1997 | U    | 1    | 1    | 0    | 0    | 0    | \n",
       "| 4886 | 1997 | U    | 1    | 1    | 0    | 0    | 0    | \n",
       "| 4887 | 1997 | U    | 1    | 1    | 0    | 0    | 0    | \n",
       "| 4888 | 1997 | U    | 1    | 1    | 0    | 0    | 0    | \n",
       "| 4890 | 1997 | U    | 1    | 1    | 0    | 0    | 0    | \n",
       "| 4891 | 1997 | U    | 1    | 1    | 0    | 0    | 0    | \n",
       "\n",
       "\n"
      ],
      "text/plain": [
       "     CRASH_YEAR MC_DVR_HLMTON_IND MCYCLE_DEATH_COUNT MC_DVR_HLMTON_IND.U\n",
       "4883 1997       U                 1                  1                  \n",
       "4886 1997       U                 1                  1                  \n",
       "4887 1997       U                 1                  1                  \n",
       "4888 1997       U                 1                  1                  \n",
       "4890 1997       U                 1                  1                  \n",
       "4891 1997       U                 1                  1                  \n",
       "     MC_DVR_HLMTON_IND.  MC_DVR_HLMTON_IND.Y MC_DVR_HLMTON_IND.N\n",
       "4883 0                   0                   0                  \n",
       "4886 0                   0                   0                  \n",
       "4887 0                   0                   0                  \n",
       "4888 0                   0                   0                  \n",
       "4890 0                   0                   0                  \n",
       "4891 0                   0                   0                  "
      ]
     },
     "metadata": {},
     "output_type": "display_data"
    }
   ],
   "source": [
    "for(unique_value in unique(helmet_no$MC_DVR_HLMTON_IND)){\n",
    "helmet_no[paste(\"MC_DVR_HLMTON_IND\", unique_value, sep = \".\")] <- ifelse(helmet_no$MC_DVR_HLMTON_IND == unique_value, 1, 0)\n",
    "}\n",
    "head(helmet_no)"
   ]
  },
  {
   "cell_type": "code",
   "execution_count": 179,
   "metadata": {},
   "outputs": [
    {
     "data": {
      "text/html": [
       "<table>\n",
       "<thead><tr><th></th><th scope=col>CRASH_YEAR</th><th scope=col>MC_DVR_HLMTON_IND</th><th scope=col>MCYCLE_DEATH_COUNT</th><th scope=col>MC_DVR_HLMTON_IND.U</th><th scope=col>MC_DVR_HLMTON_IND. </th><th scope=col>MC_DVR_HLMTON_IND.Y</th><th scope=col>MC_DVR_HLMTON_IND.N</th><th scope=col>metric1997</th><th scope=col>metric1998</th><th scope=col>metric1999</th><th scope=col>⋯</th><th scope=col>metric2006</th><th scope=col>metric2008</th><th scope=col>metric2009</th><th scope=col>metric2010</th><th scope=col>metric2011</th><th scope=col>metric2012</th><th scope=col>metric2013</th><th scope=col>metric2014</th><th scope=col>metric2015</th><th scope=col>metric2016</th></tr></thead>\n",
       "<tbody>\n",
       "\t<tr><th scope=row>4883</th><td>1997    </td><td>U       </td><td>1       </td><td>1       </td><td>0       </td><td>0       </td><td>0       </td><td>0       </td><td>0       </td><td>0       </td><td><U+22EF></td><td>80      </td><td>117     </td><td>122     </td><td>136     </td><td>105     </td><td>116     </td><td>103     </td><td>109     </td><td>106     </td><td>107     </td></tr>\n",
       "\t<tr><th scope=row>4886</th><td>1997    </td><td>U       </td><td>1       </td><td>1       </td><td>0       </td><td>0       </td><td>0       </td><td>0       </td><td>0       </td><td>0       </td><td><U+22EF></td><td>80      </td><td>117     </td><td>122     </td><td>136     </td><td>105     </td><td>116     </td><td>103     </td><td>109     </td><td>106     </td><td>107     </td></tr>\n",
       "\t<tr><th scope=row>4887</th><td>1997    </td><td>U       </td><td>1       </td><td>1       </td><td>0       </td><td>0       </td><td>0       </td><td>0       </td><td>0       </td><td>0       </td><td><U+22EF></td><td>80      </td><td>117     </td><td>122     </td><td>136     </td><td>105     </td><td>116     </td><td>103     </td><td>109     </td><td>106     </td><td>107     </td></tr>\n",
       "\t<tr><th scope=row>4888</th><td>1997    </td><td>U       </td><td>1       </td><td>1       </td><td>0       </td><td>0       </td><td>0       </td><td>0       </td><td>0       </td><td>0       </td><td><U+22EF></td><td>80      </td><td>117     </td><td>122     </td><td>136     </td><td>105     </td><td>116     </td><td>103     </td><td>109     </td><td>106     </td><td>107     </td></tr>\n",
       "\t<tr><th scope=row>4890</th><td>1997    </td><td>U       </td><td>1       </td><td>1       </td><td>0       </td><td>0       </td><td>0       </td><td>0       </td><td>0       </td><td>0       </td><td><U+22EF></td><td>80      </td><td>117     </td><td>122     </td><td>136     </td><td>105     </td><td>116     </td><td>103     </td><td>109     </td><td>106     </td><td>107     </td></tr>\n",
       "\t<tr><th scope=row>4891</th><td>1997    </td><td>U       </td><td>1       </td><td>1       </td><td>0       </td><td>0       </td><td>0       </td><td>0       </td><td>0       </td><td>0       </td><td><U+22EF></td><td>80      </td><td>117     </td><td>122     </td><td>136     </td><td>105     </td><td>116     </td><td>103     </td><td>109     </td><td>106     </td><td>107     </td></tr>\n",
       "</tbody>\n",
       "</table>\n"
      ],
      "text/latex": [
       "\\begin{tabular}{r|llllllllllllllllllllllllll}\n",
       "  & CRASH\\_YEAR & MC\\_DVR\\_HLMTON\\_IND & MCYCLE\\_DEATH\\_COUNT & MC\\_DVR\\_HLMTON\\_IND.U & MC\\_DVR\\_HLMTON\\_IND.  & MC\\_DVR\\_HLMTON\\_IND.Y & MC\\_DVR\\_HLMTON\\_IND.N & metric1997 & metric1998 & metric1999 & ⋯ & metric2006 & metric2008 & metric2009 & metric2010 & metric2011 & metric2012 & metric2013 & metric2014 & metric2015 & metric2016\\\\\n",
       "\\hline\n",
       "\t4883 & 1997     & U        & 1        & 1        & 0        & 0        & 0        & 0        & 0        & 0        & <U+22EF> & 80       & 117      & 122      & 136      & 105      & 116      & 103      & 109      & 106      & 107     \\\\\n",
       "\t4886 & 1997     & U        & 1        & 1        & 0        & 0        & 0        & 0        & 0        & 0        & <U+22EF> & 80       & 117      & 122      & 136      & 105      & 116      & 103      & 109      & 106      & 107     \\\\\n",
       "\t4887 & 1997     & U        & 1        & 1        & 0        & 0        & 0        & 0        & 0        & 0        & <U+22EF> & 80       & 117      & 122      & 136      & 105      & 116      & 103      & 109      & 106      & 107     \\\\\n",
       "\t4888 & 1997     & U        & 1        & 1        & 0        & 0        & 0        & 0        & 0        & 0        & <U+22EF> & 80       & 117      & 122      & 136      & 105      & 116      & 103      & 109      & 106      & 107     \\\\\n",
       "\t4890 & 1997     & U        & 1        & 1        & 0        & 0        & 0        & 0        & 0        & 0        & <U+22EF> & 80       & 117      & 122      & 136      & 105      & 116      & 103      & 109      & 106      & 107     \\\\\n",
       "\t4891 & 1997     & U        & 1        & 1        & 0        & 0        & 0        & 0        & 0        & 0        & <U+22EF> & 80       & 117      & 122      & 136      & 105      & 116      & 103      & 109      & 106      & 107     \\\\\n",
       "\\end{tabular}\n"
      ],
      "text/markdown": [
       "\n",
       "| <!--/--> | CRASH_YEAR | MC_DVR_HLMTON_IND | MCYCLE_DEATH_COUNT | MC_DVR_HLMTON_IND.U | MC_DVR_HLMTON_IND.  | MC_DVR_HLMTON_IND.Y | MC_DVR_HLMTON_IND.N | metric1997 | metric1998 | metric1999 | ⋯ | metric2006 | metric2008 | metric2009 | metric2010 | metric2011 | metric2012 | metric2013 | metric2014 | metric2015 | metric2016 | \n",
       "|---|---|---|---|---|---|\n",
       "| 4883 | 1997     | U        | 1        | 1        | 0        | 0        | 0        | 0        | 0        | 0        | <U+22EF> | 80       | 117      | 122      | 136      | 105      | 116      | 103      | 109      | 106      | 107      | \n",
       "| 4886 | 1997     | U        | 1        | 1        | 0        | 0        | 0        | 0        | 0        | 0        | <U+22EF> | 80       | 117      | 122      | 136      | 105      | 116      | 103      | 109      | 106      | 107      | \n",
       "| 4887 | 1997     | U        | 1        | 1        | 0        | 0        | 0        | 0        | 0        | 0        | <U+22EF> | 80       | 117      | 122      | 136      | 105      | 116      | 103      | 109      | 106      | 107      | \n",
       "| 4888 | 1997     | U        | 1        | 1        | 0        | 0        | 0        | 0        | 0        | 0        | <U+22EF> | 80       | 117      | 122      | 136      | 105      | 116      | 103      | 109      | 106      | 107      | \n",
       "| 4890 | 1997     | U        | 1        | 1        | 0        | 0        | 0        | 0        | 0        | 0        | <U+22EF> | 80       | 117      | 122      | 136      | 105      | 116      | 103      | 109      | 106      | 107      | \n",
       "| 4891 | 1997     | U        | 1        | 1        | 0        | 0        | 0        | 0        | 0        | 0        | <U+22EF> | 80       | 117      | 122      | 136      | 105      | 116      | 103      | 109      | 106      | 107      | \n",
       "\n",
       "\n"
      ],
      "text/plain": [
       "     CRASH_YEAR MC_DVR_HLMTON_IND MCYCLE_DEATH_COUNT MC_DVR_HLMTON_IND.U\n",
       "4883 1997       U                 1                  1                  \n",
       "4886 1997       U                 1                  1                  \n",
       "4887 1997       U                 1                  1                  \n",
       "4888 1997       U                 1                  1                  \n",
       "4890 1997       U                 1                  1                  \n",
       "4891 1997       U                 1                  1                  \n",
       "     MC_DVR_HLMTON_IND.  MC_DVR_HLMTON_IND.Y MC_DVR_HLMTON_IND.N metric1997\n",
       "4883 0                   0                   0                   0         \n",
       "4886 0                   0                   0                   0         \n",
       "4887 0                   0                   0                   0         \n",
       "4888 0                   0                   0                   0         \n",
       "4890 0                   0                   0                   0         \n",
       "4891 0                   0                   0                   0         \n",
       "     metric1998 metric1999 <U+22EF>   metric2006 metric2008 metric2009 metric2010\n",
       "4883 0          0          <U+22EF> 80         117        122        136       \n",
       "4886 0          0          <U+22EF> 80         117        122        136       \n",
       "4887 0          0          <U+22EF> 80         117        122        136       \n",
       "4888 0          0          <U+22EF> 80         117        122        136       \n",
       "4890 0          0          <U+22EF> 80         117        122        136       \n",
       "4891 0          0          <U+22EF> 80         117        122        136       \n",
       "     metric2011 metric2012 metric2013 metric2014 metric2015 metric2016\n",
       "4883 105        116        103        109        106        107       \n",
       "4886 105        116        103        109        106        107       \n",
       "4887 105        116        103        109        106        107       \n",
       "4888 105        116        103        109        106        107       \n",
       "4890 105        116        103        109        106        107       \n",
       "4891 105        116        103        109        106        107       "
      ]
     },
     "metadata": {},
     "output_type": "display_data"
    }
   ],
   "source": [
    "helmet_no$metric1997 <- sum(helmet_no$MC_DVR_HLMTON_IND.N[helmet_no$CRASH_YEAR==1997])\n",
    "helmet_no$metric1998 <- sum(helmet_no$MC_DVR_HLMTON_IND.N[helmet_no$CRASH_YEAR==1998])\n",
    "helmet_no$metric1999 <- sum(helmet_no$MC_DVR_HLMTON_IND.N[helmet_no$CRASH_YEAR==1999])\n",
    "helmet_no$metric2000 <- sum(helmet_no$MC_DVR_HLMTON_IND.N[helmet_no$CRASH_YEAR==2000])\n",
    "helmet_no$metric2001 <- sum(helmet_no$MC_DVR_HLMTON_IND.N[helmet_no$CRASH_YEAR==2001])\n",
    "helmet_no$metric2002 <- sum(helmet_no$MC_DVR_HLMTON_IND.N[helmet_no$CRASH_YEAR==2002])\n",
    "helmet_no$metric2003 <- sum(helmet_no$MC_DVR_HLMTON_IND.N[helmet_no$CRASH_YEAR==2003])\n",
    "helmet_no$metric2004 <- sum(helmet_no$MC_DVR_HLMTON_IND.N[helmet_no$CRASH_YEAR==2004])\n",
    "helmet_no$metric2005 <- sum(helmet_no$MC_DVR_HLMTON_IND.N[helmet_no$CRASH_YEAR==2005])\n",
    "helmet_no$metric2006 <- sum(helmet_no$MC_DVR_HLMTON_IND.N[helmet_no$CRASH_YEAR==2007])\n",
    "helmet_no$metric2008 <- sum(helmet_no$MC_DVR_HLMTON_IND.N[helmet_no$CRASH_YEAR==2008])\n",
    "helmet_no$metric2009 <- sum(helmet_no$MC_DVR_HLMTON_IND.N[helmet_no$CRASH_YEAR==2009])\n",
    "helmet_no$metric2010 <- sum(helmet_no$MC_DVR_HLMTON_IND.N[helmet_no$CRASH_YEAR==2010])\n",
    "helmet_no$metric2011 <- sum(helmet_no$MC_DVR_HLMTON_IND.N[helmet_no$CRASH_YEAR==2011])\n",
    "helmet_no$metric2012 <- sum(helmet_no$MC_DVR_HLMTON_IND.N[helmet_no$CRASH_YEAR==2012])\n",
    "helmet_no$metric2013 <- sum(helmet_no$MC_DVR_HLMTON_IND.N[helmet_no$CRASH_YEAR==2013])\n",
    "helmet_no$metric2014 <- sum(helmet_no$MC_DVR_HLMTON_IND.N[helmet_no$CRASH_YEAR==2014])\n",
    "helmet_no$metric2015 <- sum(helmet_no$MC_DVR_HLMTON_IND.N[helmet_no$CRASH_YEAR==2015])\n",
    "helmet_no$metric2016 <- sum(helmet_no$MC_DVR_HLMTON_IND.N[helmet_no$CRASH_YEAR==2016])\n",
    "\n",
    "head(helmet_no)"
   ]
  },
  {
   "cell_type": "code",
   "execution_count": 180,
   "metadata": {},
   "outputs": [
    {
     "data": {
      "text/html": [
       "<table>\n",
       "<thead><tr><th></th><th scope=col>label</th><th scope=col>metric1997</th><th scope=col>metric1998</th><th scope=col>metric1999</th><th scope=col>metric2000</th><th scope=col>metric2001</th><th scope=col>metric2002</th><th scope=col>metric2003</th><th scope=col>metric2004</th><th scope=col>metric2005</th><th scope=col>metric2006</th><th scope=col>metric2008</th><th scope=col>metric2009</th><th scope=col>metric2010</th><th scope=col>metric2011</th><th scope=col>metric2012</th><th scope=col>metric2013</th><th scope=col>metric2014</th><th scope=col>metric2015</th><th scope=col>metric2016</th></tr></thead>\n",
       "<tbody>\n",
       "\t<tr><th scope=row>4883</th><td>no_helmet</td><td>0        </td><td>0        </td><td>0        </td><td>0        </td><td>0        </td><td>0        </td><td>1        </td><td>25       </td><td>60       </td><td>80       </td><td>117      </td><td>122      </td><td>136      </td><td>105      </td><td>116      </td><td>103      </td><td>109      </td><td>106      </td><td>107      </td></tr>\n",
       "</tbody>\n",
       "</table>\n"
      ],
      "text/latex": [
       "\\begin{tabular}{r|llllllllllllllllllll}\n",
       "  & label & metric1997 & metric1998 & metric1999 & metric2000 & metric2001 & metric2002 & metric2003 & metric2004 & metric2005 & metric2006 & metric2008 & metric2009 & metric2010 & metric2011 & metric2012 & metric2013 & metric2014 & metric2015 & metric2016\\\\\n",
       "\\hline\n",
       "\t4883 & no\\_helmet & 0           & 0           & 0           & 0           & 0           & 0           & 1           & 25          & 60          & 80          & 117         & 122         & 136         & 105         & 116         & 103         & 109         & 106         & 107        \\\\\n",
       "\\end{tabular}\n"
      ],
      "text/markdown": [
       "\n",
       "| <!--/--> | label | metric1997 | metric1998 | metric1999 | metric2000 | metric2001 | metric2002 | metric2003 | metric2004 | metric2005 | metric2006 | metric2008 | metric2009 | metric2010 | metric2011 | metric2012 | metric2013 | metric2014 | metric2015 | metric2016 | \n",
       "|---|\n",
       "| 4883 | no_helmet | 0         | 0         | 0         | 0         | 0         | 0         | 1         | 25        | 60        | 80        | 117       | 122       | 136       | 105       | 116       | 103       | 109       | 106       | 107       | \n",
       "\n",
       "\n"
      ],
      "text/plain": [
       "     label     metric1997 metric1998 metric1999 metric2000 metric2001\n",
       "4883 no_helmet 0          0          0          0          0         \n",
       "     metric2002 metric2003 metric2004 metric2005 metric2006 metric2008\n",
       "4883 0          1          25         60         80         117       \n",
       "     metric2009 metric2010 metric2011 metric2012 metric2013 metric2014\n",
       "4883 122        136        105        116        103        109       \n",
       "     metric2015 metric2016\n",
       "4883 106        107       "
      ]
     },
     "metadata": {},
     "output_type": "display_data"
    }
   ],
   "source": [
    "helmet_no<-helmet_no[1,]\n",
    "helmet_no$label = \"no_helmet\"\n",
    "helmet_no <- helmet_no[ -c(1:7) ]\n",
    "helmet_no = helmet_no[,c(20,1:19)]\n",
    "\n",
    "helmet_no\n",
    "\n"
   ]
  },
  {
   "cell_type": "code",
   "execution_count": 181,
   "metadata": {},
   "outputs": [
    {
     "data": {
      "text/html": [
       "<table>\n",
       "<thead><tr><th></th><th scope=col>label</th><th scope=col>metric1997</th><th scope=col>metric1998</th><th scope=col>metric1999</th><th scope=col>metric2000</th><th scope=col>metric2001</th><th scope=col>metric2002</th><th scope=col>metric2003</th><th scope=col>metric2004</th><th scope=col>metric2005</th><th scope=col>metric2006</th><th scope=col>metric2008</th><th scope=col>metric2009</th><th scope=col>metric2010</th><th scope=col>metric2011</th><th scope=col>metric2012</th><th scope=col>metric2013</th><th scope=col>metric2014</th><th scope=col>metric2015</th><th scope=col>metric2016</th></tr></thead>\n",
       "<tbody>\n",
       "\t<tr><th scope=row>4883</th><td>unknown  </td><td>93       </td><td>115      </td><td>111      </td><td>156      </td><td>132      </td><td>116      </td><td>152      </td><td>22       </td><td>25       </td><td>26       </td><td> 23      </td><td> 23      </td><td>  9      </td><td> 32      </td><td> 19      </td><td> 23      </td><td> 20      </td><td> 16      </td><td> 21      </td></tr>\n",
       "\t<tr><th scope=row>48831</th><td>helmet   </td><td> 0       </td><td>  0      </td><td>  0      </td><td>  0      </td><td>  0      </td><td>  1      </td><td>  1      </td><td>43       </td><td>62       </td><td>73       </td><td> 74      </td><td> 74      </td><td> 59      </td><td> 64      </td><td> 70      </td><td> 56      </td><td> 52      </td><td> 58      </td><td> 62      </td></tr>\n",
       "\t<tr><th scope=row>48832</th><td>no_helmet</td><td> 0       </td><td>  0      </td><td>  0      </td><td>  0      </td><td>  0      </td><td>  0      </td><td>  1      </td><td>25       </td><td>60       </td><td>80       </td><td>117      </td><td>122      </td><td>136      </td><td>105      </td><td>116      </td><td>103      </td><td>109      </td><td>106      </td><td>107      </td></tr>\n",
       "</tbody>\n",
       "</table>\n"
      ],
      "text/latex": [
       "\\begin{tabular}{r|llllllllllllllllllll}\n",
       "  & label & metric1997 & metric1998 & metric1999 & metric2000 & metric2001 & metric2002 & metric2003 & metric2004 & metric2005 & metric2006 & metric2008 & metric2009 & metric2010 & metric2011 & metric2012 & metric2013 & metric2014 & metric2015 & metric2016\\\\\n",
       "\\hline\n",
       "\t4883 & unknown   & 93        & 115       & 111       & 156       & 132       & 116       & 152       & 22        & 25        & 26        &  23       &  23       &   9       &  32       &  19       &  23       &  20       &  16       &  21      \\\\\n",
       "\t48831 & helmet    &  0        &   0       &   0       &   0       &   0       &   1       &   1       & 43        & 62        & 73        &  74       &  74       &  59       &  64       &  70       &  56       &  52       &  58       &  62      \\\\\n",
       "\t48832 & no\\_helmet &  0          &   0         &   0         &   0         &   0         &   0         &   1         & 25          & 60          & 80          & 117         & 122         & 136         & 105         & 116         & 103         & 109         & 106         & 107        \\\\\n",
       "\\end{tabular}\n"
      ],
      "text/markdown": [
       "\n",
       "| <!--/--> | label | metric1997 | metric1998 | metric1999 | metric2000 | metric2001 | metric2002 | metric2003 | metric2004 | metric2005 | metric2006 | metric2008 | metric2009 | metric2010 | metric2011 | metric2012 | metric2013 | metric2014 | metric2015 | metric2016 | \n",
       "|---|---|---|\n",
       "| 4883 | unknown   | 93        | 115       | 111       | 156       | 132       | 116       | 152       | 22        | 25        | 26        |  23       |  23       |   9       |  32       |  19       |  23       |  20       |  16       |  21       | \n",
       "| 48831 | helmet    |  0        |   0       |   0       |   0       |   0       |   1       |   1       | 43        | 62        | 73        |  74       |  74       |  59       |  64       |  70       |  56       |  52       |  58       |  62       | \n",
       "| 48832 | no_helmet |  0        |   0       |   0       |   0       |   0       |   0       |   1       | 25        | 60        | 80        | 117       | 122       | 136       | 105       | 116       | 103       | 109       | 106       | 107       | \n",
       "\n",
       "\n"
      ],
      "text/plain": [
       "      label     metric1997 metric1998 metric1999 metric2000 metric2001\n",
       "4883  unknown   93         115        111        156        132       \n",
       "48831 helmet     0           0          0          0          0       \n",
       "48832 no_helmet  0           0          0          0          0       \n",
       "      metric2002 metric2003 metric2004 metric2005 metric2006 metric2008\n",
       "4883  116        152        22         25         26          23       \n",
       "48831   1          1        43         62         73          74       \n",
       "48832   0          1        25         60         80         117       \n",
       "      metric2009 metric2010 metric2011 metric2012 metric2013 metric2014\n",
       "4883   23          9         32         19         23         20       \n",
       "48831  74         59         64         70         56         52       \n",
       "48832 122        136        105        116        103        109       \n",
       "      metric2015 metric2016\n",
       "4883   16         21       \n",
       "48831  58         62       \n",
       "48832 106        107       "
      ]
     },
     "metadata": {},
     "output_type": "display_data"
    }
   ],
   "source": [
    "helmets<-rbind(helmet_unknown,helmet_yes,helmet_no)\n",
    "helmets"
   ]
  },
  {
   "cell_type": "code",
   "execution_count": 182,
   "metadata": {},
   "outputs": [
    {
     "data": {
      "text/html": [
       "<table>\n",
       "<thead><tr><th></th><th scope=col>label</th><th scope=col>metric1997</th><th scope=col>metric1998</th><th scope=col>metric1999</th><th scope=col>metric2000</th><th scope=col>metric2001</th><th scope=col>metric2002</th><th scope=col>metric2003</th><th scope=col>metric2004</th><th scope=col>metric2005</th><th scope=col>metric2006</th><th scope=col>metric2008</th><th scope=col>metric2009</th><th scope=col>metric2010</th><th scope=col>metric2011</th><th scope=col>metric2012</th><th scope=col>metric2013</th><th scope=col>metric2014</th><th scope=col>metric2015</th><th scope=col>metric2016</th></tr></thead>\n",
       "<tbody>\n",
       "\t<tr><th scope=row>1</th><td>deaths           </td><td>97               </td><td>120              </td><td>116              </td><td>157              </td><td>141              </td><td>121              </td><td>161              </td><td>167              </td><td>219              </td><td>232              </td><td>245              </td><td>256              </td><td>239              </td><td>219              </td><td>219              </td><td>197              </td><td>189              </td><td>185              </td><td>199              </td></tr>\n",
       "\t<tr><th scope=row>2</th><td>deaths_per_100000</td><td>51.4             </td><td>59.7             </td><td>56.6             </td><td>71.2             </td><td>56.6             </td><td>54.8             </td><td>59.2             </td><td>55.1             </td><td>65.5             </td><td>55.7             </td><td>63               </td><td>61.4             </td><td>52.5             </td><td>56.7             </td><td>49.9             </td><td>51.9             </td><td>45.2             </td><td>46.9             </td><td>45.1             </td></tr>\n",
       "\t<tr><th scope=row>4883</th><td>unknown          </td><td>93               </td><td>115              </td><td>111              </td><td>156              </td><td>132              </td><td>116              </td><td>152              </td><td>22               </td><td>25               </td><td>26               </td><td>23               </td><td>23               </td><td>9                </td><td>32               </td><td>19               </td><td>23               </td><td>20               </td><td>16               </td><td>21               </td></tr>\n",
       "\t<tr><th scope=row>48831</th><td>helmet           </td><td>0                </td><td>0                </td><td>0                </td><td>0                </td><td>0                </td><td>1                </td><td>1                </td><td>43               </td><td>62               </td><td>73               </td><td>74               </td><td>74               </td><td>59               </td><td>64               </td><td>70               </td><td>56               </td><td>52               </td><td>58               </td><td>62               </td></tr>\n",
       "\t<tr><th scope=row>48832</th><td>no_helmet        </td><td>0                </td><td>0                </td><td>0                </td><td>0                </td><td>0                </td><td>0                </td><td>1                </td><td>25               </td><td>60               </td><td>80               </td><td>117              </td><td>122              </td><td>136              </td><td>105              </td><td>116              </td><td>103              </td><td>109              </td><td>106              </td><td>107              </td></tr>\n",
       "</tbody>\n",
       "</table>\n"
      ],
      "text/latex": [
       "\\begin{tabular}{r|llllllllllllllllllll}\n",
       "  & label & metric1997 & metric1998 & metric1999 & metric2000 & metric2001 & metric2002 & metric2003 & metric2004 & metric2005 & metric2006 & metric2008 & metric2009 & metric2010 & metric2011 & metric2012 & metric2013 & metric2014 & metric2015 & metric2016\\\\\n",
       "\\hline\n",
       "\t1 & deaths            & 97                & 120               & 116               & 157               & 141               & 121               & 161               & 167               & 219               & 232               & 245               & 256               & 239               & 219               & 219               & 197               & 189               & 185               & 199              \\\\\n",
       "\t2 & deaths\\_per\\_100000 & 51.4                  & 59.7                  & 56.6                  & 71.2                  & 56.6                  & 54.8                  & 59.2                  & 55.1                  & 65.5                  & 55.7                  & 63                    & 61.4                  & 52.5                  & 56.7                  & 49.9                  & 51.9                  & 45.2                  & 46.9                  & 45.1                 \\\\\n",
       "\t4883 & unknown           & 93                & 115               & 111               & 156               & 132               & 116               & 152               & 22                & 25                & 26                & 23                & 23                & 9                 & 32                & 19                & 23                & 20                & 16                & 21               \\\\\n",
       "\t48831 & helmet            & 0                 & 0                 & 0                 & 0                 & 0                 & 1                 & 1                 & 43                & 62                & 73                & 74                & 74                & 59                & 64                & 70                & 56                & 52                & 58                & 62               \\\\\n",
       "\t48832 & no\\_helmet         & 0                   & 0                   & 0                   & 0                   & 0                   & 0                   & 1                   & 25                  & 60                  & 80                  & 117                 & 122                 & 136                 & 105                 & 116                 & 103                 & 109                 & 106                 & 107                \\\\\n",
       "\\end{tabular}\n"
      ],
      "text/markdown": [
       "\n",
       "| <!--/--> | label | metric1997 | metric1998 | metric1999 | metric2000 | metric2001 | metric2002 | metric2003 | metric2004 | metric2005 | metric2006 | metric2008 | metric2009 | metric2010 | metric2011 | metric2012 | metric2013 | metric2014 | metric2015 | metric2016 | \n",
       "|---|---|---|---|---|\n",
       "| 1 | deaths            | 97                | 120               | 116               | 157               | 141               | 121               | 161               | 167               | 219               | 232               | 245               | 256               | 239               | 219               | 219               | 197               | 189               | 185               | 199               | \n",
       "| 2 | deaths_per_100000 | 51.4              | 59.7              | 56.6              | 71.2              | 56.6              | 54.8              | 59.2              | 55.1              | 65.5              | 55.7              | 63                | 61.4              | 52.5              | 56.7              | 49.9              | 51.9              | 45.2              | 46.9              | 45.1              | \n",
       "| 4883 | unknown           | 93                | 115               | 111               | 156               | 132               | 116               | 152               | 22                | 25                | 26                | 23                | 23                | 9                 | 32                | 19                | 23                | 20                | 16                | 21                | \n",
       "| 48831 | helmet            | 0                 | 0                 | 0                 | 0                 | 0                 | 1                 | 1                 | 43                | 62                | 73                | 74                | 74                | 59                | 64                | 70                | 56                | 52                | 58                | 62                | \n",
       "| 48832 | no_helmet         | 0                 | 0                 | 0                 | 0                 | 0                 | 0                 | 1                 | 25                | 60                | 80                | 117               | 122               | 136               | 105               | 116               | 103               | 109               | 106               | 107               | \n",
       "\n",
       "\n"
      ],
      "text/plain": [
       "      label             metric1997 metric1998 metric1999 metric2000 metric2001\n",
       "1     deaths            97         120        116        157        141       \n",
       "2     deaths_per_100000 51.4       59.7       56.6       71.2       56.6      \n",
       "4883  unknown           93         115        111        156        132       \n",
       "48831 helmet            0          0          0          0          0         \n",
       "48832 no_helmet         0          0          0          0          0         \n",
       "      metric2002 metric2003 metric2004 metric2005 metric2006 metric2008\n",
       "1     121        161        167        219        232        245       \n",
       "2     54.8       59.2       55.1       65.5       55.7       63        \n",
       "4883  116        152        22         25         26         23        \n",
       "48831 1          1          43         62         73         74        \n",
       "48832 0          1          25         60         80         117       \n",
       "      metric2009 metric2010 metric2011 metric2012 metric2013 metric2014\n",
       "1     256        239        219        219        197        189       \n",
       "2     61.4       52.5       56.7       49.9       51.9       45.2      \n",
       "4883  23         9          32         19         23         20        \n",
       "48831 74         59         64         70         56         52        \n",
       "48832 122        136        105        116        103        109       \n",
       "      metric2015 metric2016\n",
       "1     185        199       \n",
       "2     46.9       45.1      \n",
       "4883  16         21        \n",
       "48831 58         62        \n",
       "48832 106        107       "
      ]
     },
     "metadata": {},
     "output_type": "display_data"
    }
   ],
   "source": [
    "df3<-rbind(df2, helmets)\n",
    "df3"
   ]
  },
  {
   "cell_type": "code",
   "execution_count": 184,
   "metadata": {},
   "outputs": [
    {
     "data": {
      "text/html": [
       "'[[\"deaths\",97,120,116,157,141,121,161,167,219,232,245,256,256,239,219,219,197,189,185,199], [\"deaths_per_100000\",51.4,59.7,56.6,71.2,56.6,54.8,59.2,55.1,65.5,55.7,63,61.4,61.4,52.5,56.7,49.9,51.9,45.2,46.9,45.1], [\"unknown\",93,115,111,156,132,116,152,22,25,26,23,23,23,9,32,19,23,20,16,21], [\"helmet\",0,0,0,0,0,1,1,43,62,73,74,74,74,59,64,70,56,52,58,62], [\"no_helmet\",0,0,0,0,0,0,1,25,60,80,117,122,122,136,105,116,103,109,106,107]]'"
      ],
      "text/latex": [
       "'{[}{[}\"deaths\",97,120,116,157,141,121,161,167,219,232,245,256,256,239,219,219,197,189,185,199{]}, {[}\"deaths\\_per\\_100000\",51.4,59.7,56.6,71.2,56.6,54.8,59.2,55.1,65.5,55.7,63,61.4,61.4,52.5,56.7,49.9,51.9,45.2,46.9,45.1{]}, {[}\"unknown\",93,115,111,156,132,116,152,22,25,26,23,23,23,9,32,19,23,20,16,21{]}, {[}\"helmet\",0,0,0,0,0,1,1,43,62,73,74,74,74,59,64,70,56,52,58,62{]}, {[}\"no\\_helmet\",0,0,0,0,0,0,1,25,60,80,117,122,122,136,105,116,103,109,106,107{]}{]}'"
      ],
      "text/markdown": [
       "'[[\"deaths\",97,120,116,157,141,121,161,167,219,232,245,256,256,239,219,219,197,189,185,199], [\"deaths_per_100000\",51.4,59.7,56.6,71.2,56.6,54.8,59.2,55.1,65.5,55.7,63,61.4,61.4,52.5,56.7,49.9,51.9,45.2,46.9,45.1], [\"unknown\",93,115,111,156,132,116,152,22,25,26,23,23,23,9,32,19,23,20,16,21], [\"helmet\",0,0,0,0,0,1,1,43,62,73,74,74,74,59,64,70,56,52,58,62], [\"no_helmet\",0,0,0,0,0,0,1,25,60,80,117,122,122,136,105,116,103,109,106,107]]'"
      ],
      "text/plain": [
       "[1] \"[[\\\"deaths\\\",97,120,116,157,141,121,161,167,219,232,245,256,256,239,219,219,197,189,185,199], [\\\"deaths_per_100000\\\",51.4,59.7,56.6,71.2,56.6,54.8,59.2,55.1,65.5,55.7,63,61.4,61.4,52.5,56.7,49.9,51.9,45.2,46.9,45.1], [\\\"unknown\\\",93,115,111,156,132,116,152,22,25,26,23,23,23,9,32,19,23,20,16,21], [\\\"helmet\\\",0,0,0,0,0,1,1,43,62,73,74,74,74,59,64,70,56,52,58,62], [\\\"no_helmet\\\",0,0,0,0,0,0,1,25,60,80,117,122,122,136,105,116,103,109,106,107]]\""
      ]
     },
     "metadata": {},
     "output_type": "display_data"
    }
   ],
   "source": [
    "# #this will create your js array to send to the js code\n",
    "# myf2 <- function(x) { sprintf('[\"%s\",%s,%s,%s,%s,%s,%s,%s,%s,%s,%s,%s,%s]', x[1], x[2],x[3],x[4],x[5],x[6],x[7],x[8],x[9],x[10],x[11],x[12],x[13])}\n",
    "# data <- apply(helmets,1,myf2)\n",
    "# msg_str2 <- paste0('[',toString(data),']')\n",
    "# msg_str2\n",
    "\n",
    "\n",
    "myf1 <- function(x) { sprintf('[\"%s\",%s,%s,%s,%s,%s,%s,%s,%s,%s,%s,%s,%s,%s,%s,%s,%s,%s,%s,%s,%s]', \n",
    "                              x[1], x[2],x[3],x[4],x[5],x[6],x[7],x[8],x[9],x[10],x[11],x[12],x[13],x[13],x[14]\n",
    "                             ,x[15],x[16],x[17],x[18],x[19],x[20])}\n",
    "data <- apply(df3,1,myf1)\n",
    "msg_str1 <- paste0('[',toString(data),']')\n",
    "msg_str1"
   ]
  },
  {
   "cell_type": "code",
   "execution_count": null,
   "metadata": {
    "collapsed": true
   },
   "outputs": [],
   "source": [
    "# UI \n",
    "library(shiny)\n",
    "library(jsonlite)\n",
    "library(reshape2)\n",
    "library(ggplot2)\n",
    "library(dplyr)\n",
    "library(data.table)\n",
    "\n",
    "motorcycle_data<-fread('cycle_flag.csv', data.table=FALSE)\n",
    "\n",
    "df1 <- motorcycle_data[c('CRASH_YEAR','MCYCLE_DEATH_COUNT')]\n",
    "\n",
    "df1$metric1997 <- sum(df1$MCYCLE_DEATH_COUNT[df1$CRASH_YEAR==1997])\n",
    "df1$metric1998 <- sum(df1$MCYCLE_DEATH_COUNT[df1$CRASH_YEAR==1998])\n",
    "df1$metric1999 <- sum(df1$MCYCLE_DEATH_COUNT[df1$CRASH_YEAR==1999])\n",
    "df1$metric2000 <- sum(df1$MCYCLE_DEATH_COUNT[df1$CRASH_YEAR==2000])\n",
    "df1$metric2001 <- sum(df1$MCYCLE_DEATH_COUNT[df1$CRASH_YEAR==2001])\n",
    "df1$metric2002 <- sum(df1$MCYCLE_DEATH_COUNT[df1$CRASH_YEAR==2002])\n",
    "df1$metric2003 <- sum(df1$MCYCLE_DEATH_COUNT[df1$CRASH_YEAR==2003])\n",
    "df1$metric2004 <- sum(df1$MCYCLE_DEATH_COUNT[df1$CRASH_YEAR==2004])\n",
    "df1$metric2005 <- sum(df1$MCYCLE_DEATH_COUNT[df1$CRASH_YEAR==2005])\n",
    "df1$metric2006 <- sum(df1$MCYCLE_DEATH_COUNT[df1$CRASH_YEAR==2007])\n",
    "df1$metric2008 <- sum(df1$MCYCLE_DEATH_COUNT[df1$CRASH_YEAR==2008])\n",
    "df1$metric2009 <- sum(df1$MCYCLE_DEATH_COUNT[df1$CRASH_YEAR==2009])\n",
    "df1$metric2010 <- sum(df1$MCYCLE_DEATH_COUNT[df1$CRASH_YEAR==2010])\n",
    "df1$metric2011 <- sum(df1$MCYCLE_DEATH_COUNT[df1$CRASH_YEAR==2011])\n",
    "df1$metric2012 <- sum(df1$MCYCLE_DEATH_COUNT[df1$CRASH_YEAR==2012])\n",
    "df1$metric2013 <- sum(df1$MCYCLE_DEATH_COUNT[df1$CRASH_YEAR==2013])\n",
    "df1$metric2014 <- sum(df1$MCYCLE_DEATH_COUNT[df1$CRASH_YEAR==2014])\n",
    "df1$metric2015 <- sum(df1$MCYCLE_DEATH_COUNT[df1$CRASH_YEAR==2015])\n",
    "df1$metric2016 <- sum(df1$MCYCLE_DEATH_COUNT[df1$CRASH_YEAR==2016])\n",
    "\n",
    "df1$CRASH_YEAR <- NULL\n",
    "df1$MCYCLE_DEATH_COUNT <- NULL\n",
    "df1<-df1[1,]\n",
    "df1$label = \"Total motorcycle deaths\"\n",
    "df1 = df1[,c(20,1:19)]\n",
    "\n",
    "df2<-rbind(df1, c('Deaths per 100,000 registered motorcycles' ,51.4, 59.7, 56.6,71.2,56.6,54.8,59.2,55.1,65.5,55.7,63.0,61.4,52.5,56.7,49.9,51.9,45.2,46.9,45.1,49.0))\n",
    "\n",
    "helmet_unknown <- motorcycle_data[c('CRASH_YEAR','MC_DVR_HLMTON_IND','MCYCLE_DEATH_COUNT')]\n",
    "helmet_unknown <- subset(helmet_unknown, MCYCLE_DEATH_COUNT>=1,drop=FALSE)\n",
    "for(unique_value in unique(helmet_unknown$MC_DVR_HLMTON_IND)){\n",
    "helmet_unknown[paste(\"MC_DVR_HLMTON_IND\", unique_value, sep = \".\")] <- ifelse(helmet_unknown$MC_DVR_HLMTON_IND == unique_value, 1, 0)\n",
    "}\n",
    "helmet_unknown$metric1997 <- sum(helmet_unknown$MC_DVR_HLMTON_IND.U[helmet_unknown$CRASH_YEAR==1997])\n",
    "helmet_unknown$metric1998 <- sum(helmet_unknown$MC_DVR_HLMTON_IND.U[helmet_unknown$CRASH_YEAR==1998])\n",
    "helmet_unknown$metric1999 <- sum(helmet_unknown$MC_DVR_HLMTON_IND.U[helmet_unknown$CRASH_YEAR==1999])\n",
    "helmet_unknown$metric2000 <- sum(helmet_unknown$MC_DVR_HLMTON_IND.U[helmet_unknown$CRASH_YEAR==2000])\n",
    "helmet_unknown$metric2001 <- sum(helmet_unknown$MC_DVR_HLMTON_IND.U[helmet_unknown$CRASH_YEAR==2001])\n",
    "helmet_unknown$metric2002 <- sum(helmet_unknown$MC_DVR_HLMTON_IND.U[helmet_unknown$CRASH_YEAR==2002])\n",
    "helmet_unknown$metric2003 <- sum(helmet_unknown$MC_DVR_HLMTON_IND.U[helmet_unknown$CRASH_YEAR==2003])\n",
    "helmet_unknown$metric2004 <- sum(helmet_unknown$MC_DVR_HLMTON_IND.U[helmet_unknown$CRASH_YEAR==2004])\n",
    "helmet_unknown$metric2005 <- sum(helmet_unknown$MC_DVR_HLMTON_IND.U[helmet_unknown$CRASH_YEAR==2005])\n",
    "helmet_unknown$metric2006 <- sum(helmet_unknown$MC_DVR_HLMTON_IND.U[helmet_unknown$CRASH_YEAR==2007])\n",
    "helmet_unknown$metric2008 <- sum(helmet_unknown$MC_DVR_HLMTON_IND.U[helmet_unknown$CRASH_YEAR==2008])\n",
    "helmet_unknown$metric2009 <- sum(helmet_unknown$MC_DVR_HLMTON_IND.U[helmet_unknown$CRASH_YEAR==2009])\n",
    "helmet_unknown$metric2010 <- sum(helmet_unknown$MC_DVR_HLMTON_IND.U[helmet_unknown$CRASH_YEAR==2010])\n",
    "helmet_unknown$metric2011 <- sum(helmet_unknown$MC_DVR_HLMTON_IND.U[helmet_unknown$CRASH_YEAR==2011])\n",
    "helmet_unknown$metric2012 <- sum(helmet_unknown$MC_DVR_HLMTON_IND.U[helmet_unknown$CRASH_YEAR==2012])\n",
    "helmet_unknown$metric2013 <- sum(helmet_unknown$MC_DVR_HLMTON_IND.U[helmet_unknown$CRASH_YEAR==2013])\n",
    "helmet_unknown$metric2014 <- sum(helmet_unknown$MC_DVR_HLMTON_IND.U[helmet_unknown$CRASH_YEAR==2014])\n",
    "helmet_unknown$metric2015 <- sum(helmet_unknown$MC_DVR_HLMTON_IND.U[helmet_unknown$CRASH_YEAR==2015])\n",
    "helmet_unknown$metric2016 <- sum(helmet_unknown$MC_DVR_HLMTON_IND.U[helmet_unknown$CRASH_YEAR==2016])\n",
    "helmet_unknown<-helmet_unknown[1,]\n",
    "helmet_unknown$label = \"Unknown Helmet\"\n",
    "helmet_unknown <- helmet_unknown[ -c(1:7) ]\n",
    "helmet_unknown = helmet_unknown[,c(20,1:19)]\n",
    "\n",
    "helmet_yes <- motorcycle_data[c('CRASH_YEAR','MC_DVR_HLMTON_IND','MCYCLE_DEATH_COUNT')]\n",
    "helmet_yes <- subset(helmet_yes, MCYCLE_DEATH_COUNT>=1)\n",
    "for(unique_value in unique(helmet_yes$MC_DVR_HLMTON_IND)){\n",
    "helmet_yes[paste(\"MC_DVR_HLMTON_IND\", unique_value, sep = \".\")] <- ifelse(helmet_yes$MC_DVR_HLMTON_IND == unique_value, 1, 0)\n",
    "}\n",
    "helmet_yes$metric1997 <- sum(helmet_yes$MC_DVR_HLMTON_IND.Y[helmet_yes$CRASH_YEAR==1997])\n",
    "helmet_yes$metric1998 <- sum(helmet_yes$MC_DVR_HLMTON_IND.Y[helmet_yes$CRASH_YEAR==1998])\n",
    "helmet_yes$metric1999 <- sum(helmet_yes$MC_DVR_HLMTON_IND.Y[helmet_yes$CRASH_YEAR==1999])\n",
    "helmet_yes$metric2000 <- sum(helmet_yes$MC_DVR_HLMTON_IND.Y[helmet_yes$CRASH_YEAR==2000])\n",
    "helmet_yes$metric2001 <- sum(helmet_yes$MC_DVR_HLMTON_IND.Y[helmet_yes$CRASH_YEAR==2001])\n",
    "helmet_yes$metric2002 <- sum(helmet_yes$MC_DVR_HLMTON_IND.Y[helmet_yes$CRASH_YEAR==2002])\n",
    "helmet_yes$metric2003 <- sum(helmet_yes$MC_DVR_HLMTON_IND.Y[helmet_yes$CRASH_YEAR==2003])\n",
    "helmet_yes$metric2004 <- sum(helmet_yes$MC_DVR_HLMTON_IND.Y[helmet_yes$CRASH_YEAR==2004])\n",
    "helmet_yes$metric2005 <- sum(helmet_yes$MC_DVR_HLMTON_IND.Y[helmet_yes$CRASH_YEAR==2005])\n",
    "helmet_yes$metric2006 <- sum(helmet_yes$MC_DVR_HLMTON_IND.Y[helmet_yes$CRASH_YEAR==2007])\n",
    "helmet_yes$metric2008 <- sum(helmet_yes$MC_DVR_HLMTON_IND.Y[helmet_yes$CRASH_YEAR==2008])\n",
    "helmet_yes$metric2009 <- sum(helmet_yes$MC_DVR_HLMTON_IND.Y[helmet_yes$CRASH_YEAR==2009])\n",
    "helmet_yes$metric2010 <- sum(helmet_yes$MC_DVR_HLMTON_IND.Y[helmet_yes$CRASH_YEAR==2010])\n",
    "helmet_yes$metric2011 <- sum(helmet_yes$MC_DVR_HLMTON_IND.Y[helmet_yes$CRASH_YEAR==2011])\n",
    "helmet_yes$metric2012 <- sum(helmet_yes$MC_DVR_HLMTON_IND.Y[helmet_yes$CRASH_YEAR==2012])\n",
    "helmet_yes$metric2013 <- sum(helmet_yes$MC_DVR_HLMTON_IND.Y[helmet_yes$CRASH_YEAR==2013])\n",
    "helmet_yes$metric2014 <- sum(helmet_yes$MC_DVR_HLMTON_IND.Y[helmet_yes$CRASH_YEAR==2014])\n",
    "helmet_yes$metric2015 <- sum(helmet_yes$MC_DVR_HLMTON_IND.Y[helmet_yes$CRASH_YEAR==2015])\n",
    "helmet_yes$metric2016 <- sum(helmet_yes$MC_DVR_HLMTON_IND.Y[helmet_yes$CRASH_YEAR==2016])\n",
    "helmet_yes<-helmet_yes[1,]\n",
    "helmet_yes$label = \"Helmet\"\n",
    "helmet_yes <- helmet_yes[ -c(1:7) ]\n",
    "helmet_yes = helmet_yes[,c(20,1:19)]\n",
    "\n",
    "helmet_no <- motorcycle_data[c('CRASH_YEAR','MC_DVR_HLMTON_IND','MCYCLE_DEATH_COUNT')]\n",
    "helmet_no <- subset(helmet_no, MCYCLE_DEATH_COUNT>=1)\n",
    "for(unique_value in unique(helmet_no$MC_DVR_HLMTON_IND)){\n",
    "helmet_no[paste(\"MC_DVR_HLMTON_IND\", unique_value, sep = \".\")] <- ifelse(helmet_no$MC_DVR_HLMTON_IND == unique_value, 1, 0)\n",
    "}\n",
    "helmet_no$metric1997 <- sum(helmet_no$MC_DVR_HLMTON_IND.N[helmet_no$CRASH_YEAR==1997])\n",
    "helmet_no$metric1998 <- sum(helmet_no$MC_DVR_HLMTON_IND.N[helmet_no$CRASH_YEAR==1998])\n",
    "helmet_no$metric1999 <- sum(helmet_no$MC_DVR_HLMTON_IND.N[helmet_no$CRASH_YEAR==1999])\n",
    "helmet_no$metric2000 <- sum(helmet_no$MC_DVR_HLMTON_IND.N[helmet_no$CRASH_YEAR==2000])\n",
    "helmet_no$metric2001 <- sum(helmet_no$MC_DVR_HLMTON_IND.N[helmet_no$CRASH_YEAR==2001])\n",
    "helmet_no$metric2002 <- sum(helmet_no$MC_DVR_HLMTON_IND.N[helmet_no$CRASH_YEAR==2002])\n",
    "helmet_no$metric2003 <- sum(helmet_no$MC_DVR_HLMTON_IND.N[helmet_no$CRASH_YEAR==2003])\n",
    "helmet_no$metric2004 <- sum(helmet_no$MC_DVR_HLMTON_IND.N[helmet_no$CRASH_YEAR==2004])\n",
    "helmet_no$metric2005 <- sum(helmet_no$MC_DVR_HLMTON_IND.N[helmet_no$CRASH_YEAR==2005])\n",
    "helmet_no$metric2006 <- sum(helmet_no$MC_DVR_HLMTON_IND.N[helmet_no$CRASH_YEAR==2007])\n",
    "helmet_no$metric2008 <- sum(helmet_no$MC_DVR_HLMTON_IND.N[helmet_no$CRASH_YEAR==2008])\n",
    "helmet_no$metric2009 <- sum(helmet_no$MC_DVR_HLMTON_IND.N[helmet_no$CRASH_YEAR==2009])\n",
    "helmet_no$metric2010 <- sum(helmet_no$MC_DVR_HLMTON_IND.N[helmet_no$CRASH_YEAR==2010])\n",
    "helmet_no$metric2011 <- sum(helmet_no$MC_DVR_HLMTON_IND.N[helmet_no$CRASH_YEAR==2011])\n",
    "helmet_no$metric2012 <- sum(helmet_no$MC_DVR_HLMTON_IND.N[helmet_no$CRASH_YEAR==2012])\n",
    "helmet_no$metric2013 <- sum(helmet_no$MC_DVR_HLMTON_IND.N[helmet_no$CRASH_YEAR==2013])\n",
    "helmet_no$metric2014 <- sum(helmet_no$MC_DVR_HLMTON_IND.N[helmet_no$CRASH_YEAR==2014])\n",
    "helmet_no$metric2015 <- sum(helmet_no$MC_DVR_HLMTON_IND.N[helmet_no$CRASH_YEAR==2015])\n",
    "helmet_no$metric2016 <- sum(helmet_no$MC_DVR_HLMTON_IND.N[helmet_no$CRASH_YEAR==2016])\n",
    "helmet_no<-helmet_no[1,]\n",
    "helmet_no$label = \"No Helmet\"\n",
    "helmet_no <- helmet_no[ -c(1:7) ]\n",
    "helmet_no = helmet_no[,c(20,1:19)]\n",
    "\n",
    "helmets<-rbind(helmet_unknown,helmet_yes,helmet_no)\n",
    "df3<-rbind(df2, helmets)\n",
    "\n",
    "myf1 <- function(x) { sprintf('[\"%s\",%s,%s,%s,%s,%s,%s,%s,%s,%s,%s,%s,%s,%s,%s,%s,%s,%s,%s,%s,%s]', \n",
    "                              x[1], x[2],x[3],x[4],x[5],x[6],x[7],x[8],x[9],x[10],x[11],x[12],x[13],x[13],x[14]\n",
    "                             ,x[15],x[16],x[17],x[18],x[19],x[20])}\n",
    "data <- apply(df3,1,myf1)\n",
    "msg_str1 <- paste0('[',toString(data),']')\n",
    "\n",
    "\n",
    "ui <- fluidPage(\n",
    "        titlePanel(\"Fatalities and Registered Motorcycles\"),\n",
    "\n",
    "            mainPanel(\n",
    "                       # make sure your billboard.min.css and billboard.min.js files are in the www directory\n",
    "                        tags$script(src=\"//d3js.org/d3.v4.min.js\"),\n",
    "                        tags$head(tags$link(rel = \"stylesheet\", type = \"text/css\", href = \"billboard.min.css\")),\n",
    "                        tags$script(src=\"billboard.min.js\"),\n",
    " \n",
    "                        # the id here is the same as the id in the first line of the js code\n",
    "                        tags$div(id=\"CombinationChart\"),\n",
    "\n",
    "                        # load your javascript code\n",
    "                        tags$script(src=\"my_script.js\")\n",
    "                    )\n",
    "    )\n",
    "\n",
    "server <- function(input, output, session) {\n",
    "    \n",
    "    #sends your msg_str you created above to the js code\n",
    "    session$sendCustomMessage(type=\"get_data_from_shiny\", msg_str1) \n",
    "}\n",
    "\n",
    "shinyApp(ui=ui, server=server)"
   ]
  },
  {
   "cell_type": "code",
   "execution_count": 207,
   "metadata": {},
   "outputs": [
    {
     "data": {
      "text/html": [
       "<ol class=list-inline>\n",
       "\t<li>'Ignoring \"log file\" setting.'</li>\n",
       "\t<li>'sending incremental file list'</li>\n",
       "\t<li>'interactive_graph/'</li>\n",
       "\t<li>'interactive_graph/app.R'</li>\n",
       "\t<li><span style=white-space:pre-wrap>'        9947 100%    0.00kB/s    0:00:00\\r        9947 100%    0.00kB/s    0:00:00 (xfer#1, to-check=7/9)'</span></li>\n",
       "\t<li>''</li>\n",
       "\t<li><span style=white-space:pre-wrap>'sent 10275 bytes  received 38 bytes  20626.00 bytes/sec'</span></li>\n",
       "\t<li><span style=white-space:pre-wrap>'total size is 30517061  speedup is 2959.09'</span></li>\n",
       "</ol>\n"
      ],
      "text/latex": [
       "\\begin{enumerate*}\n",
       "\\item 'Ignoring \"log file\" setting.'\n",
       "\\item 'sending incremental file list'\n",
       "\\item 'interactive\\_graph/'\n",
       "\\item 'interactive\\_graph/app.R'\n",
       "\\item '        9947 100\\%    0.00kB/s    0:00:00\\textbackslash{}r        9947 100\\%    0.00kB/s    0:00:00 (xfer\\#1, to-check=7/9)'\n",
       "\\item ''\n",
       "\\item 'sent 10275 bytes  received 38 bytes  20626.00 bytes/sec'\n",
       "\\item 'total size is 30517061  speedup is 2959.09'\n",
       "\\end{enumerate*}\n"
      ],
      "text/markdown": [
       "1. 'Ignoring \"log file\" setting.'\n",
       "2. 'sending incremental file list'\n",
       "3. 'interactive_graph/'\n",
       "4. 'interactive_graph/app.R'\n",
       "5. <span style=white-space:pre-wrap>'        9947 100%    0.00kB/s    0:00:00\\r        9947 100%    0.00kB/s    0:00:00 (xfer#1, to-check=7/9)'</span>\n",
       "6. ''\n",
       "7. <span style=white-space:pre-wrap>'sent 10275 bytes  received 38 bytes  20626.00 bytes/sec'</span>\n",
       "8. <span style=white-space:pre-wrap>'total size is 30517061  speedup is 2959.09'</span>\n",
       "\n",
       "\n"
      ],
      "text/plain": [
       "[1] \"Ignoring \\\"log file\\\" setting.\"                                                                           \n",
       "[2] \"sending incremental file list\"                                                                            \n",
       "[3] \"interactive_graph/\"                                                                                       \n",
       "[4] \"interactive_graph/app.R\"                                                                                  \n",
       "[5] \"        9947 100%    0.00kB/s    0:00:00\\r        9947 100%    0.00kB/s    0:00:00 (xfer#1, to-check=7/9)\"\n",
       "[6] \"\"                                                                                                         \n",
       "[7] \"sent 10275 bytes  received 38 bytes  20626.00 bytes/sec\"                                                  \n",
       "[8] \"total size is 30517061  speedup is 2959.09\"                                                               "
      ]
     },
     "metadata": {},
     "output_type": "display_data"
    }
   ],
   "source": [
    "#DEPLOY TO SHINY SERVER\n",
    "dir <- getwd() #This gets the current Working Directory\n",
    "course <- \"Summer_case_study\" #This is to specify the course path for the shiny server\n",
    "folder <- \"interactive_graph\" #This specifies the folder name to copy\n",
    "\n",
    "system(sprintf(\"/usr/local/bin/shiny_deploy %s %s %s\", course, dir,folder), \n",
    "       intern = TRUE,\n",
    "       ignore.stdout = FALSE, \n",
    "       ignore.stderr = FALSE,\n",
    "       wait = TRUE, \n",
    "       input = NULL)"
   ]
  },
  {
   "cell_type": "code",
   "execution_count": null,
   "metadata": {
    "collapsed": true
   },
   "outputs": [],
   "source": []
  }
 ],
 "metadata": {
  "kernelspec": {
   "display_name": "R",
   "language": "R",
   "name": "ir"
  },
  "language_info": {
   "codemirror_mode": "r",
   "file_extension": ".r",
   "mimetype": "text/x-r-source",
   "name": "R",
   "pygments_lexer": "r",
   "version": "3.4.1"
  }
 },
 "nbformat": 4,
 "nbformat_minor": 2
}
