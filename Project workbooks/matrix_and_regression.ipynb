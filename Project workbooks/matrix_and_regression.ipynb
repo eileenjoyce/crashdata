{
 "cells": [
  {
   "cell_type": "markdown",
   "metadata": {},
   "source": [
    "##   This notebook includes correlation data, logistic regression and confusion matrix code"
   ]
  },
  {
   "cell_type": "code",
   "execution_count": 53,
   "metadata": {
    "collapsed": true
   },
   "outputs": [],
   "source": [
    "#read in combined motorcycle crash data\n",
    "motorcycle_data <- read.csv(\"Datasets/statecycle_flag.csv\",\n",
    "                       encoding='latin-1')"
   ]
  },
  {
   "cell_type": "code",
   "execution_count": 54,
   "metadata": {
    "collapsed": true
   },
   "outputs": [],
   "source": [
    "#remove some unnecessary variables\n",
    "motorcycle_data<-within(motorcycle_data, rm('X','MC_PASSNGR_IND', 'MC_DVR_HLMTDOT_IND', 'MC_PAS_HLMTDOT_IND',\n",
    "                           'MINOR_INJURY','MODERATE_INJURY','MAJOR_INJURY','CRN', \n",
    "                           'FATAL_OR_MAJ_INJ','CRASH_YEAR','COUNTY','MUNICIPALITY','COUNTY_YEAR',\n",
    "                           'MOTORCYCLE_COUNT','FATAL_COUNT','MCYCLE_DEATH_COUNT','DEC_LAT','DEC_LONG',\n",
    "                           'PSP_REPORTED','MC_DVR_HLMT_TYPE','MC_PAS_HLMT_TYPE','MC_PAS_HLMTON_IND'))\n"
   ]
  },
  {
   "cell_type": "markdown",
   "metadata": {},
   "source": [
    "Turn the y/n column about whether the motorcycle driver is wearing a helmet into separate binary columns"
   ]
  },
  {
   "cell_type": "code",
   "execution_count": 55,
   "metadata": {
    "collapsed": true
   },
   "outputs": [],
   "source": [
    "#one hot encode driver wearing helmet column\n",
    "\n",
    "for(unique_value in unique(motorcycle_data$MC_DVR_HLMTON_IND)){\n",
    "motorcycle_data[paste(\" MC_DVR_HLMTON_IND\", unique_value, sep = \".\")] <- ifelse(motorcycle_data$MC_DVR_HLMTON_IND == unique_value, 1, 0)\n",
    "}\n"
   ]
  },
  {
   "cell_type": "code",
   "execution_count": 56,
   "metadata": {},
   "outputs": [
    {
     "name": "stdout",
     "output_type": "stream",
     "text": [
      "'data.frame':\t96508 obs. of  90 variables:\n",
      " $ MC_DVR_HLMTON_IND   : Factor w/ 4 levels \" \",\"N\",\"U\",\"Y\": 1 1 3 3 1 3 1 1 1 1 ...\n",
      " $ INTERSTATE          : int  0 0 0 0 0 0 0 0 0 0 ...\n",
      " $ STATE_ROAD          : int  1 0 0 0 1 1 1 0 0 1 ...\n",
      " $ LOCAL_ROAD          : int  1 1 1 1 0 0 0 1 1 0 ...\n",
      " $ LOCAL_ROAD_ONLY     : int  0 1 1 1 0 0 0 1 1 0 ...\n",
      " $ TURNPIKE            : int  0 0 0 0 0 0 0 0 0 0 ...\n",
      " $ WET_ROAD            : int  1 0 1 0 1 1 1 1 1 0 ...\n",
      " $ SNOW_SLUSH_ROAD     : int  0 0 0 0 0 0 0 0 0 0 ...\n",
      " $ ICY_ROAD            : int  0 0 0 0 0 0 0 0 0 0 ...\n",
      " $ SUDDEN_DEER         : int  0 0 0 0 0 0 0 0 0 0 ...\n",
      " $ SHLDR_RELATED       : int  0 0 0 0 0 0 0 0 0 0 ...\n",
      " $ REAR_END            : int  0 0 0 0 0 0 0 0 1 1 ...\n",
      " $ HO_OPPDIR_SDSWP     : int  0 0 0 0 0 0 0 0 0 0 ...\n",
      " $ HIT_FIXED_OBJECT    : int  0 0 1 0 0 1 0 0 0 0 ...\n",
      " $ SV_RUN_OFF_RD       : int  0 0 1 1 0 1 0 0 0 0 ...\n",
      " $ WORK_ZONE           : int  0 0 0 0 0 0 0 0 0 0 ...\n",
      " $ PROPERTY_DAMAGE_ONLY: int  0 0 0 0 0 0 0 0 0 0 ...\n",
      " $ INJURY_OR_FATAL     : int  1 1 1 1 1 0 0 1 0 1 ...\n",
      " $ INJURY              : int  1 1 1 1 1 0 0 1 0 1 ...\n",
      " $ FATAL               : int  0 0 0 0 0 0 0 0 0 0 ...\n",
      " $ NON_INTERSECTION    : int  0 1 1 1 1 1 1 0 1 1 ...\n",
      " $ INTERSECTION        : int  1 0 0 0 0 0 0 1 0 0 ...\n",
      " $ SIGNALIZED_INT      : int  1 0 0 0 0 0 0 0 0 0 ...\n",
      " $ STOP_CONTROLLED_INT : int  0 0 0 0 0 0 0 1 0 0 ...\n",
      " $ UNSIGNALIZED_INT    : int  0 0 0 0 0 0 0 1 0 0 ...\n",
      " $ SCHOOL_BUS          : int  0 0 0 0 0 0 0 0 0 0 ...\n",
      " $ SCHOOL_ZONE         : int  0 0 0 0 0 0 0 0 0 0 ...\n",
      " $ HIT_DEER            : int  0 0 0 0 0 0 0 0 0 0 ...\n",
      " $ HIT_TREE_SHRUB      : int  0 0 0 0 0 0 0 0 0 0 ...\n",
      " $ HIT_EMBANKMENT      : int  0 0 0 0 0 0 0 0 0 0 ...\n",
      " $ HIT_POLE            : int  0 0 0 0 0 0 0 0 0 0 ...\n",
      " $ HIT_GDRAIL          : int  0 0 0 0 0 0 0 0 0 0 ...\n",
      " $ HIT_GDRAIL_END      : int  0 0 0 0 0 0 0 0 0 0 ...\n",
      " $ HIT_BARRIER         : int  0 0 0 0 0 1 0 0 0 0 ...\n",
      " $ HIT_BRIDGE          : int  0 0 0 0 0 0 0 0 0 0 ...\n",
      " $ OVERTURNED          : int  0 0 0 0 0 0 0 0 0 0 ...\n",
      " $ MOTORCYCLE          : int  0 0 1 1 0 1 0 0 0 0 ...\n",
      " $ BICYCLE             : int  1 1 0 0 1 0 1 1 1 1 ...\n",
      " $ HVY_TRUCK_RELATED   : int  0 0 0 0 1 0 0 0 0 0 ...\n",
      " $ VEHICLE_FAILURE     : int  0 0 0 0 0 0 0 0 0 0 ...\n",
      " $ TRAIN_TROLLEY       : int  0 0 0 0 0 0 0 0 0 0 ...\n",
      " $ PHANTOM_VEHICLE     : int  0 0 0 0 0 0 0 0 0 0 ...\n",
      " $ ALCOHOL_RELATED     : int  0 0 0 0 0 1 0 0 0 0 ...\n",
      " $ DRINKING_DRIVER     : int  0 0 0 0 0 1 0 0 0 0 ...\n",
      " $ UNDERAGE_DRNK_DRV   : int  0 0 0 0 0 0 0 0 0 0 ...\n",
      " $ UNLICENSED          : int  0 0 0 0 0 0 0 0 0 0 ...\n",
      " $ DISTRACTED          : int  0 0 0 0 0 0 0 0 0 0 ...\n",
      " $ CELL_PHONE          : int  0 0 0 0 0 0 0 0 0 0 ...\n",
      " $ NO_CLEARANCE        : int  0 0 0 0 0 0 0 0 0 0 ...\n",
      " $ RUNNING_RED_LT      : int  0 0 0 0 0 0 1 0 0 0 ...\n",
      " $ TAILGATING          : int  0 0 0 0 0 0 0 0 1 0 ...\n",
      " $ CROSS_MEDIAN        : int  0 0 0 0 0 0 0 0 0 0 ...\n",
      " $ CURVED_ROAD         : int  0 0 0 0 0 1 0 0 0 1 ...\n",
      " $ CURVE_DVR_ERROR     : int  0 0 0 0 0 1 0 0 0 0 ...\n",
      " $ LIMIT_65MPH         : int  0 0 0 0 0 0 0 0 0 0 ...\n",
      " $ SPEEDING            : int  0 0 0 0 0 0 0 0 0 0 ...\n",
      " $ SPEEDING_RELATED    : int  0 0 0 0 0 0 0 0 0 0 ...\n",
      " $ AGGRESSIVE_DRIVING  : int  0 0 0 0 0 0 1 1 1 1 ...\n",
      " $ FATIGUE_ASLEEP      : int  0 0 0 0 0 0 0 0 0 0 ...\n",
      " $ DRIVER_16YR         : int  0 0 0 0 0 0 0 0 0 0 ...\n",
      " $ DRIVER_17YR         : int  0 1 0 0 0 0 0 0 0 0 ...\n",
      " $ DRIVER_18YR         : int  0 0 0 0 0 0 0 0 0 1 ...\n",
      " $ DRIVER_19YR         : int  0 0 0 0 0 0 0 0 0 0 ...\n",
      " $ DRIVER_20YR         : int  0 0 0 0 0 0 0 0 0 0 ...\n",
      " $ DRIVER_50_64YR      : int  0 0 0 0 0 0 0 0 0 0 ...\n",
      " $ DRIVER_65_74YR      : int  0 0 0 0 0 0 0 0 0 0 ...\n",
      " $ DRIVER_75PLUS       : int  0 0 0 0 0 0 0 1 0 0 ...\n",
      " $ UNBELTED            : int  0 1 0 0 0 0 0 0 0 0 ...\n",
      " $ PEDESTRIAN          : int  0 0 0 0 0 0 0 0 0 0 ...\n",
      " $ COMM_VEHICLE        : int  0 0 0 0 1 0 0 0 0 0 ...\n",
      " $ NHTSA_AGG_DRIVING   : int  0 0 0 0 0 0 0 0 0 0 ...\n",
      " $ DEER_RELATED        : int  0 0 0 0 0 0 0 0 0 0 ...\n",
      " $ ILLUMINATION_DARK   : int  1 1 1 0 0 1 0 0 1 0 ...\n",
      " $ RUNNING_STOP_SIGN   : int  0 0 0 0 0 0 0 0 0 0 ...\n",
      " $ TRAIN               : int  0 0 0 0 0 0 0 0 0 0 ...\n",
      " $ TROLLEY             : int  0 0 0 0 0 0 0 0 0 0 ...\n",
      " $ HIT_PARKED_VEHICLE  : int  0 0 0 0 0 0 0 0 0 0 ...\n",
      " $ FIRE_IN_VEHICLE     : int  0 0 0 0 0 0 0 0 0 0 ...\n",
      " $ VEHICLE_TOWED       : int  0 0 0 0 0 1 0 0 0 0 ...\n",
      " $ HAZARDOUS_TRUCK     : int  0 0 0 0 0 0 0 0 0 0 ...\n",
      " $ MC_DRINKING_DRIVER  : int  0 0 0 0 0 1 0 0 0 0 ...\n",
      " $ DRUG_RELATED        : int  0 0 0 0 0 0 0 0 0 0 ...\n",
      " $ ILLEGAL_DRUG_RELATED: int  0 0 0 0 0 0 0 0 0 0 ...\n",
      " $ SCHOOL_BUS_UNIT     : int  0 0 0 0 0 0 0 0 0 0 ...\n",
      " $ DRUGGED_DRIVER      : int  0 0 0 0 0 0 0 0 0 0 ...\n",
      " $ IMPAIRED_DRIVER     : int  0 0 0 0 0 1 0 0 0 0 ...\n",
      " $  MC_DVR_HLMTON_IND. : num  1 1 0 0 1 0 1 1 1 1 ...\n",
      " $  MC_DVR_HLMTON_IND.U: num  0 0 1 1 0 1 0 0 0 0 ...\n",
      " $  MC_DVR_HLMTON_IND.N: num  0 0 0 0 0 0 0 0 0 0 ...\n",
      " $  MC_DVR_HLMTON_IND.Y: num  0 0 0 0 0 0 0 0 0 0 ...\n"
     ]
    }
   ],
   "source": [
    "#These are the variables we have now\n",
    "\n",
    "str(motorcycle_data)"
   ]
  },
  {
   "cell_type": "code",
   "execution_count": 57,
   "metadata": {
    "collapsed": true
   },
   "outputs": [],
   "source": [
    "#remove original driver wearing helmet column\n",
    "motorcycle_data<-within(motorcycle_data, rm('MC_DVR_HLMTON_IND'))\n"
   ]
  },
  {
   "cell_type": "markdown",
   "metadata": {},
   "source": [
    "Next, I'm selecting just the 5 varibales that were calculated in my feature selection notebook: phantom vehicle, alcohol related, 65 mph speed limit zone, drugged driver and hazardous truck. I will come back to these for the logistic regression."
   ]
  },
  {
   "cell_type": "code",
   "execution_count": 58,
   "metadata": {
    "scrolled": true
   },
   "outputs": [
    {
     "name": "stdout",
     "output_type": "stream",
     "text": [
      "'data.frame':\t96508 obs. of  6 variables:\n",
      " $ FATAL          : int  0 0 0 0 0 0 0 0 0 0 ...\n",
      " $ PHANTOM_VEHICLE: int  0 0 0 0 0 0 0 0 0 0 ...\n",
      " $ ALCOHOL_RELATED: int  0 0 0 0 0 1 0 0 0 0 ...\n",
      " $ LIMIT_65MPH    : int  0 0 0 0 0 0 0 0 0 0 ...\n",
      " $ HAZARDOUS_TRUCK: int  0 0 0 0 0 0 0 0 0 0 ...\n",
      " $ DRUGGED_DRIVER : int  0 0 0 0 0 0 0 0 0 0 ...\n"
     ]
    }
   ],
   "source": [
    "select_data <- motorcycle_data[c('FATAL','PHANTOM_VEHICLE','ALCOHOL_RELATED','LIMIT_65MPH','HAZARDOUS_TRUCK','DRUGGED_DRIVER')]\n",
    "str(select_data)"
   ]
  },
  {
   "cell_type": "code",
   "execution_count": 59,
   "metadata": {},
   "outputs": [
    {
     "name": "stdout",
     "output_type": "stream",
     "text": [
      "'data.frame':\t96508 obs. of  6 variables:\n",
      " $ FATAL          : int  0 0 0 0 0 0 0 0 0 0 ...\n",
      " $ PHANTOM_VEHICLE: int  0 0 0 0 0 0 0 0 0 0 ...\n",
      " $ ALCOHOL_RELATED: int  0 0 0 0 0 1 0 0 0 0 ...\n",
      " $ LIMIT_65MPH    : int  0 0 0 0 0 0 0 0 0 0 ...\n",
      " $ HAZARDOUS_TRUCK: int  0 0 0 0 0 0 0 0 0 0 ...\n",
      " $ DRUGGED_DRIVER : int  0 0 0 0 0 0 0 0 0 0 ...\n"
     ]
    }
   ],
   "source": [
    "#remove any rows with all zeroes and check to see if any were rmoved. None were.\n",
    "    \n",
    "select_data <-select_data[apply(select_data, 1, function(x) any(x != '')), ]\n",
    "str(select_data)    "
   ]
  },
  {
   "cell_type": "markdown",
   "metadata": {},
   "source": [
    "## Correlation calculations and plot"
   ]
  },
  {
   "cell_type": "code",
   "execution_count": 60,
   "metadata": {},
   "outputs": [
    {
     "data": {
      "text/html": [
       "<table>\n",
       "<thead><tr><th></th><th scope=col>FATAL</th><th scope=col>PHANTOM_VEHICLE</th><th scope=col>ALCOHOL_RELATED</th><th scope=col>LIMIT_65MPH</th><th scope=col>HAZARDOUS_TRUCK</th><th scope=col>DRUGGED_DRIVER</th></tr></thead>\n",
       "<tbody>\n",
       "\t<tr><th scope=row>FATAL</th><td> 1.00</td><td>-0.01</td><td> 0.19</td><td> 0.01</td><td>0.03 </td><td> 0.12</td></tr>\n",
       "\t<tr><th scope=row>PHANTOM_VEHICLE</th><td>-0.01</td><td> 1.00</td><td>-0.03</td><td> 0.00</td><td>0.00 </td><td>-0.01</td></tr>\n",
       "\t<tr><th scope=row>ALCOHOL_RELATED</th><td> 0.19</td><td>-0.03</td><td> 1.00</td><td>-0.01</td><td>0.00 </td><td> 0.17</td></tr>\n",
       "\t<tr><th scope=row>LIMIT_65MPH</th><td> 0.01</td><td> 0.00</td><td>-0.01</td><td> 1.00</td><td>0.00 </td><td> 0.00</td></tr>\n",
       "\t<tr><th scope=row>HAZARDOUS_TRUCK</th><td> 0.03</td><td> 0.00</td><td> 0.00</td><td> 0.00</td><td>1.00 </td><td> 0.00</td></tr>\n",
       "\t<tr><th scope=row>DRUGGED_DRIVER</th><td> 0.12</td><td>-0.01</td><td> 0.17</td><td> 0.00</td><td>0.00 </td><td> 1.00</td></tr>\n",
       "</tbody>\n",
       "</table>\n"
      ],
      "text/latex": [
       "\\begin{tabular}{r|llllll}\n",
       "  & FATAL & PHANTOM\\_VEHICLE & ALCOHOL\\_RELATED & LIMIT\\_65MPH & HAZARDOUS\\_TRUCK & DRUGGED\\_DRIVER\\\\\n",
       "\\hline\n",
       "\tFATAL &  1.00 & -0.01 &  0.19 &  0.01 & 0.03  &  0.12\\\\\n",
       "\tPHANTOM\\_VEHICLE & -0.01 &  1.00 & -0.03 &  0.00 & 0.00  & -0.01\\\\\n",
       "\tALCOHOL\\_RELATED &  0.19 & -0.03 &  1.00 & -0.01 & 0.00  &  0.17\\\\\n",
       "\tLIMIT\\_65MPH &  0.01 &  0.00 & -0.01 &  1.00 & 0.00  &  0.00\\\\\n",
       "\tHAZARDOUS\\_TRUCK &  0.03 &  0.00 &  0.00 &  0.00 & 1.00  &  0.00\\\\\n",
       "\tDRUGGED\\_DRIVER &  0.12 & -0.01 &  0.17 &  0.00 & 0.00  &  1.00\\\\\n",
       "\\end{tabular}\n"
      ],
      "text/markdown": [
       "\n",
       "| <!--/--> | FATAL | PHANTOM_VEHICLE | ALCOHOL_RELATED | LIMIT_65MPH | HAZARDOUS_TRUCK | DRUGGED_DRIVER | \n",
       "|---|---|---|---|---|---|\n",
       "| FATAL |  1.00 | -0.01 |  0.19 |  0.01 | 0.03  |  0.12 | \n",
       "| PHANTOM_VEHICLE | -0.01 |  1.00 | -0.03 |  0.00 | 0.00  | -0.01 | \n",
       "| ALCOHOL_RELATED |  0.19 | -0.03 |  1.00 | -0.01 | 0.00  |  0.17 | \n",
       "| LIMIT_65MPH |  0.01 |  0.00 | -0.01 |  1.00 | 0.00  |  0.00 | \n",
       "| HAZARDOUS_TRUCK |  0.03 |  0.00 |  0.00 |  0.00 | 1.00  |  0.00 | \n",
       "| DRUGGED_DRIVER |  0.12 | -0.01 |  0.17 |  0.00 | 0.00  |  1.00 | \n",
       "\n",
       "\n"
      ],
      "text/plain": [
       "                FATAL PHANTOM_VEHICLE ALCOHOL_RELATED LIMIT_65MPH\n",
       "FATAL            1.00 -0.01            0.19            0.01      \n",
       "PHANTOM_VEHICLE -0.01  1.00           -0.03            0.00      \n",
       "ALCOHOL_RELATED  0.19 -0.03            1.00           -0.01      \n",
       "LIMIT_65MPH      0.01  0.00           -0.01            1.00      \n",
       "HAZARDOUS_TRUCK  0.03  0.00            0.00            0.00      \n",
       "DRUGGED_DRIVER   0.12 -0.01            0.17            0.00      \n",
       "                HAZARDOUS_TRUCK DRUGGED_DRIVER\n",
       "FATAL           0.03             0.12         \n",
       "PHANTOM_VEHICLE 0.00            -0.01         \n",
       "ALCOHOL_RELATED 0.00             0.17         \n",
       "LIMIT_65MPH     0.00             0.00         \n",
       "HAZARDOUS_TRUCK 1.00             0.00         \n",
       "DRUGGED_DRIVER  0.00             1.00         "
      ]
     },
     "metadata": {},
     "output_type": "display_data"
    }
   ],
   "source": [
    "\n",
    "#calculate the correlation coefficients between the variables\n",
    "select <- cor(select_data)\n",
    "round(select, 2)"
   ]
  },
  {
   "cell_type": "code",
   "execution_count": 61,
   "metadata": {
    "scrolled": true
   },
   "outputs": [
    {
     "data": {
      "text/html": [
       "<table>\n",
       "<thead><tr><th></th><th scope=col>FATAL</th><th scope=col>PHANTOM_VEHICLE</th><th scope=col>ALCOHOL_RELATED</th><th scope=col>LIMIT_65MPH</th><th scope=col>HAZARDOUS_TRUCK</th><th scope=col>DRUGGED_DRIVER</th></tr></thead>\n",
       "<tbody>\n",
       "\t<tr><th scope=row>FATAL</th><td> 1.00000000</td><td>-0.2983695 </td><td> 0.14251492</td><td>-0.2539668 </td><td>-0.2278451 </td><td>-0.01257574</td></tr>\n",
       "\t<tr><th scope=row>PHANTOM_VEHICLE</th><td>-0.29836950</td><td> 1.0000000 </td><td>-0.33425356</td><td>-0.1886150 </td><td>-0.2007031 </td><td>-0.27957890</td></tr>\n",
       "\t<tr><th scope=row>ALCOHOL_RELATED</th><td> 0.14251492</td><td>-0.3342536 </td><td> 1.00000000</td><td>-0.3025426 </td><td>-0.2708807 </td><td> 0.09530466</td></tr>\n",
       "\t<tr><th scope=row>LIMIT_65MPH</th><td>-0.25396682</td><td>-0.1886150 </td><td>-0.30254259</td><td> 1.0000000 </td><td>-0.1994725 </td><td>-0.27198716</td></tr>\n",
       "\t<tr><th scope=row>HAZARDOUS_TRUCK</th><td>-0.22784506</td><td>-0.2007031 </td><td>-0.27088073</td><td>-0.1994725 </td><td> 1.0000000 </td><td>-0.26370532</td></tr>\n",
       "\t<tr><th scope=row>DRUGGED_DRIVER</th><td>-0.01257574</td><td>-0.2795789 </td><td> 0.09530466</td><td>-0.2719872 </td><td>-0.2637053 </td><td> 1.00000000</td></tr>\n",
       "</tbody>\n",
       "</table>\n"
      ],
      "text/latex": [
       "\\begin{tabular}{r|llllll}\n",
       "  & FATAL & PHANTOM\\_VEHICLE & ALCOHOL\\_RELATED & LIMIT\\_65MPH & HAZARDOUS\\_TRUCK & DRUGGED\\_DRIVER\\\\\n",
       "\\hline\n",
       "\tFATAL &  1.00000000 & -0.2983695  &  0.14251492 & -0.2539668  & -0.2278451  & -0.01257574\\\\\n",
       "\tPHANTOM\\_VEHICLE & -0.29836950 &  1.0000000  & -0.33425356 & -0.1886150  & -0.2007031  & -0.27957890\\\\\n",
       "\tALCOHOL\\_RELATED &  0.14251492 & -0.3342536  &  1.00000000 & -0.3025426  & -0.2708807  &  0.09530466\\\\\n",
       "\tLIMIT\\_65MPH & -0.25396682 & -0.1886150  & -0.30254259 &  1.0000000  & -0.1994725  & -0.27198716\\\\\n",
       "\tHAZARDOUS\\_TRUCK & -0.22784506 & -0.2007031  & -0.27088073 & -0.1994725  &  1.0000000  & -0.26370532\\\\\n",
       "\tDRUGGED\\_DRIVER & -0.01257574 & -0.2795789  &  0.09530466 & -0.2719872  & -0.2637053  &  1.00000000\\\\\n",
       "\\end{tabular}\n"
      ],
      "text/markdown": [
       "\n",
       "| <!--/--> | FATAL | PHANTOM_VEHICLE | ALCOHOL_RELATED | LIMIT_65MPH | HAZARDOUS_TRUCK | DRUGGED_DRIVER | \n",
       "|---|---|---|---|---|---|\n",
       "| FATAL |  1.00000000 | -0.2983695  |  0.14251492 | -0.2539668  | -0.2278451  | -0.01257574 | \n",
       "| PHANTOM_VEHICLE | -0.29836950 |  1.0000000  | -0.33425356 | -0.1886150  | -0.2007031  | -0.27957890 | \n",
       "| ALCOHOL_RELATED |  0.14251492 | -0.3342536  |  1.00000000 | -0.3025426  | -0.2708807  |  0.09530466 | \n",
       "| LIMIT_65MPH | -0.25396682 | -0.1886150  | -0.30254259 |  1.0000000  | -0.1994725  | -0.27198716 | \n",
       "| HAZARDOUS_TRUCK | -0.22784506 | -0.2007031  | -0.27088073 | -0.1994725  |  1.0000000  | -0.26370532 | \n",
       "| DRUGGED_DRIVER | -0.01257574 | -0.2795789  |  0.09530466 | -0.2719872  | -0.2637053  |  1.00000000 | \n",
       "\n",
       "\n"
      ],
      "text/plain": [
       "                FATAL       PHANTOM_VEHICLE ALCOHOL_RELATED LIMIT_65MPH\n",
       "FATAL            1.00000000 -0.2983695       0.14251492     -0.2539668 \n",
       "PHANTOM_VEHICLE -0.29836950  1.0000000      -0.33425356     -0.1886150 \n",
       "ALCOHOL_RELATED  0.14251492 -0.3342536       1.00000000     -0.3025426 \n",
       "LIMIT_65MPH     -0.25396682 -0.1886150      -0.30254259      1.0000000 \n",
       "HAZARDOUS_TRUCK -0.22784506 -0.2007031      -0.27088073     -0.1994725 \n",
       "DRUGGED_DRIVER  -0.01257574 -0.2795789       0.09530466     -0.2719872 \n",
       "                HAZARDOUS_TRUCK DRUGGED_DRIVER\n",
       "FATAL           -0.2278451      -0.01257574   \n",
       "PHANTOM_VEHICLE -0.2007031      -0.27957890   \n",
       "ALCOHOL_RELATED -0.2708807       0.09530466   \n",
       "LIMIT_65MPH     -0.1994725      -0.27198716   \n",
       "HAZARDOUS_TRUCK  1.0000000      -0.26370532   \n",
       "DRUGGED_DRIVER  -0.2637053       1.00000000   "
      ]
     },
     "metadata": {},
     "output_type": "display_data"
    }
   ],
   "source": [
    "#correlation score for selected data, using only complete observations\n",
    "\n",
    "cor(select, method = \"pearson\", use = \"complete.obs\")\n"
   ]
  },
  {
   "cell_type": "code",
   "execution_count": 63,
   "metadata": {},
   "outputs": [
    {
     "data": {
      "image/png": "[encoded data removed]",
      "text/plain": [
       "Plot with title \"\""
      ]
     },
     "metadata": {},
     "output_type": "display_data"
    }
   ],
   "source": [
    "#plot the correlations\n",
    "library(corrplot)\n",
    "corrplot(cor(select, use = \"complete\"), type = \"upper\", order = \"hclust\", diag=FALSE,\n",
    "  tl.col = \"black\", tl.srt = 45)"
   ]
  },
  {
   "cell_type": "markdown",
   "metadata": {},
   "source": [
    "Here I'm experimenting with different plot styles. I ended up using the one above because I thought it was the clearest, but I left this on here to see how I could change the look."
   ]
  },
  {
   "cell_type": "code",
   "execution_count": 64,
   "metadata": {},
   "outputs": [
    {
     "data": {
      "image/png": "[encoded data removed]",
      "text/plain": [
       "Plot with title \"\""
      ]
     },
     "metadata": {},
     "output_type": "display_data"
    }
   ],
   "source": [
    "library(RColorBrewer)\n",
    "#col <- colorRampPalette(c(\"#BB4444\", \"#EE9988\", \"#FFFFFF\", \"#77AADD\", \"#4477AA\"))\n",
    "corrplot(select,method=\"color\", col=brewer.pal(n=8, name=\"RdBu\"),  \n",
    "         type=\"upper\", order=\"AOE\", \n",
    "         #addCoef.col = \"black\", # Add coefficient of correlation\n",
    "         tl.col=\"black\", tl.srt=45, #Text label color and rotation\n",
    "         # Combine with significance\n",
    "         #p.mat = p.mat, sig.level = 0.01, insig = \"p-value\", \n",
    "         # hide correlation coefficient on the principal diagonal\n",
    "         diag=FALSE\n",
    "         )\n"
   ]
  },
  {
   "cell_type": "markdown",
   "metadata": {},
   "source": [
    "#correlation plot for selected data\n",
    "library(corrplot)\n",
    "corrplot(select, type = \"upper\", order = \"hclust\", \n",
    "         tl.col = \"black\", tl.srt = 45)"
   ]
  },
  {
   "cell_type": "markdown",
   "metadata": {},
   "source": [
    "## Logistic Regression on five selected variables"
   ]
  },
  {
   "cell_type": "code",
   "execution_count": 65,
   "metadata": {},
   "outputs": [
    {
     "data": {
      "text/plain": [
       "\n",
       "    0     1 \n",
       "92761  3747 "
      ]
     },
     "metadata": {},
     "output_type": "display_data"
    }
   ],
   "source": [
    "#Count the number of fatal accidents in the data set.\n",
    "\n",
    "table(select_data$FATAL)\n"
   ]
  },
  {
   "cell_type": "code",
   "execution_count": 66,
   "metadata": {
    "collapsed": true
   },
   "outputs": [],
   "source": [
    "#create equal sample size of fatal and nonfatals\n",
    "input_ones <- select_data[which(select_data$FATAL == 1), ]  # all 1's\n",
    "input_zeros <- select_data[which(select_data$FATAL == 0), ]  # all 0's\n",
    "set.seed(100)  # for repeatability of samples\n",
    "input_ones_training_rows <- sample(1:nrow(input_ones), 0.7*nrow(input_ones))  # 1's for training\n",
    "input_zeros_training_rows <- sample(1:nrow(input_zeros), 0.7*nrow(input_ones))  # 0's for training. Pick as many 0's as 1's\n",
    "training_ones <- input_ones[input_ones_training_rows, ]  \n",
    "training_zeros <- input_zeros[input_zeros_training_rows, ]\n",
    "trainingData <- rbind(training_ones, training_zeros)  # row bind the 1's and 0's \n",
    "\n",
    "# Create Test Data\n",
    "test_ones <- input_ones[-input_ones_training_rows, ]\n",
    "test_zeros <- input_zeros[-input_zeros_training_rows, ]\n",
    "testData <- rbind(test_ones, test_zeros)  # row bind the 1's and 0's \n"
   ]
  },
  {
   "cell_type": "code",
   "execution_count": 67,
   "metadata": {
    "collapsed": true
   },
   "outputs": [],
   "source": [
    "#run the regression on the training data that we split out above and calculate predictions on the test data\n",
    "\n",
    "logitMod <- glm(FATAL ~ PHANTOM_VEHICLE + ALCOHOL_RELATED + LIMIT_65MPH + HAZARDOUS_TRUCK + DRUGGED_DRIVER, data=trainingData, family=binomial(link=\"logit\"))\n",
    "\n",
    "predicted <- plogis(predict(logitMod, testData))  # predicted scores\n"
   ]
  },
  {
   "cell_type": "code",
   "execution_count": 68,
   "metadata": {},
   "outputs": [
    {
     "data": {
      "text/plain": [
       "\n",
       "Call:\n",
       "glm(formula = FATAL ~ PHANTOM_VEHICLE + ALCOHOL_RELATED + LIMIT_65MPH + \n",
       "    HAZARDOUS_TRUCK + DRUGGED_DRIVER, family = binomial(link = \"logit\"), \n",
       "    data = trainingData)\n",
       "\n",
       "Deviance Residuals: \n",
       "    Min       1Q   Median       3Q      Max  \n",
       "-2.7225  -0.9981  -0.4988   1.3680   1.3680  \n",
       "\n",
       "Coefficients:\n",
       "                 Estimate Std. Error z value Pr(>|z|)    \n",
       "(Intercept)      -0.43756    0.03281 -13.334   <2e-16 ***\n",
       "PHANTOM_VEHICLE   0.00921    0.25963   0.035   0.9717    \n",
       "ALCOHOL_RELATED   1.91817    0.08576  22.367   <2e-16 ***\n",
       "LIMIT_65MPH       0.79231    0.26879   2.948   0.0032 ** \n",
       "HAZARDOUS_TRUCK  13.37080  190.90946   0.070   0.9442    \n",
       "DRUGGED_DRIVER    2.20053    0.26128   8.422   <2e-16 ***\n",
       "---\n",
       "Signif. codes:  0 '***' 0.001 '**' 0.01 '*' 0.05 '.' 0.1 ' ' 1\n",
       "\n",
       "(Dispersion parameter for binomial family taken to be 1)\n",
       "\n",
       "    Null deviance: 7269.7  on 5243  degrees of freedom\n",
       "Residual deviance: 6443.0  on 5238  degrees of freedom\n",
       "AIC: 6455\n",
       "\n",
       "Number of Fisher Scoring iterations: 12\n"
      ]
     },
     "metadata": {},
     "output_type": "display_data"
    }
   ],
   "source": [
    "#show a summary of the regression\n",
    "summary(logitMod)"
   ]
  },
  {
   "cell_type": "code",
   "execution_count": 69,
   "metadata": {},
   "outputs": [
    {
     "data": {
      "text/html": [
       "<table>\n",
       "<thead><tr><th></th><th scope=col>Overall</th></tr></thead>\n",
       "<tbody>\n",
       "\t<tr><th scope=row>PHANTOM_VEHICLE</th><td> 0.03547294</td></tr>\n",
       "\t<tr><th scope=row>ALCOHOL_RELATED</th><td>22.36657053</td></tr>\n",
       "\t<tr><th scope=row>LIMIT_65MPH</th><td> 2.94773223</td></tr>\n",
       "\t<tr><th scope=row>HAZARDOUS_TRUCK</th><td> 0.07003740</td></tr>\n",
       "\t<tr><th scope=row>DRUGGED_DRIVER</th><td> 8.42221261</td></tr>\n",
       "</tbody>\n",
       "</table>\n"
      ],
      "text/latex": [
       "\\begin{tabular}{r|l}\n",
       "  & Overall\\\\\n",
       "\\hline\n",
       "\tPHANTOM\\_VEHICLE &  0.03547294\\\\\n",
       "\tALCOHOL\\_RELATED & 22.36657053\\\\\n",
       "\tLIMIT\\_65MPH &  2.94773223\\\\\n",
       "\tHAZARDOUS\\_TRUCK &  0.07003740\\\\\n",
       "\tDRUGGED\\_DRIVER &  8.42221261\\\\\n",
       "\\end{tabular}\n"
      ],
      "text/markdown": [
       "\n",
       "| <!--/--> | Overall | \n",
       "|---|---|---|---|---|\n",
       "| PHANTOM_VEHICLE |  0.03547294 | \n",
       "| ALCOHOL_RELATED | 22.36657053 | \n",
       "| LIMIT_65MPH |  2.94773223 | \n",
       "| HAZARDOUS_TRUCK |  0.07003740 | \n",
       "| DRUGGED_DRIVER |  8.42221261 | \n",
       "\n",
       "\n"
      ],
      "text/plain": [
       "                Overall    \n",
       "PHANTOM_VEHICLE  0.03547294\n",
       "ALCOHOL_RELATED 22.36657053\n",
       "LIMIT_65MPH      2.94773223\n",
       "HAZARDOUS_TRUCK  0.07003740\n",
       "DRUGGED_DRIVER   8.42221261"
      ]
     },
     "metadata": {},
     "output_type": "display_data"
    }
   ],
   "source": [
    "#calculate the importance of the variables in the model\n",
    "varImp(logitMod)"
   ]
  },
  {
   "cell_type": "markdown",
   "metadata": {},
   "source": [
    "## Confusion matrix"
   ]
  },
  {
   "cell_type": "markdown",
   "metadata": {},
   "source": [
    "Below is the caret library code to create a confusion matrix. A '0' means there was no fatality and a '1' means there was a fatality. The model is very good at prediciting when there isn't a fatality but not as accurate at predicting fatalities. \n"
   ]
  },
  {
   "cell_type": "code",
   "execution_count": 70,
   "metadata": {},
   "outputs": [
    {
     "data": {
      "text/plain": [
       "          Reference\n",
       "Prediction     0     1\n",
       "         0 81768  8371\n",
       "         1   674   451"
      ]
     },
     "metadata": {},
     "output_type": "display_data"
    }
   ],
   "source": [
    "library(caret)\n",
    "predicted<-ifelse(predicted> 0.5,1,0)\n",
    "cm<- confusionMatrix(testData$FATAL, predicted)\n",
    "cm$table"
   ]
  },
  {
   "cell_type": "markdown",
   "metadata": {},
   "source": [
    "The code below creates a fancier confusion matrix graphic. I wanted something easier to understand for the average reader than just the table above and I found this code, and changed the colors and labels.\n"
   ]
  },
  {
   "cell_type": "code",
   "execution_count": 71,
   "metadata": {
    "collapsed": true
   },
   "outputs": [],
   "source": [
    "draw_confusion_matrix <- function(cm) {\n",
    "\n",
    "  layout(matrix(c(1,1,2)))\n",
    "  par(mar=c(2,2,2,2))\n",
    "  plot(c(100, 345), c(300, 450), type = \"n\", xlab=\"\", ylab=\"\", xaxt='n', yaxt='n')\n",
    "  title('Motorcycle Fatalities', cex.main=2)\n",
    "\n",
    "  # create the matrix \n",
    "  rect(150, 430, 240, 370, col='#4ebce8')\n",
    "  text(195, 435, 'No Fatality', cex=1.2)\n",
    "  rect(250, 430, 340, 370, col='#7c0d18')\n",
    "  text(295, 435, 'Fatality', cex=1.2)\n",
    "  text(125, 370, 'Predicted', cex=1.3, srt=90, font=2)\n",
    "  text(245, 450, 'Actual', cex=1.3, font=2)\n",
    "  rect(150, 305, 240, 365, col='#7c0d18')\n",
    "  rect(250, 305, 340, 365, col='#4ebce8')\n",
    "  text(140, 400, 'No Fatality', cex=1.2, srt=90)\n",
    "  text(140, 335, 'Fatality', cex=1.2, srt=90)\n",
    "\n",
    "  # add in the cm results \n",
    "  res <- as.numeric(cm$table)\n",
    "  text(195, 400, res[1], cex=1.6, font=2, col='white')\n",
    "  text(195, 335, res[2], cex=1.6, font=2, col='white')\n",
    "  text(295, 400, res[3], cex=1.6, font=2, col='white')\n",
    "  text(295, 335, res[4], cex=1.6, font=2, col='white')\n",
    "\n",
    "  # add in the specifics \n",
    "  plot(c(100, 0), c(100, 0), type = \"n\", xlab=\"\", ylab=\"\", main = \"DETAILS\", xaxt='n', yaxt='n')\n",
    "  text(10, 85, names(cm$byClass[1]), cex=1.2, font=2)\n",
    "  text(10, 70, round(as.numeric(cm$byClass[1]), 3), cex=1.2)\n",
    "  text(30, 85, names(cm$byClass[2]), cex=1.2, font=2)\n",
    "  text(30, 70, round(as.numeric(cm$byClass[2]), 3), cex=1.2)\n",
    "  text(50, 85, names(cm$byClass[5]), cex=1.2, font=2)\n",
    "  text(50, 70, round(as.numeric(cm$byClass[5]), 3), cex=1.2)\n",
    "  text(70, 85, names(cm$byClass[6]), cex=1.2, font=2)\n",
    "  text(70, 70, round(as.numeric(cm$byClass[6]), 3), cex=1.2)\n",
    "  text(90, 85, names(cm$byClass[7]), cex=1.2, font=2)\n",
    "  text(90, 70, round(as.numeric(cm$byClass[7]), 3), cex=1.2)\n",
    "\n",
    "  # add in the accuracy information \n",
    "  text(30, 35, names(cm$overall[1]), cex=1.5, font=2)\n",
    "  text(30, 20, round(as.numeric(cm$overall[1]), 3), cex=1.4)\n",
    "  text(70, 35, names(cm$overall[2]), cex=1.5, font=2)\n",
    "  text(70, 20, round(as.numeric(cm$overall[2]), 3), cex=1.4)\n",
    "}  "
   ]
  },
  {
   "cell_type": "code",
   "execution_count": 72,
   "metadata": {},
   "outputs": [
    {
     "data": {
      "image/png": "[encoded data removed]",
      "text/plain": [
       "Plot with title \"DETAILS\""
      ]
     },
     "metadata": {},
     "output_type": "display_data"
    }
   ],
   "source": [
    "draw_confusion_matrix(cm)\n"
   ]
  },
  {
   "cell_type": "markdown",
   "metadata": {},
   "source": [
    "## Logistic Regression using top two variables"
   ]
  },
  {
   "cell_type": "markdown",
   "metadata": {},
   "source": [
    "Next, I wanted to run the regression using just drugged driver and alcohol related, since those were the two most important variables."
   ]
  },
  {
   "cell_type": "code",
   "execution_count": 73,
   "metadata": {},
   "outputs": [
    {
     "data": {
      "text/html": [
       "<table>\n",
       "<thead><tr><th scope=col>FATAL</th><th scope=col>ALCOHOL_RELATED</th><th scope=col>DRUGGED_DRIVER</th></tr></thead>\n",
       "<tbody>\n",
       "\t<tr><td>0</td><td>0</td><td>0</td></tr>\n",
       "\t<tr><td>0</td><td>0</td><td>0</td></tr>\n",
       "\t<tr><td>0</td><td>0</td><td>0</td></tr>\n",
       "\t<tr><td>0</td><td>0</td><td>0</td></tr>\n",
       "\t<tr><td>0</td><td>0</td><td>0</td></tr>\n",
       "\t<tr><td>0</td><td>1</td><td>0</td></tr>\n",
       "</tbody>\n",
       "</table>\n"
      ],
      "text/latex": [
       "\\begin{tabular}{r|lll}\n",
       " FATAL & ALCOHOL\\_RELATED & DRUGGED\\_DRIVER\\\\\n",
       "\\hline\n",
       "\t 0 & 0 & 0\\\\\n",
       "\t 0 & 0 & 0\\\\\n",
       "\t 0 & 0 & 0\\\\\n",
       "\t 0 & 0 & 0\\\\\n",
       "\t 0 & 0 & 0\\\\\n",
       "\t 0 & 1 & 0\\\\\n",
       "\\end{tabular}\n"
      ],
      "text/markdown": [
       "\n",
       "FATAL | ALCOHOL_RELATED | DRUGGED_DRIVER | \n",
       "|---|---|---|---|---|---|\n",
       "| 0 | 0 | 0 | \n",
       "| 0 | 0 | 0 | \n",
       "| 0 | 0 | 0 | \n",
       "| 0 | 0 | 0 | \n",
       "| 0 | 0 | 0 | \n",
       "| 0 | 1 | 0 | \n",
       "\n",
       "\n"
      ],
      "text/plain": [
       "  FATAL ALCOHOL_RELATED DRUGGED_DRIVER\n",
       "1 0     0               0             \n",
       "2 0     0               0             \n",
       "3 0     0               0             \n",
       "4 0     0               0             \n",
       "5 0     0               0             \n",
       "6 0     1               0             "
      ]
     },
     "metadata": {},
     "output_type": "display_data"
    }
   ],
   "source": [
    "#choose those two variables from the dataset\n",
    "select_data2 <- motorcycle_data[c('FATAL','ALCOHOL_RELATED','DRUGGED_DRIVER')]\n",
    "head(select_data2)"
   ]
  },
  {
   "cell_type": "code",
   "execution_count": 74,
   "metadata": {
    "collapsed": true
   },
   "outputs": [],
   "source": [
    "#create equal sample size of fatal and nonfatals\n",
    "input_ones <- select_data[which(select_data2$FATAL == 1), ]  # all 1's\n",
    "input_zeros <- select_data[which(select_data2$FATAL == 0), ]  # all 0's\n",
    "set.seed(100)  # for repeatability of samples\n",
    "input_ones_training_rows <- sample(1:nrow(input_ones), 0.7*nrow(input_ones))  # 1's for training\n",
    "input_zeros_training_rows <- sample(1:nrow(input_zeros), 0.7*nrow(input_ones))  # 0's for training. Pick as many 0's as 1's\n",
    "training_ones <- input_ones[input_ones_training_rows, ]  \n",
    "training_zeros <- input_zeros[input_zeros_training_rows, ]\n",
    "trainingData <- rbind(training_ones, training_zeros)  # row bind the 1's and 0's \n",
    "\n",
    "# Create Test Data\n",
    "test_ones <- input_ones[-input_ones_training_rows, ]\n",
    "test_zeros <- input_zeros[-input_zeros_training_rows, ]\n",
    "testData <- rbind(test_ones, test_zeros)  # row bind the 1's and 0's \n"
   ]
  },
  {
   "cell_type": "code",
   "execution_count": 75,
   "metadata": {
    "collapsed": true
   },
   "outputs": [],
   "source": [
    "#run the regression on the training data that we split out above and calculate predictions on the test data\n",
    "\n",
    "logitMod <- glm(FATAL ~ ALCOHOL_RELATED + DRUGGED_DRIVER, data=trainingData, family=binomial(link=\"logit\"))\n",
    "\n",
    "predicted <- plogis(predict(logitMod, testData))"
   ]
  },
  {
   "cell_type": "code",
   "execution_count": 76,
   "metadata": {},
   "outputs": [
    {
     "data": {
      "text/plain": [
       "\n",
       "Call:\n",
       "glm(formula = FATAL ~ ALCOHOL_RELATED + DRUGGED_DRIVER, family = binomial(link = \"logit\"), \n",
       "    data = trainingData)\n",
       "\n",
       "Deviance Residuals: \n",
       "    Min       1Q   Median       3Q      Max  \n",
       "-2.7270  -1.0034  -0.3908   1.3620   1.3620  \n",
       "\n",
       "Coefficients:\n",
       "                Estimate Std. Error z value Pr(>|z|)    \n",
       "(Intercept)     -0.42417    0.03233 -13.121   <2e-16 ***\n",
       "ALCOHOL_RELATED  1.91518    0.08564  22.364   <2e-16 ***\n",
       "DRUGGED_DRIVER   2.20261    0.26109   8.436   <2e-16 ***\n",
       "---\n",
       "Signif. codes:  0 '***' 0.001 '**' 0.01 '*' 0.05 '.' 0.1 ' ' 1\n",
       "\n",
       "(Dispersion parameter for binomial family taken to be 1)\n",
       "\n",
       "    Null deviance: 7269.7  on 5243  degrees of freedom\n",
       "Residual deviance: 6460.2  on 5241  degrees of freedom\n",
       "AIC: 6466.2\n",
       "\n",
       "Number of Fisher Scoring iterations: 5\n"
      ]
     },
     "metadata": {},
     "output_type": "display_data"
    }
   ],
   "source": [
    "#show a summary of the regression\n",
    "\n",
    "summary(logitMod)"
   ]
  },
  {
   "cell_type": "code",
   "execution_count": 77,
   "metadata": {},
   "outputs": [
    {
     "data": {
      "text/plain": [
       "          Reference\n",
       "Prediction     0     1\n",
       "         0 82756  7383\n",
       "         1   696   429"
      ]
     },
     "metadata": {},
     "output_type": "display_data"
    }
   ],
   "source": [
    "#create basic confusion matrix\n",
    "library(caret)\n",
    "predicted<-ifelse(predicted> 0.5,1,0)\n",
    "cm<- confusionMatrix(testData$FATAL, predicted)\n",
    "cm$table"
   ]
  },
  {
   "cell_type": "markdown",
   "metadata": {},
   "source": [
    "On the new confusion matrix, the overall model is more accurate, but it is even worse at predicting fatalities. Fatal crashes predicted accurately went from 451 to 429."
   ]
  },
  {
   "cell_type": "code",
   "execution_count": 78,
   "metadata": {
    "collapsed": true
   },
   "outputs": [],
   "source": [
    "#create fancy confusion matrix graph\n",
    "\n",
    "draw_confusion_matrix <- function(cm) {\n",
    "\n",
    "  layout(matrix(c(1,1,2)))\n",
    "  par(mar=c(2,2,2,2))\n",
    "  plot(c(100, 345), c(300, 450), type = \"n\", xlab=\"\", ylab=\"\", xaxt='n', yaxt='n')\n",
    "  title('Motorcycle Fatalities', cex.main=2)\n",
    "\n",
    "  # create the matrix \n",
    "  rect(150, 430, 240, 370, col='#4ebce8')\n",
    "  text(195, 435, 'No Fatality', cex=1.2)\n",
    "  rect(250, 430, 340, 370, col='#7c0d18')\n",
    "  text(295, 435, 'Fatality', cex=1.2)\n",
    "  text(125, 370, 'Predicted', cex=1.3, srt=90, font=2)\n",
    "  text(245, 450, 'Actual', cex=1.3, font=2)\n",
    "  rect(150, 305, 240, 365, col='#7c0d18')\n",
    "  rect(250, 305, 340, 365, col='#4ebce8')\n",
    "  text(140, 400, 'No Fatality', cex=1.2, srt=90)\n",
    "  text(140, 335, 'Fatality', cex=1.2, srt=90)\n",
    "\n",
    "  # add in the cm results \n",
    "  res <- as.numeric(cm$table)\n",
    "  text(195, 400, res[1], cex=1.6, font=2, col='white')\n",
    "  text(195, 335, res[2], cex=1.6, font=2, col='white')\n",
    "  text(295, 400, res[3], cex=1.6, font=2, col='white')\n",
    "  text(295, 335, res[4], cex=1.6, font=2, col='white')\n",
    "\n",
    "  # add in the specifics \n",
    "  plot(c(100, 0), c(100, 0), type = \"n\", xlab=\"\", ylab=\"\", main = \"DETAILS\", xaxt='n', yaxt='n')\n",
    "  text(10, 85, names(cm$byClass[1]), cex=1.2, font=2)\n",
    "  text(10, 70, round(as.numeric(cm$byClass[1]), 3), cex=1.2)\n",
    "  text(30, 85, names(cm$byClass[2]), cex=1.2, font=2)\n",
    "  text(30, 70, round(as.numeric(cm$byClass[2]), 3), cex=1.2)\n",
    "  text(50, 85, names(cm$byClass[5]), cex=1.2, font=2)\n",
    "  text(50, 70, round(as.numeric(cm$byClass[5]), 3), cex=1.2)\n",
    "  text(70, 85, names(cm$byClass[6]), cex=1.2, font=2)\n",
    "  text(70, 70, round(as.numeric(cm$byClass[6]), 3), cex=1.2)\n",
    "  text(90, 85, names(cm$byClass[7]), cex=1.2, font=2)\n",
    "  text(90, 70, round(as.numeric(cm$byClass[7]), 3), cex=1.2)\n",
    "\n",
    "  # add in the accuracy information \n",
    "  text(30, 35, names(cm$overall[1]), cex=1.5, font=2)\n",
    "  text(30, 20, round(as.numeric(cm$overall[1]), 3), cex=1.4)\n",
    "  text(70, 35, names(cm$overall[2]), cex=1.5, font=2)\n",
    "  text(70, 20, round(as.numeric(cm$overall[2]), 3), cex=1.4)\n",
    "}  "
   ]
  },
  {
   "cell_type": "code",
   "execution_count": 79,
   "metadata": {
    "scrolled": false
   },
   "outputs": [
    {
     "data": {
      "image/png": "[encoded data removed]",
      "text/plain": [
       "Plot with title \"DETAILS\""
      ]
     },
     "metadata": {},
     "output_type": "display_data"
    }
   ],
   "source": [
    "draw_confusion_matrix(cm)\n"
   ]
  },
  {
   "cell_type": "markdown",
   "metadata": {},
   "source": [
    "In the cell below I just wanted to sum the variables to see how many instances of each kind there were. I used some of that data in my story."
   ]
  },
  {
   "cell_type": "code",
   "execution_count": 80,
   "metadata": {},
   "outputs": [
    {
     "data": {
      "text/html": [
       "8586"
      ],
      "text/latex": [
       "8586"
      ],
      "text/markdown": [
       "8586"
      ],
      "text/plain": [
       "[1] 8586"
      ]
     },
     "metadata": {},
     "output_type": "display_data"
    },
    {
     "data": {
      "text/html": [
       "1038"
      ],
      "text/latex": [
       "1038"
      ],
      "text/markdown": [
       "1038"
      ],
      "text/plain": [
       "[1] 1038"
      ]
     },
     "metadata": {},
     "output_type": "display_data"
    },
    {
     "data": {
      "text/html": [
       "1453"
      ],
      "text/latex": [
       "1453"
      ],
      "text/markdown": [
       "1453"
      ],
      "text/plain": [
       "[1] 1453"
      ]
     },
     "metadata": {},
     "output_type": "display_data"
    },
    {
     "data": {
      "text/html": [
       "1105"
      ],
      "text/latex": [
       "1105"
      ],
      "text/markdown": [
       "1105"
      ],
      "text/plain": [
       "[1] 1105"
      ]
     },
     "metadata": {},
     "output_type": "display_data"
    },
    {
     "data": {
      "text/html": [
       "33"
      ],
      "text/latex": [
       "33"
      ],
      "text/markdown": [
       "33"
      ],
      "text/plain": [
       "[1] 33"
      ]
     },
     "metadata": {},
     "output_type": "display_data"
    }
   ],
   "source": [
    "\n",
    "sum(select_data$ALCOHOL_RELATED)\n",
    "\n",
    "sum(select_data$DRUGGED_DRIVER)\n",
    "\n",
    "sum(select_data$PHANTOM_VEHICLE)\n",
    "\n",
    "sum(select_data$LIMIT_65MPH)\n",
    "\n",
    "sum(select_data$HAZARDOUS_TRUCK)"
   ]
  },
  {
   "cell_type": "code",
   "execution_count": null,
   "metadata": {
    "collapsed": true
   },
   "outputs": [],
   "source": []
  }
 ],
 "metadata": {
  "kernelspec": {
   "display_name": "R",
   "language": "R",
   "name": "ir"
  },
  "language_info": {
   "codemirror_mode": "r",
   "file_extension": ".r",
   "mimetype": "text/x-r-source",
   "name": "R",
   "pygments_lexer": "r",
   "version": "3.4.1"
  }
 },
 "nbformat": 4,
 "nbformat_minor": 2
}
